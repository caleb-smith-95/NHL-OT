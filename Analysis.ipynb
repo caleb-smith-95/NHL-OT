{
 "cells": [
  {
   "cell_type": "markdown",
   "id": "01dadba3",
   "metadata": {},
   "source": [
    "This Jupyter notebook contains the code used for my Medium article on NHL overtime. It also contains a detailed\n",
    "explanation of my reasoning behind each step, for those interested in the more technical side of my analysis"
   ]
  },
  {
   "cell_type": "code",
   "execution_count": 48,
   "id": "6ff3bbaa",
   "metadata": {},
   "outputs": [],
   "source": [
    "from scipy.stats import poisson\n",
    "import matplotlib\n",
    "import pandas as pd\n",
    "import numpy as np\n",
    "import plotly.graph_objects as go\n",
    "import plotly.express as px\n",
    "import time\n",
    "import plotly.figure_factory as ff"
   ]
  },
  {
   "cell_type": "markdown",
   "id": "36e2bb1e",
   "metadata": {},
   "source": [
    "# Create Simulation Functions"
   ]
  },
  {
   "cell_type": "markdown",
   "id": "12570170",
   "metadata": {},
   "source": [
    "There are many possible ways to estimate the number of points Team A is expected to pick up when playing Team B. Probably the most straight-forward is to simulate a number of matchups between teams A and B, and calculate the average number of points Team A earns per game. To do this, I have assumed the number of goals an NHL team scores in a given game is a Poisson random variable, with lambda being the goals per game scored by each team. I then built a function that inputs the goals per game of two generic NHL teams (Team A and Team B), and simulates \"iters\" number of games between these two teams. This function returns a dataframe containing three numbers:\n",
    "- the number of games won by Team A (the number of times in \"iters\" sims where Team A scored more goals than Team B)\n",
    "- the number of games won by Team B (same thing but in reverse)\n",
    "- the number of games in which both teams were tied at the end of regulation"
   ]
  },
  {
   "cell_type": "code",
   "execution_count": 2,
   "id": "5305c43d",
   "metadata": {},
   "outputs": [],
   "source": [
    "# This function returns the frequency with which each team wins and loses in regulation (or goes into OT)\n",
    "# based on the estimated number of goals for each team per game\n",
    "\n",
    "def score_sims(team_a_expected_score, team_b_expected_score, iters):\n",
    "    a_goals = poisson.rvs(team_a_expected_score, size = iters + 3) # Poisson sim of goals scored in \"iters\" number of games\n",
    "    b_goals = poisson.rvs(team_b_expected_score, size = iters + 3) # The \"+ 3\" is to counteract extreme sims where one team never wins. These 3 extra sims will be taken away later\n",
    "    margin = a_goals - b_goals # margin of victory is the number of goals Team A score - goals Team B scores\n",
    "    \n",
    "    winner = ['A', 'B', 'OT'] # Each possible outcome is preloaded to account for extreme sims where one team never wins\n",
    "    for i in range(iters): # for each iteration (game)\n",
    "        if margin[i] > 0: \n",
    "            winner.append('A') # if Team A scores more goals, they win\n",
    "        elif margin[i] < 0: \n",
    "            winner.append('B') # if Team B scores more goals, they win\n",
    "        else:\n",
    "            winner.append('OT') # if the teams are tied, they go into overtime\n",
    "    \n",
    "    games_dict = {'Team A Score': a_goals, 'Team B Score': b_goals, 'Margin': margin, 'Winner': winner}\n",
    "    games_df = pd.DataFrame.from_dict(games_dict) # A dataframe that keeps track of the results of every game\n",
    "    \n",
    "    # margin_df = games_df.groupby('Margin').count().drop(['Team A Score', 'Team B Score'], axis = 1)\n",
    "    # margin_df.rename(columns = {'Winner': 'Frequency'}, inplace = True)\n",
    "    \n",
    "    winner_df = games_df.groupby('Winner').count().drop(['Team A Score', 'Team B Score'], axis = 1)\n",
    "    winner_df.rename(columns = {'Margin': 'Frequency'}, inplace = True) # A dataframe that counts the frequency of how many games are won in regulation by either Team A or B, and how many go into OT \n",
    "    \n",
    "    return(winner_df - 1) # the \"-1\" subtracts off the preloaded values"
   ]
  },
  {
   "cell_type": "markdown",
   "id": "2d203f5b",
   "metadata": {},
   "source": [
    "Example output: according to our simulation, if Team A (which scores 4 goals a game) and Team B (which scores 3) meet 10,000 times, Team A wins 5,738 times, Team B wins 2,861, and regulation ends with both teams tied 1,401 times. This means we expect Team A to win about 57% of such games in regulation, Team B to win about 29%, and neither team to win in regulation about 14% of the time."
   ]
  },
  {
   "cell_type": "code",
   "execution_count": 3,
   "id": "88dd8344",
   "metadata": {},
   "outputs": [
    {
     "data": {
      "text/html": [
       "<div>\n",
       "<style scoped>\n",
       "    .dataframe tbody tr th:only-of-type {\n",
       "        vertical-align: middle;\n",
       "    }\n",
       "\n",
       "    .dataframe tbody tr th {\n",
       "        vertical-align: top;\n",
       "    }\n",
       "\n",
       "    .dataframe thead th {\n",
       "        text-align: right;\n",
       "    }\n",
       "</style>\n",
       "<table border=\"1\" class=\"dataframe\">\n",
       "  <thead>\n",
       "    <tr style=\"text-align: right;\">\n",
       "      <th></th>\n",
       "      <th>Frequency</th>\n",
       "    </tr>\n",
       "    <tr>\n",
       "      <th>Winner</th>\n",
       "      <th></th>\n",
       "    </tr>\n",
       "  </thead>\n",
       "  <tbody>\n",
       "    <tr>\n",
       "      <th>A</th>\n",
       "      <td>5738</td>\n",
       "    </tr>\n",
       "    <tr>\n",
       "      <th>B</th>\n",
       "      <td>2861</td>\n",
       "    </tr>\n",
       "    <tr>\n",
       "      <th>OT</th>\n",
       "      <td>1401</td>\n",
       "    </tr>\n",
       "  </tbody>\n",
       "</table>\n",
       "</div>"
      ],
      "text/plain": [
       "        Frequency\n",
       "Winner           \n",
       "A            5738\n",
       "B            2861\n",
       "OT           1401"
      ]
     },
     "execution_count": 3,
     "metadata": {},
     "output_type": "execute_result"
    }
   ],
   "source": [
    "np.random.seed(1)\n",
    "ex_sim = score_sims(4, 3, 10000)\n",
    "ex_sim"
   ]
  },
  {
   "cell_type": "markdown",
   "id": "27384ebc",
   "metadata": {},
   "source": [
    "Now it's time to assign point values to these simulated results. Each win is worth 2 points, while each loss in regulation is worth nothing. Based on my reasoning from the article, I will assume that once OT is reached, each team has a 50% chance of winning. Because the winner in OT still receives 2 points, but the loser now receives 1, this means both teams are expected to receive 1.5 points (on average) when they make it to OT."
   ]
  },
  {
   "cell_type": "code",
   "execution_count": 4,
   "id": "7a92df9d",
   "metadata": {},
   "outputs": [],
   "source": [
    "# This function takes the results of the first function, and determines the expected number of \"Points\" Team A\n",
    "# is expected to gain in the standings when it plays Team B once\n",
    "\n",
    "def ex_points(winner_df):\n",
    "    total = winner_df.sum() # Total number of iterations (games)\n",
    "    A_pct = winner_df.iloc[0] / total\n",
    "    B_pct = winner_df.iloc[1] /total\n",
    "    ot_pct = winner_df.iloc[2] / total\n",
    "    \n",
    "    points = A_pct*2 + ot_pct*1.5 # Everytime Team A wins, they get 2 points. Every time they go into OT, they get either 1 or 2. Assuming OT is 50/50, Team A gets 1.5 points per OT game\n",
    "    \n",
    "    return(points)"
   ]
  },
  {
   "cell_type": "markdown",
   "id": "36bd166e",
   "metadata": {},
   "source": [
    "Using the same sim we ran above, we conclude that Team A is expected to earn about 1.39 points every time they play Team B."
   ]
  },
  {
   "cell_type": "code",
   "execution_count": 5,
   "id": "700c4fe3",
   "metadata": {},
   "outputs": [
    {
     "data": {
      "text/plain": [
       "Frequency    1.35775\n",
       "dtype: float64"
      ]
     },
     "execution_count": 5,
     "metadata": {},
     "output_type": "execute_result"
    }
   ],
   "source": [
    "ex_points(ex_sim)"
   ]
  },
  {
   "cell_type": "code",
   "execution_count": 6,
   "id": "ef0f8888",
   "metadata": {},
   "outputs": [],
   "source": [
    "# This function combines the first two functions in a succinct way. The only purpose of this is that, instead of\n",
    "# having to run two functions every time you want to calculate expected points, you only have to run one\n",
    "\n",
    "def point_sims(team_a_expected_score, team_b_expected_score, iters):\n",
    "    winner_df = score_sims(team_a_expected_score, team_b_expected_score, iters)\n",
    "    points = ex_points(winner_df)\n",
    "    \n",
    "    return(points)"
   ]
  },
  {
   "cell_type": "code",
   "execution_count": 7,
   "id": "0a031e6a",
   "metadata": {},
   "outputs": [
    {
     "data": {
      "text/plain": [
       "Frequency    1.35775\n",
       "dtype: float64"
      ]
     },
     "execution_count": 7,
     "metadata": {},
     "output_type": "execute_result"
    }
   ],
   "source": [
    "np.random.seed(1)\n",
    "point_sims(4, 3, 10000)"
   ]
  },
  {
   "cell_type": "markdown",
   "id": "f1aa6ec9",
   "metadata": {},
   "source": [
    "# Actual Results"
   ]
  },
  {
   "cell_type": "markdown",
   "id": "1c75380d",
   "metadata": {},
   "source": [
    "The database below was created in the \"Goal Dif Pre-Process\" notebook. For information on how it was compiled, please visit that page."
   ]
  },
  {
   "cell_type": "code",
   "execution_count": 8,
   "id": "37fc8fdd",
   "metadata": {},
   "outputs": [
    {
     "data": {
      "text/html": [
       "<div>\n",
       "<style scoped>\n",
       "    .dataframe tbody tr th:only-of-type {\n",
       "        vertical-align: middle;\n",
       "    }\n",
       "\n",
       "    .dataframe tbody tr th {\n",
       "        vertical-align: top;\n",
       "    }\n",
       "\n",
       "    .dataframe thead th {\n",
       "        text-align: right;\n",
       "    }\n",
       "</style>\n",
       "<table border=\"1\" class=\"dataframe\">\n",
       "  <thead>\n",
       "    <tr style=\"text-align: right;\">\n",
       "      <th></th>\n",
       "      <th>Team</th>\n",
       "      <th>Games Played</th>\n",
       "      <th>Goals Scored</th>\n",
       "      <th>GSPG</th>\n",
       "      <th>Goals Allowed</th>\n",
       "      <th>GAPG</th>\n",
       "      <th>Year</th>\n",
       "      <th>Conference</th>\n",
       "    </tr>\n",
       "  </thead>\n",
       "  <tbody>\n",
       "    <tr>\n",
       "      <th>0</th>\n",
       "      <td>Philadelphia Flyers*</td>\n",
       "      <td>82</td>\n",
       "      <td>267</td>\n",
       "      <td>3.3</td>\n",
       "      <td>259</td>\n",
       "      <td>3.2</td>\n",
       "      <td>2006</td>\n",
       "      <td>East</td>\n",
       "    </tr>\n",
       "    <tr>\n",
       "      <th>1</th>\n",
       "      <td>New Jersey Devils*</td>\n",
       "      <td>82</td>\n",
       "      <td>242</td>\n",
       "      <td>3.0</td>\n",
       "      <td>229</td>\n",
       "      <td>2.8</td>\n",
       "      <td>2006</td>\n",
       "      <td>East</td>\n",
       "    </tr>\n",
       "    <tr>\n",
       "      <th>2</th>\n",
       "      <td>New York Rangers*</td>\n",
       "      <td>82</td>\n",
       "      <td>257</td>\n",
       "      <td>3.1</td>\n",
       "      <td>215</td>\n",
       "      <td>2.6</td>\n",
       "      <td>2006</td>\n",
       "      <td>East</td>\n",
       "    </tr>\n",
       "    <tr>\n",
       "      <th>3</th>\n",
       "      <td>New York Islanders</td>\n",
       "      <td>82</td>\n",
       "      <td>230</td>\n",
       "      <td>2.8</td>\n",
       "      <td>278</td>\n",
       "      <td>3.4</td>\n",
       "      <td>2006</td>\n",
       "      <td>East</td>\n",
       "    </tr>\n",
       "    <tr>\n",
       "      <th>4</th>\n",
       "      <td>Pittsburgh Penguins</td>\n",
       "      <td>82</td>\n",
       "      <td>244</td>\n",
       "      <td>3.0</td>\n",
       "      <td>316</td>\n",
       "      <td>3.9</td>\n",
       "      <td>2006</td>\n",
       "      <td>East</td>\n",
       "    </tr>\n",
       "    <tr>\n",
       "      <th>...</th>\n",
       "      <td>...</td>\n",
       "      <td>...</td>\n",
       "      <td>...</td>\n",
       "      <td>...</td>\n",
       "      <td>...</td>\n",
       "      <td>...</td>\n",
       "      <td>...</td>\n",
       "      <td>...</td>\n",
       "    </tr>\n",
       "    <tr>\n",
       "      <th>480</th>\n",
       "      <td>Vegas Golden Knights</td>\n",
       "      <td>82</td>\n",
       "      <td>266</td>\n",
       "      <td>3.2</td>\n",
       "      <td>248</td>\n",
       "      <td>3.0</td>\n",
       "      <td>2022</td>\n",
       "      <td>West</td>\n",
       "    </tr>\n",
       "    <tr>\n",
       "      <th>481</th>\n",
       "      <td>Vancouver Canucks</td>\n",
       "      <td>82</td>\n",
       "      <td>249</td>\n",
       "      <td>3.0</td>\n",
       "      <td>236</td>\n",
       "      <td>2.9</td>\n",
       "      <td>2022</td>\n",
       "      <td>West</td>\n",
       "    </tr>\n",
       "    <tr>\n",
       "      <th>482</th>\n",
       "      <td>San Jose Sharks</td>\n",
       "      <td>82</td>\n",
       "      <td>214</td>\n",
       "      <td>2.6</td>\n",
       "      <td>264</td>\n",
       "      <td>3.2</td>\n",
       "      <td>2022</td>\n",
       "      <td>West</td>\n",
       "    </tr>\n",
       "    <tr>\n",
       "      <th>483</th>\n",
       "      <td>Anaheim Ducks</td>\n",
       "      <td>82</td>\n",
       "      <td>232</td>\n",
       "      <td>2.8</td>\n",
       "      <td>271</td>\n",
       "      <td>3.3</td>\n",
       "      <td>2022</td>\n",
       "      <td>West</td>\n",
       "    </tr>\n",
       "    <tr>\n",
       "      <th>484</th>\n",
       "      <td>Seattle Kraken</td>\n",
       "      <td>82</td>\n",
       "      <td>216</td>\n",
       "      <td>2.6</td>\n",
       "      <td>285</td>\n",
       "      <td>3.5</td>\n",
       "      <td>2022</td>\n",
       "      <td>West</td>\n",
       "    </tr>\n",
       "  </tbody>\n",
       "</table>\n",
       "<p>485 rows × 8 columns</p>\n",
       "</div>"
      ],
      "text/plain": [
       "                     Team  Games Played  Goals Scored  GSPG  Goals Allowed  \\\n",
       "0    Philadelphia Flyers*            82           267   3.3            259   \n",
       "1      New Jersey Devils*            82           242   3.0            229   \n",
       "2       New York Rangers*            82           257   3.1            215   \n",
       "3      New York Islanders            82           230   2.8            278   \n",
       "4     Pittsburgh Penguins            82           244   3.0            316   \n",
       "..                    ...           ...           ...   ...            ...   \n",
       "480  Vegas Golden Knights            82           266   3.2            248   \n",
       "481     Vancouver Canucks            82           249   3.0            236   \n",
       "482       San Jose Sharks            82           214   2.6            264   \n",
       "483         Anaheim Ducks            82           232   2.8            271   \n",
       "484        Seattle Kraken            82           216   2.6            285   \n",
       "\n",
       "     GAPG  Year Conference  \n",
       "0     3.2  2006       East  \n",
       "1     2.8  2006       East  \n",
       "2     2.6  2006       East  \n",
       "3     3.4  2006       East  \n",
       "4     3.9  2006       East  \n",
       "..    ...   ...        ...  \n",
       "480   3.0  2022       West  \n",
       "481   2.9  2022       West  \n",
       "482   3.2  2022       West  \n",
       "483   3.3  2022       West  \n",
       "484   3.5  2022       West  \n",
       "\n",
       "[485 rows x 8 columns]"
      ]
     },
     "execution_count": 8,
     "metadata": {},
     "output_type": "execute_result"
    }
   ],
   "source": [
    "goal_dif = pd.read_csv('/Users/calebsmith/Documents/Personal Projects/NHL OT/Goal Diffs.csv')\n",
    "goal_dif"
   ]
  },
  {
   "cell_type": "code",
   "execution_count": 9,
   "id": "d9cf9f05",
   "metadata": {},
   "outputs": [
    {
     "data": {
      "text/plain": [
       "4.1"
      ]
     },
     "execution_count": 9,
     "metadata": {},
     "output_type": "execute_result"
    }
   ],
   "source": [
    "max_goals = goal_dif['GSPG'].max()\n",
    "max_goals"
   ]
  },
  {
   "cell_type": "code",
   "execution_count": 10,
   "id": "258a7111",
   "metadata": {},
   "outputs": [
    {
     "data": {
      "text/plain": [
       "1.9"
      ]
     },
     "execution_count": 10,
     "metadata": {},
     "output_type": "execute_result"
    }
   ],
   "source": [
    "min_goals = goal_dif['GSPG'].min()\n",
    "min_goals"
   ]
  },
  {
   "cell_type": "code",
   "execution_count": null,
   "id": "3b6d13ca",
   "metadata": {},
   "outputs": [],
   "source": []
  },
  {
   "cell_type": "markdown",
   "id": "ee1042b6",
   "metadata": {},
   "source": [
    "# Expected Points Matrix"
   ]
  },
  {
   "cell_type": "markdown",
   "id": "17f1f638",
   "metadata": {},
   "source": [
    "We now come to the game theory portion of this analysis: when should 2 teams agree to \"intentionally\" take a game into OT. As was discussed in my article, the first criteria is that the teams should be in opposite conferences. The second criteria is a bit more technical: any time both teams are expected to leave a game with less than 1.5 points, they should agree to take it into OT. The reasoning is simple: if we assume that OT is a 50/50 affair, then the expected outcome of an OT game for both teams is 1.5 points. This is obviously better for both teams than an expected outcome below this.\n",
    "\n",
    "And this is where game theory comes in: we need to assume that both teams will act rationally. Because, from a purely rational standpoint, this would be the right thing to do. Any concern for \"sportsmanship\" or \"pride\" have no effect in an economically \"rational\" view of the world. "
   ]
  },
  {
   "cell_type": "code",
   "execution_count": 11,
   "id": "6a63283f",
   "metadata": {},
   "outputs": [],
   "source": [
    "# We now need to do many sims of many different expected scores to determine when two teams should \"intentionally\"\n",
    "# go to overtime. To do this, I'll assume a wide range of possible expected outcomes: everything from a team being\n",
    "# expected to score 1 goals per game against another team, all the way to a team being expected to score 5 goals.\n",
    "# This is a bit wider of a range than we really need: from the results above, we know the real range to be \n",
    "# 1.9 to 4.1 goals per game.\n",
    "\n",
    "def sims_dist(iters):\n",
    "    num_list = []\n",
    "    for n in range(10,50,1):\n",
    "        num_list.append(n/10) # This creates a list of numbers from 1 to 4.9, with step 0.1\n",
    "        \n",
    "    results_array = np.zeros((40,40)) # Create a 40 by 40 array to hold expected points\n",
    "    \n",
    "    for r in range(len(num_list)):\n",
    "        for c in range(len(num_list)):\n",
    "            results_array[r, c] = point_sims(num_list[c], num_list[r], iters) # This calculates the expected number of points received per game from every possible outcome from 0.1-0.1, all the way to 10-10, and stores them in the array we just created. A reminder that these numbers are expected scores, so for example, a game with an expected outcome of 4-3 won't necessarily end that way.\n",
    "            \n",
    "    return(results_array)"
   ]
  },
  {
   "cell_type": "markdown",
   "id": "ac4e84b9",
   "metadata": {},
   "source": [
    "The array below contains the projected points earned by Team A for every possible combination of expected scores between 1 and 5:"
   ]
  },
  {
   "cell_type": "code",
   "execution_count": 12,
   "id": "de725a55",
   "metadata": {},
   "outputs": [
    {
     "data": {
      "text/plain": [
       "array([[1.165  , 1.20105, 1.2302 , ..., 1.92135, 1.92195, 1.9246 ],\n",
       "       [1.09215, 1.13635, 1.1866 , ..., 1.90325, 1.9053 , 1.91775],\n",
       "       [1.03875, 1.0933 , 1.13935, ..., 1.89   , 1.897  , 1.9022 ],\n",
       "       ...,\n",
       "       [0.13945, 0.1415 , 0.1725 , ..., 1.059  , 1.093  , 1.1096 ],\n",
       "       [0.1265 , 0.14425, 0.16045, ..., 1.0493 , 1.0676 , 1.0788 ],\n",
       "       [0.11305, 0.141  , 0.1514 , ..., 0.99805, 1.0471 , 1.0653 ]])"
      ]
     },
     "execution_count": 12,
     "metadata": {},
     "output_type": "execute_result"
    }
   ],
   "source": [
    "np.random.seed(1)\n",
    "sims_array = sims_dist(10000)\n",
    "sims_array"
   ]
  },
  {
   "cell_type": "markdown",
   "id": "8af32cbc",
   "metadata": {},
   "source": [
    "# Visualizations"
   ]
  },
  {
   "cell_type": "code",
   "execution_count": 101,
   "id": "0dad0d61",
   "metadata": {},
   "outputs": [
    {
     "data": {
      "application/vnd.plotly.v1+json": {
       "config": {
        "plotlyServerURL": "https://plot.ly"
       },
       "data": [
        {
         "colorbar": {
          "title": {
           "text": "Points"
          }
         },
         "type": "heatmap",
         "x": [
          1,
          1.1,
          1.2,
          1.3,
          1.4,
          1.5,
          1.6,
          1.7,
          1.8,
          1.9,
          2,
          2.1,
          2.2,
          2.3,
          2.4,
          2.5,
          2.6,
          2.7,
          2.8,
          2.9,
          3,
          3.1,
          3.2,
          3.3,
          3.4,
          3.5,
          3.6,
          3.7,
          3.8,
          3.9,
          4,
          4.1,
          4.2,
          4.3,
          4.4,
          4.5,
          4.6,
          4.7,
          4.8,
          4.9
         ],
         "y": [
          1,
          1.1,
          1.2,
          1.3,
          1.4,
          1.5,
          1.6,
          1.7,
          1.8,
          1.9,
          2,
          2.1,
          2.2,
          2.3,
          2.4,
          2.5,
          2.6,
          2.7,
          2.8,
          2.9,
          3,
          3.1,
          3.2,
          3.3,
          3.4,
          3.5,
          3.6,
          3.7,
          3.8,
          3.9,
          4,
          4.1,
          4.2,
          4.3,
          4.4,
          4.5,
          4.6,
          4.7,
          4.8,
          4.9
         ],
         "z": [
          [
           1.165,
           1.20105,
           1.2302,
           1.2849,
           1.3319,
           1.36285,
           1.3916,
           1.4457,
           1.4713,
           1.5166,
           1.52095,
           1.5490499999999998,
           1.5857,
           1.58985,
           1.6175000000000002,
           1.6541000000000001,
           1.6658,
           1.68455,
           1.7094,
           1.7338,
           1.7567,
           1.7714,
           1.78115,
           1.7856999999999998,
           1.8021500000000001,
           1.8214000000000001,
           1.8414,
           1.83595,
           1.8397999999999999,
           1.8613499999999998,
           1.8605500000000001,
           1.8800000000000001,
           1.87995,
           1.8967500000000002,
           1.896,
           1.89705,
           1.9097,
           1.92135,
           1.9219499999999998,
           1.9245999999999999
          ],
          [
           1.09215,
           1.13635,
           1.1865999999999999,
           1.21895,
           1.27055,
           1.31165,
           1.3455,
           1.388,
           1.41605,
           1.4509,
           1.4814,
           1.50995,
           1.5523,
           1.57975,
           1.59635,
           1.6134499999999998,
           1.6337000000000002,
           1.6659,
           1.6803000000000001,
           1.6968999999999999,
           1.7201,
           1.7338500000000001,
           1.7438500000000001,
           1.7568,
           1.7795,
           1.7871,
           1.8061500000000001,
           1.8186,
           1.8338999999999999,
           1.8405,
           1.84695,
           1.8596,
           1.8671,
           1.87565,
           1.8828,
           1.89165,
           1.8988500000000001,
           1.9032499999999999,
           1.9053,
           1.91775
          ],
          [
           1.03875,
           1.0933,
           1.1393499999999999,
           1.17475,
           1.2152,
           1.2652999999999999,
           1.3167,
           1.3575,
           1.3877000000000002,
           1.408,
           1.4276,
           1.4694,
           1.4963499999999998,
           1.52395,
           1.56695,
           1.57645,
           1.6033,
           1.6273,
           1.64115,
           1.6633,
           1.6793500000000001,
           1.7017499999999999,
           1.71505,
           1.73535,
           1.76125,
           1.7710499999999998,
           1.7803,
           1.79365,
           1.8108,
           1.8228,
           1.83015,
           1.83705,
           1.8473000000000002,
           1.86535,
           1.8682999999999998,
           1.8680999999999999,
           1.88645,
           1.89,
           1.897,
           1.9022
          ],
          [
           1.0072,
           1.0446499999999999,
           1.1116000000000001,
           1.1349,
           1.17205,
           1.21885,
           1.2529,
           1.29995,
           1.33095,
           1.3615,
           1.39215,
           1.4217,
           1.4746000000000001,
           1.4892,
           1.51225,
           1.54015,
           1.5660500000000002,
           1.59715,
           1.6085,
           1.6331,
           1.6511,
           1.6709999999999998,
           1.68915,
           1.7246000000000001,
           1.7384,
           1.74,
           1.76315,
           1.78475,
           1.7945,
           1.80005,
           1.8082,
           1.82415,
           1.8310499999999998,
           1.8391,
           1.8446,
           1.8603,
           1.8683,
           1.8767,
           1.8872,
           1.8906
          ],
          [
           0.9517499999999999,
           1.0034,
           1.05,
           1.0722,
           1.12955,
           1.2015,
           1.2009,
           1.2476,
           1.28515,
           1.3298,
           1.3449499999999999,
           1.3819,
           1.4105499999999997,
           1.4516499999999999,
           1.4731,
           1.5078999999999998,
           1.5272999999999999,
           1.5632,
           1.56835,
           1.6000999999999999,
           1.6399,
           1.6451,
           1.6502,
           1.6798,
           1.6974,
           1.719,
           1.73285,
           1.7517500000000001,
           1.75575,
           1.7702,
           1.7905,
           1.81135,
           1.81425,
           1.8239,
           1.8349,
           1.8393,
           1.85665,
           1.8667,
           1.8764999999999998,
           1.88175
          ],
          [
           0.8958999999999999,
           0.9369000000000001,
           0.9861000000000001,
           1.0314,
           1.0737999999999999,
           1.11825,
           1.18405,
           1.1958,
           1.2373,
           1.2642,
           1.3099,
           1.34555,
           1.3729,
           1.4031,
           1.4245999999999999,
           1.4593500000000001,
           1.4871,
           1.5265,
           1.5412000000000001,
           1.56565,
           1.58365,
           1.61775,
           1.6391,
           1.645,
           1.6764999999999999,
           1.6833999999999998,
           1.71055,
           1.71725,
           1.7338,
           1.75685,
           1.76635,
           1.7751000000000001,
           1.787,
           1.802,
           1.8106499999999999,
           1.82865,
           1.8324,
           1.8456000000000001,
           1.85795,
           1.8568
          ],
          [
           0.8543499999999999,
           0.88825,
           0.9424,
           0.9884,
           1.03055,
           1.0691,
           1.1254,
           1.1632,
           1.18965,
           1.2345,
           1.2674,
           1.3075999999999999,
           1.3279999999999998,
           1.3829500000000001,
           1.39345,
           1.4289,
           1.4564,
           1.49615,
           1.51315,
           1.5355500000000002,
           1.5524,
           1.57,
           1.6070499999999999,
           1.6198,
           1.64055,
           1.66485,
           1.69405,
           1.68825,
           1.7153,
           1.72445,
           1.7441,
           1.75945,
           1.771,
           1.79055,
           1.795,
           1.812,
           1.809,
           1.8263500000000001,
           1.8361,
           1.84405
          ],
          [
           0.7878000000000001,
           0.8444499999999999,
           0.89695,
           0.9592499999999999,
           0.99325,
           1.0305,
           1.07695,
           1.1149499999999999,
           1.1418,
           1.1799,
           1.24265,
           1.27095,
           1.2914,
           1.3329499999999999,
           1.3599999999999999,
           1.3900000000000001,
           1.4284500000000002,
           1.4476,
           1.4756,
           1.4859,
           1.5015999999999998,
           1.54445,
           1.5662,
           1.58605,
           1.6013000000000002,
           1.6388,
           1.6542,
           1.66135,
           1.6872500000000001,
           1.7071,
           1.71975,
           1.7292,
           1.75785,
           1.7647,
           1.77285,
           1.79035,
           1.7984,
           1.81905,
           1.81785,
           1.8296999999999999
          ],
          [
           0.754,
           0.8123,
           0.8437,
           0.89295,
           0.9390000000000001,
           0.9851,
           1.0333999999999999,
           1.0664,
           1.1045,
           1.15515,
           1.1808,
           1.21255,
           1.264,
           1.30945,
           1.32555,
           1.35185,
           1.3771,
           1.41235,
           1.4345500000000002,
           1.46315,
           1.48175,
           1.52515,
           1.5466499999999999,
           1.564,
           1.5695000000000001,
           1.6137000000000001,
           1.63075,
           1.64035,
           1.65935,
           1.6727,
           1.69515,
           1.71235,
           1.7257,
           1.7401,
           1.7466499999999998,
           1.7601499999999999,
           1.773,
           1.79245,
           1.7993999999999999,
           1.81085
          ],
          [
           0.7277499999999999,
           0.76105,
           0.8198,
           0.8662,
           0.9005,
           0.95425,
           0.9812,
           1.0207,
           1.0547,
           1.1078999999999999,
           1.1360999999999999,
           1.1726,
           1.20575,
           1.2498,
           1.2894999999999999,
           1.3088,
           1.33925,
           1.371,
           1.41105,
           1.42855,
           1.4584000000000001,
           1.4782,
           1.49745,
           1.5391499999999998,
           1.5523,
           1.59305,
           1.57315,
           1.6225,
           1.6336,
           1.65485,
           1.6554,
           1.6773,
           1.7049999999999998,
           1.71185,
           1.737,
           1.74845,
           1.7519,
           1.7736,
           1.7724,
           1.8034
          ],
          [
           0.6877,
           0.7241,
           0.7778,
           0.8387,
           0.8492000000000001,
           0.90975,
           0.94235,
           0.9883500000000001,
           1.01805,
           1.0838999999999999,
           1.11405,
           1.1357499999999998,
           1.17285,
           1.2115,
           1.25895,
           1.2658,
           1.3074999999999999,
           1.33,
           1.3668999999999998,
           1.3972499999999999,
           1.4376499999999999,
           1.45285,
           1.46605,
           1.49295,
           1.51655,
           1.5325,
           1.57185,
           1.5883,
           1.5889499999999999,
           1.6139000000000001,
           1.64645,
           1.6574,
           1.6725,
           1.69665,
           1.7016,
           1.70795,
           1.7366499999999998,
           1.74145,
           1.75335,
           1.77715
          ],
          [
           0.64615,
           0.7053,
           0.7363,
           0.7657499999999999,
           0.8186,
           0.87185,
           0.88635,
           0.9589000000000001,
           0.9696,
           1.0391,
           1.0596,
           1.10045,
           1.1446,
           1.1735,
           1.202,
           1.23225,
           1.26865,
           1.2971,
           1.3271,
           1.3689,
           1.37845,
           1.42265,
           1.4413,
           1.45095,
           1.4880499999999999,
           1.5099500000000001,
           1.54115,
           1.5605000000000002,
           1.5847,
           1.5983,
           1.6205,
           1.63065,
           1.65625,
           1.6852,
           1.6899000000000002,
           1.70635,
           1.70435,
           1.73215,
           1.74245,
           1.7537500000000001
          ],
          [
           0.6069,
           0.6444000000000001,
           0.7002999999999999,
           0.74695,
           0.7807999999999999,
           0.8312999999999999,
           0.87385,
           0.9117999999999999,
           0.95025,
           0.9809,
           1.02735,
           1.0647,
           1.0878,
           1.13165,
           1.17705,
           1.20055,
           1.23175,
           1.25955,
           1.30195,
           1.3216,
           1.33505,
           1.38785,
           1.42665,
           1.4338,
           1.4654,
           1.4827000000000001,
           1.4872,
           1.53165,
           1.53735,
           1.5622500000000001,
           1.5812,
           1.60545,
           1.64185,
           1.6433499999999999,
           1.6643000000000001,
           1.6821,
           1.6892,
           1.7079,
           1.7201499999999998,
           1.73535
          ],
          [
           0.57525,
           0.6311,
           0.6603,
           0.7153,
           0.7594000000000001,
           0.77905,
           0.83125,
           0.9055,
           0.9259000000000001,
           0.9677,
           0.99685,
           1.01215,
           1.0598,
           1.1016,
           1.1264500000000002,
           1.1591500000000001,
           1.2,
           1.2286000000000001,
           1.2521499999999999,
           1.2825000000000002,
           1.3119,
           1.3506,
           1.3745,
           1.41135,
           1.4327,
           1.4588,
           1.46645,
           1.51975,
           1.52765,
           1.5407,
           1.5621,
           1.5827499999999999,
           1.5883500000000002,
           1.6205,
           1.64005,
           1.6561,
           1.6665,
           1.7006,
           1.69685,
           1.7201
          ],
          [
           0.5422,
           0.58935,
           0.6276999999999999,
           0.6701999999999999,
           0.7104999999999999,
           0.763,
           0.8066,
           0.8379000000000001,
           0.8689,
           0.8991,
           0.95515,
           0.99095,
           1.0083,
           1.0373999999999999,
           1.10615,
           1.1425,
           1.16105,
           1.1853500000000001,
           1.22685,
           1.2433,
           1.2962,
           1.3067,
           1.3375,
           1.3741999999999999,
           1.40295,
           1.4299499999999998,
           1.4593500000000001,
           1.4695,
           1.48695,
           1.5065,
           1.5359,
           1.5617,
           1.58785,
           1.5897,
           1.6070499999999999,
           1.63615,
           1.64545,
           1.6559,
           1.67815,
           1.7003
          ],
          [
           0.5136499999999999,
           0.5622,
           0.5976,
           0.642,
           0.6751499999999999,
           0.7285,
           0.75955,
           0.7939,
           0.82805,
           0.8711499999999999,
           0.9133,
           0.9592,
           0.9935499999999999,
           1.0253,
           1.0766,
           1.10365,
           1.12365,
           1.1613,
           1.20805,
           1.2258,
           1.2495,
           1.287,
           1.3212,
           1.3293499999999998,
           1.3733499999999998,
           1.39705,
           1.40665,
           1.45065,
           1.4696,
           1.4813,
           1.5062,
           1.5202,
           1.5501500000000001,
           1.5845,
           1.5786,
           1.6002,
           1.6112,
           1.64305,
           1.6502,
           1.68125
          ],
          [
           0.48,
           0.52415,
           0.5597,
           0.5927499999999999,
           0.66365,
           0.69155,
           0.7196,
           0.76815,
           0.798,
           0.84005,
           0.86925,
           0.9089,
           0.93485,
           0.9974999999999999,
           1.0174500000000002,
           1.04835,
           1.08825,
           1.13355,
           1.13565,
           1.1719,
           1.2158,
           1.2577500000000001,
           1.2649499999999998,
           1.3102,
           1.3466,
           1.3506,
           1.378,
           1.41395,
           1.42825,
           1.4551500000000002,
           1.47035,
           1.5037500000000001,
           1.5320999999999998,
           1.5383,
           1.5593499999999998,
           1.5742500000000001,
           1.5986,
           1.61475,
           1.6311499999999999,
           1.6595
          ],
          [
           0.46515,
           0.5025999999999999,
           0.53905,
           0.579,
           0.6222,
           0.65825,
           0.6818,
           0.7378500000000001,
           0.773,
           0.8164,
           0.8464,
           0.88595,
           0.90825,
           0.9422999999999999,
           0.9577,
           1.0345,
           1.0577,
           1.0949499999999999,
           1.12835,
           1.13895,
           1.1784,
           1.2202,
           1.2460499999999999,
           1.25645,
           1.2827,
           1.3221500000000002,
           1.3477000000000001,
           1.3858,
           1.4014,
           1.4287,
           1.4379000000000002,
           1.47085,
           1.4875,
           1.5186,
           1.5351,
           1.5587,
           1.57805,
           1.5905,
           1.6039999999999999,
           1.6274000000000002
          ],
          [
           0.42755,
           0.471,
           0.5206500000000001,
           0.55475,
           0.58525,
           0.61285,
           0.6568,
           0.7081999999999999,
           0.7443,
           0.7643500000000001,
           0.8232999999999999,
           0.85405,
           0.8863,
           0.9424,
           0.95295,
           0.98625,
           1.0169000000000001,
           1.0459,
           1.08425,
           1.10615,
           1.1453,
           1.1872,
           1.208,
           1.2302,
           1.2518000000000002,
           1.2974,
           1.3321500000000002,
           1.35115,
           1.3723,
           1.4137,
           1.42485,
           1.45045,
           1.45085,
           1.47875,
           1.5011,
           1.5362500000000001,
           1.5489,
           1.5504,
           1.5914,
           1.5848499999999999
          ],
          [
           0.4014,
           0.45385,
           0.48769999999999997,
           0.5241499999999999,
           0.56085,
           0.5911,
           0.625,
           0.65455,
           0.6891,
           0.72975,
           0.7800999999999999,
           0.8154,
           0.87435,
           0.89235,
           0.9198500000000001,
           0.9475500000000001,
           0.9612,
           1.0265499999999999,
           1.04935,
           1.0716999999999999,
           1.12115,
           1.1498,
           1.17035,
           1.20675,
           1.22825,
           1.2792000000000001,
           1.2844,
           1.3294,
           1.32575,
           1.3524500000000002,
           1.3913499999999999,
           1.41125,
           1.4244,
           1.45575,
           1.4844499999999998,
           1.5003,
           1.52295,
           1.54495,
           1.56935,
           1.58085
          ],
          [
           0.3902,
           0.40855,
           0.46304999999999996,
           0.48150000000000004,
           0.5327,
           0.5606500000000001,
           0.606,
           0.64135,
           0.6764,
           0.70765,
           0.731,
           0.7793,
           0.8105,
           0.8495,
           0.8784500000000001,
           0.92365,
           0.94085,
           0.9912,
           1.0181,
           1.06775,
           1.10535,
           1.1205,
           1.14495,
           1.177,
           1.2106000000000001,
           1.2379499999999999,
           1.25225,
           1.2998,
           1.29805,
           1.3368,
           1.3572,
           1.39295,
           1.40785,
           1.43095,
           1.446,
           1.48,
           1.5031999999999999,
           1.5172500000000002,
           1.5402,
           1.5540500000000002
          ],
          [
           0.3671,
           0.40325,
           0.4234,
           0.47719999999999996,
           0.5011,
           0.53835,
           0.57485,
           0.61805,
           0.6532,
           0.67445,
           0.7143,
           0.7503,
           0.7836000000000001,
           0.8282,
           0.84895,
           0.8879,
           0.92355,
           0.95,
           1.0013,
           1.0091,
           1.06215,
           1.07845,
           1.10195,
           1.16035,
           1.15595,
           1.21565,
           1.2207,
           1.2531,
           1.2868499999999998,
           1.30005,
           1.3431,
           1.3591,
           1.37615,
           1.40075,
           1.41365,
           1.4545499999999998,
           1.4695,
           1.4963,
           1.5068000000000001,
           1.5338
          ],
          [
           0.3458,
           0.383,
           0.4092,
           0.4289,
           0.47759999999999997,
           0.50085,
           0.52705,
           0.5773999999999999,
           0.6236999999999999,
           0.6548499999999999,
           0.7033,
           0.7106,
           0.7455499999999999,
           0.7854,
           0.81965,
           0.84525,
           0.9017499999999999,
           0.9194500000000001,
           0.9633499999999999,
           0.9972,
           1.0234999999999999,
           1.0362,
           1.06725,
           1.11645,
           1.15065,
           1.18415,
           1.17545,
           1.23,
           1.262,
           1.2731000000000001,
           1.3039,
           1.33545,
           1.35175,
           1.3752,
           1.3909500000000001,
           1.4217,
           1.438,
           1.46555,
           1.46945,
           1.5060499999999999
          ],
          [
           0.3185,
           0.3509,
           0.39485000000000003,
           0.4254,
           0.45944999999999997,
           0.50085,
           0.5294,
           0.5572,
           0.5793,
           0.60995,
           0.6616,
           0.6890499999999999,
           0.7296499999999999,
           0.7500500000000001,
           0.7966,
           0.8306,
           0.865,
           0.88995,
           0.9253,
           0.96515,
           0.98445,
           1.0156,
           1.06185,
           1.0719,
           1.1042,
           1.14375,
           1.16905,
           1.1787999999999998,
           1.2131,
           1.2532,
           1.2707000000000002,
           1.3076999999999999,
           1.3397,
           1.3565999999999998,
           1.36765,
           1.4009,
           1.4141000000000001,
           1.42575,
           1.4697,
           1.48445
          ],
          [
           0.30505000000000004,
           0.33240000000000003,
           0.37934999999999997,
           0.40015,
           0.4266,
           0.4664,
           0.5004,
           0.53055,
           0.56315,
           0.5838,
           0.6274,
           0.6615,
           0.70715,
           0.7312,
           0.7600499999999999,
           0.8062,
           0.8316999999999999,
           0.8494999999999999,
           0.8963,
           0.92935,
           0.95685,
           0.9686999999999999,
           1.0123,
           1.0537999999999998,
           1.06985,
           1.10775,
           1.13025,
           1.14955,
           1.2062,
           1.21445,
           1.2548499999999998,
           1.28215,
           1.29465,
           1.32375,
           1.35575,
           1.3730499999999999,
           1.3871,
           1.41435,
           1.43405,
           1.4457
          ],
          [
           0.27975,
           0.3062,
           0.34145000000000003,
           0.36305,
           0.4002,
           0.43220000000000003,
           0.46755,
           0.49574999999999997,
           0.5378499999999999,
           0.56535,
           0.6040000000000001,
           0.6444,
           0.6672499999999999,
           0.70245,
           0.7257,
           0.77675,
           0.80115,
           0.82585,
           0.8788499999999999,
           0.9048,
           0.92555,
           0.9656,
           0.97865,
           1.038,
           1.06925,
           1.0869,
           1.1262,
           1.13985,
           1.16195,
           1.20295,
           1.20965,
           1.2442,
           1.2733,
           1.29245,
           1.3056,
           1.3356,
           1.3708,
           1.39335,
           1.40225,
           1.4193
          ],
          [
           0.26345,
           0.29800000000000004,
           0.3286,
           0.35914999999999997,
           0.3879,
           0.4265,
           0.45044999999999996,
           0.47800000000000004,
           0.5119,
           0.54035,
           0.5723,
           0.6089,
           0.6302,
           0.6592,
           0.69715,
           0.73085,
           0.7667,
           0.8121,
           0.8384,
           0.8745499999999999,
           0.9089,
           0.9277,
           0.9502,
           0.99945,
           1.0094,
           1.0428,
           1.0732,
           1.1155,
           1.1395,
           1.1754,
           1.2083,
           1.2069999999999999,
           1.2440499999999999,
           1.25205,
           1.28525,
           1.31095,
           1.351,
           1.37295,
           1.3890500000000001,
           1.4091500000000001
          ],
          [
           0.25655,
           0.2857,
           0.3055,
           0.3391,
           0.36460000000000004,
           0.39544999999999997,
           0.43255,
           0.4507,
           0.48085,
           0.51925,
           0.5478000000000001,
           0.5794,
           0.6125499999999999,
           0.6473,
           0.6727,
           0.70925,
           0.7476,
           0.7773,
           0.8039,
           0.83145,
           0.8606,
           0.90215,
           0.91025,
           0.96475,
           0.9929,
           1.0181499999999999,
           1.0377,
           1.0612,
           1.1059,
           1.1267,
           1.1623,
           1.1752500000000001,
           1.2024,
           1.2424,
           1.26545,
           1.2896999999999998,
           1.31525,
           1.3363999999999998,
           1.35845,
           1.3855
          ],
          [
           0.23504999999999998,
           0.26165,
           0.2915,
           0.31384999999999996,
           0.33594999999999997,
           0.3799,
           0.40375000000000005,
           0.4147,
           0.46285000000000004,
           0.504,
           0.5288999999999999,
           0.5625,
           0.5943499999999999,
           0.6265499999999999,
           0.65345,
           0.70635,
           0.7034,
           0.74085,
           0.77735,
           0.8122,
           0.84465,
           0.87645,
           0.8996500000000001,
           0.9285000000000001,
           0.96115,
           0.9805999999999999,
           0.99875,
           1.0385,
           1.06995,
           1.1161,
           1.1249,
           1.1555,
           1.1820499999999998,
           1.2159499999999999,
           1.22685,
           1.2628000000000001,
           1.2792500000000002,
           1.2914499999999998,
           1.3463,
           1.33485
          ],
          [
           0.23399999999999999,
           0.24685,
           0.26195,
           0.3071,
           0.332,
           0.36634999999999995,
           0.38305,
           0.4192,
           0.43735,
           0.4692,
           0.5144,
           0.53515,
           0.56125,
           0.6053,
           0.6421,
           0.6608,
           0.66405,
           0.7132499999999999,
           0.76065,
           0.7862499999999999,
           0.8234999999999999,
           0.84215,
           0.8634000000000001,
           0.89635,
           0.9314,
           0.97915,
           0.98675,
           1.0158,
           1.0417999999999998,
           1.0659999999999998,
           1.09365,
           1.11405,
           1.1421,
           1.1896499999999999,
           1.2157999999999998,
           1.22625,
           1.2726,
           1.295,
           1.30405,
           1.3142500000000001
          ],
          [
           0.20384999999999998,
           0.2286,
           0.26239999999999997,
           0.28585,
           0.3085,
           0.34425,
           0.3472,
           0.40754999999999997,
           0.41435,
           0.4354,
           0.4845,
           0.5099,
           0.5367500000000001,
           0.57395,
           0.5998,
           0.6476500000000001,
           0.66845,
           0.6782,
           0.71955,
           0.7637499999999999,
           0.76895,
           0.8210000000000001,
           0.8506,
           0.8700999999999999,
           0.8812,
           0.9287000000000001,
           0.9571000000000001,
           0.97855,
           1.0110000000000001,
           1.04245,
           1.09525,
           1.10895,
           1.13985,
           1.1442,
           1.17235,
           1.2008999999999999,
           1.2442,
           1.26755,
           1.2826,
           1.3211
          ],
          [
           0.20445000000000002,
           0.22005,
           0.24009999999999998,
           0.2593,
           0.29155,
           0.314,
           0.3386,
           0.37224999999999997,
           0.40680000000000005,
           0.4148,
           0.44639999999999996,
           0.47875,
           0.51685,
           0.54935,
           0.5851500000000001,
           0.6143500000000001,
           0.61375,
           0.6643,
           0.70825,
           0.7178,
           0.74935,
           0.80125,
           0.8152,
           0.84925,
           0.8822000000000001,
           0.89645,
           0.9264,
           0.95005,
           0.98895,
           1.0261,
           1.0291,
           1.08385,
           1.09965,
           1.12545,
           1.1311,
           1.1771,
           1.1896,
           1.23645,
           1.2498,
           1.2892000000000001
          ],
          [
           0.1766,
           0.21334999999999998,
           0.23765000000000003,
           0.2545,
           0.27585,
           0.2977,
           0.3338,
           0.35275,
           0.37095,
           0.41485,
           0.43765,
           0.46605,
           0.48875,
           0.52105,
           0.5458000000000001,
           0.5703,
           0.61345,
           0.63965,
           0.68385,
           0.70345,
           0.72955,
           0.7619,
           0.7751,
           0.81785,
           0.83665,
           0.8633500000000001,
           0.89215,
           0.9278500000000001,
           0.9483,
           0.98895,
           1.01025,
           1.03605,
           1.06695,
           1.08785,
           1.1147,
           1.1421,
           1.17625,
           1.2157499999999999,
           1.2193500000000002,
           1.2476
          ],
          [
           0.16915,
           0.19025,
           0.2151,
           0.24509999999999998,
           0.273,
           0.277,
           0.3095,
           0.3383,
           0.3433,
           0.37275,
           0.41600000000000004,
           0.4438,
           0.47085,
           0.4989,
           0.51275,
           0.5585,
           0.5718,
           0.6109,
           0.62775,
           0.67275,
           0.7066,
           0.7245,
           0.762,
           0.8003,
           0.83065,
           0.8463,
           0.87645,
           0.9097500000000001,
           0.9243,
           0.96465,
           0.97085,
           1.02805,
           1.0342,
           1.07845,
           1.0836,
           1.1193499999999998,
           1.14985,
           1.1789,
           1.19845,
           1.2298
          ],
          [
           0.16799999999999998,
           0.1809,
           0.21205000000000002,
           0.2182,
           0.2402,
           0.28025,
           0.29505000000000003,
           0.3242,
           0.35009999999999997,
           0.36785,
           0.39944999999999997,
           0.41885,
           0.4474,
           0.48014999999999997,
           0.5144,
           0.54115,
           0.56725,
           0.57845,
           0.61685,
           0.6451,
           0.6697500000000001,
           0.71785,
           0.74315,
           0.7541,
           0.80585,
           0.8065500000000001,
           0.8594999999999999,
           0.89445,
           0.9083000000000001,
           0.94435,
           0.9578,
           0.99655,
           1.01025,
           1.0235,
           1.06505,
           1.091,
           1.105,
           1.1519,
           1.1815,
           1.19525
          ],
          [
           0.1487,
           0.18045,
           0.19569999999999999,
           0.21109999999999998,
           0.2284,
           0.25325,
           0.28654999999999997,
           0.3008,
           0.32655,
           0.35550000000000004,
           0.38805,
           0.39535,
           0.42555000000000004,
           0.46255,
           0.48824999999999996,
           0.5205500000000001,
           0.5401,
           0.5643,
           0.6012,
           0.62835,
           0.6521,
           0.68405,
           0.6906,
           0.72695,
           0.77875,
           0.8016,
           0.82775,
           0.8604499999999999,
           0.8786999999999999,
           0.9177,
           0.93395,
           0.9741,
           0.9995499999999999,
           1.0095999999999998,
           1.04725,
           1.06765,
           1.0945,
           1.1229,
           1.1344,
           1.16365
          ],
          [
           0.13799999999999998,
           0.15689999999999998,
           0.18119999999999997,
           0.19805,
           0.22265000000000001,
           0.2263,
           0.2622,
           0.2848,
           0.31795,
           0.3298,
           0.34325,
           0.39280000000000004,
           0.4079,
           0.44279999999999997,
           0.48240000000000005,
           0.48719999999999997,
           0.5346,
           0.55345,
           0.56955,
           0.59965,
           0.6071,
           0.6480999999999999,
           0.6776500000000001,
           0.70045,
           0.7511,
           0.7659,
           0.79665,
           0.8473999999999999,
           0.843,
           0.881,
           0.91995,
           0.9318500000000001,
           0.954,
           0.9891,
           1.01775,
           1.04325,
           1.0715000000000001,
           1.1093,
           1.1251,
           1.14635
          ],
          [
           0.13945,
           0.14150000000000001,
           0.1725,
           0.1892,
           0.2106,
           0.22645,
           0.24085,
           0.26645,
           0.2965,
           0.31475,
           0.3591,
           0.37075,
           0.41109999999999997,
           0.4236,
           0.43885,
           0.46635,
           0.49239999999999995,
           0.51325,
           0.55075,
           0.5818,
           0.6019,
           0.6304000000000001,
           0.6528,
           0.7067,
           0.71455,
           0.74505,
           0.7805,
           0.7936,
           0.82365,
           0.8729499999999999,
           0.8934,
           0.9101,
           0.9299999999999999,
           0.9666,
           0.98915,
           0.99625,
           1.0474,
           1.059,
           1.093,
           1.1096
          ],
          [
           0.1265,
           0.14425,
           0.16045,
           0.17104999999999998,
           0.2009,
           0.2084,
           0.23720000000000002,
           0.2472,
           0.28400000000000003,
           0.2978,
           0.3184,
           0.34845000000000004,
           0.36660000000000004,
           0.39985000000000004,
           0.43355,
           0.44295,
           0.46405,
           0.5072,
           0.52755,
           0.5539499999999999,
           0.5816,
           0.6134000000000001,
           0.62875,
           0.66095,
           0.6986,
           0.73175,
           0.7584500000000001,
           0.80725,
           0.7966,
           0.8352499999999999,
           0.85455,
           0.8815999999999999,
           0.90255,
           0.93465,
           0.9834,
           0.98535,
           1.0140500000000001,
           1.0493,
           1.0676,
           1.0788
          ],
          [
           0.11305,
           0.14100000000000001,
           0.15139999999999998,
           0.17245,
           0.18085,
           0.2147,
           0.2193,
           0.2474,
           0.2721,
           0.29465,
           0.30505000000000004,
           0.32155,
           0.34640000000000004,
           0.38085,
           0.41374999999999995,
           0.44105,
           0.45794999999999997,
           0.4722,
           0.5213,
           0.52535,
           0.5591999999999999,
           0.6053999999999999,
           0.61815,
           0.6364,
           0.6634,
           0.69745,
           0.74075,
           0.7421500000000001,
           0.782,
           0.80045,
           0.82985,
           0.8569,
           0.8795,
           0.91055,
           0.94055,
           0.9598,
           0.9944,
           0.99805,
           1.0471,
           1.0653000000000001
          ]
         ]
        }
       ],
       "layout": {
        "template": {
         "data": {
          "bar": [
           {
            "error_x": {
             "color": "#2a3f5f"
            },
            "error_y": {
             "color": "#2a3f5f"
            },
            "marker": {
             "line": {
              "color": "#E5ECF6",
              "width": 0.5
             },
             "pattern": {
              "fillmode": "overlay",
              "size": 10,
              "solidity": 0.2
             }
            },
            "type": "bar"
           }
          ],
          "barpolar": [
           {
            "marker": {
             "line": {
              "color": "#E5ECF6",
              "width": 0.5
             },
             "pattern": {
              "fillmode": "overlay",
              "size": 10,
              "solidity": 0.2
             }
            },
            "type": "barpolar"
           }
          ],
          "carpet": [
           {
            "aaxis": {
             "endlinecolor": "#2a3f5f",
             "gridcolor": "white",
             "linecolor": "white",
             "minorgridcolor": "white",
             "startlinecolor": "#2a3f5f"
            },
            "baxis": {
             "endlinecolor": "#2a3f5f",
             "gridcolor": "white",
             "linecolor": "white",
             "minorgridcolor": "white",
             "startlinecolor": "#2a3f5f"
            },
            "type": "carpet"
           }
          ],
          "choropleth": [
           {
            "colorbar": {
             "outlinewidth": 0,
             "ticks": ""
            },
            "type": "choropleth"
           }
          ],
          "contour": [
           {
            "colorbar": {
             "outlinewidth": 0,
             "ticks": ""
            },
            "colorscale": [
             [
              0,
              "#0d0887"
             ],
             [
              0.1111111111111111,
              "#46039f"
             ],
             [
              0.2222222222222222,
              "#7201a8"
             ],
             [
              0.3333333333333333,
              "#9c179e"
             ],
             [
              0.4444444444444444,
              "#bd3786"
             ],
             [
              0.5555555555555556,
              "#d8576b"
             ],
             [
              0.6666666666666666,
              "#ed7953"
             ],
             [
              0.7777777777777778,
              "#fb9f3a"
             ],
             [
              0.8888888888888888,
              "#fdca26"
             ],
             [
              1,
              "#f0f921"
             ]
            ],
            "type": "contour"
           }
          ],
          "contourcarpet": [
           {
            "colorbar": {
             "outlinewidth": 0,
             "ticks": ""
            },
            "type": "contourcarpet"
           }
          ],
          "heatmap": [
           {
            "colorbar": {
             "outlinewidth": 0,
             "ticks": ""
            },
            "colorscale": [
             [
              0,
              "#0d0887"
             ],
             [
              0.1111111111111111,
              "#46039f"
             ],
             [
              0.2222222222222222,
              "#7201a8"
             ],
             [
              0.3333333333333333,
              "#9c179e"
             ],
             [
              0.4444444444444444,
              "#bd3786"
             ],
             [
              0.5555555555555556,
              "#d8576b"
             ],
             [
              0.6666666666666666,
              "#ed7953"
             ],
             [
              0.7777777777777778,
              "#fb9f3a"
             ],
             [
              0.8888888888888888,
              "#fdca26"
             ],
             [
              1,
              "#f0f921"
             ]
            ],
            "type": "heatmap"
           }
          ],
          "heatmapgl": [
           {
            "colorbar": {
             "outlinewidth": 0,
             "ticks": ""
            },
            "colorscale": [
             [
              0,
              "#0d0887"
             ],
             [
              0.1111111111111111,
              "#46039f"
             ],
             [
              0.2222222222222222,
              "#7201a8"
             ],
             [
              0.3333333333333333,
              "#9c179e"
             ],
             [
              0.4444444444444444,
              "#bd3786"
             ],
             [
              0.5555555555555556,
              "#d8576b"
             ],
             [
              0.6666666666666666,
              "#ed7953"
             ],
             [
              0.7777777777777778,
              "#fb9f3a"
             ],
             [
              0.8888888888888888,
              "#fdca26"
             ],
             [
              1,
              "#f0f921"
             ]
            ],
            "type": "heatmapgl"
           }
          ],
          "histogram": [
           {
            "marker": {
             "pattern": {
              "fillmode": "overlay",
              "size": 10,
              "solidity": 0.2
             }
            },
            "type": "histogram"
           }
          ],
          "histogram2d": [
           {
            "colorbar": {
             "outlinewidth": 0,
             "ticks": ""
            },
            "colorscale": [
             [
              0,
              "#0d0887"
             ],
             [
              0.1111111111111111,
              "#46039f"
             ],
             [
              0.2222222222222222,
              "#7201a8"
             ],
             [
              0.3333333333333333,
              "#9c179e"
             ],
             [
              0.4444444444444444,
              "#bd3786"
             ],
             [
              0.5555555555555556,
              "#d8576b"
             ],
             [
              0.6666666666666666,
              "#ed7953"
             ],
             [
              0.7777777777777778,
              "#fb9f3a"
             ],
             [
              0.8888888888888888,
              "#fdca26"
             ],
             [
              1,
              "#f0f921"
             ]
            ],
            "type": "histogram2d"
           }
          ],
          "histogram2dcontour": [
           {
            "colorbar": {
             "outlinewidth": 0,
             "ticks": ""
            },
            "colorscale": [
             [
              0,
              "#0d0887"
             ],
             [
              0.1111111111111111,
              "#46039f"
             ],
             [
              0.2222222222222222,
              "#7201a8"
             ],
             [
              0.3333333333333333,
              "#9c179e"
             ],
             [
              0.4444444444444444,
              "#bd3786"
             ],
             [
              0.5555555555555556,
              "#d8576b"
             ],
             [
              0.6666666666666666,
              "#ed7953"
             ],
             [
              0.7777777777777778,
              "#fb9f3a"
             ],
             [
              0.8888888888888888,
              "#fdca26"
             ],
             [
              1,
              "#f0f921"
             ]
            ],
            "type": "histogram2dcontour"
           }
          ],
          "mesh3d": [
           {
            "colorbar": {
             "outlinewidth": 0,
             "ticks": ""
            },
            "type": "mesh3d"
           }
          ],
          "parcoords": [
           {
            "line": {
             "colorbar": {
              "outlinewidth": 0,
              "ticks": ""
             }
            },
            "type": "parcoords"
           }
          ],
          "pie": [
           {
            "automargin": true,
            "type": "pie"
           }
          ],
          "scatter": [
           {
            "fillpattern": {
             "fillmode": "overlay",
             "size": 10,
             "solidity": 0.2
            },
            "type": "scatter"
           }
          ],
          "scatter3d": [
           {
            "line": {
             "colorbar": {
              "outlinewidth": 0,
              "ticks": ""
             }
            },
            "marker": {
             "colorbar": {
              "outlinewidth": 0,
              "ticks": ""
             }
            },
            "type": "scatter3d"
           }
          ],
          "scattercarpet": [
           {
            "marker": {
             "colorbar": {
              "outlinewidth": 0,
              "ticks": ""
             }
            },
            "type": "scattercarpet"
           }
          ],
          "scattergeo": [
           {
            "marker": {
             "colorbar": {
              "outlinewidth": 0,
              "ticks": ""
             }
            },
            "type": "scattergeo"
           }
          ],
          "scattergl": [
           {
            "marker": {
             "colorbar": {
              "outlinewidth": 0,
              "ticks": ""
             }
            },
            "type": "scattergl"
           }
          ],
          "scattermapbox": [
           {
            "marker": {
             "colorbar": {
              "outlinewidth": 0,
              "ticks": ""
             }
            },
            "type": "scattermapbox"
           }
          ],
          "scatterpolar": [
           {
            "marker": {
             "colorbar": {
              "outlinewidth": 0,
              "ticks": ""
             }
            },
            "type": "scatterpolar"
           }
          ],
          "scatterpolargl": [
           {
            "marker": {
             "colorbar": {
              "outlinewidth": 0,
              "ticks": ""
             }
            },
            "type": "scatterpolargl"
           }
          ],
          "scatterternary": [
           {
            "marker": {
             "colorbar": {
              "outlinewidth": 0,
              "ticks": ""
             }
            },
            "type": "scatterternary"
           }
          ],
          "surface": [
           {
            "colorbar": {
             "outlinewidth": 0,
             "ticks": ""
            },
            "colorscale": [
             [
              0,
              "#0d0887"
             ],
             [
              0.1111111111111111,
              "#46039f"
             ],
             [
              0.2222222222222222,
              "#7201a8"
             ],
             [
              0.3333333333333333,
              "#9c179e"
             ],
             [
              0.4444444444444444,
              "#bd3786"
             ],
             [
              0.5555555555555556,
              "#d8576b"
             ],
             [
              0.6666666666666666,
              "#ed7953"
             ],
             [
              0.7777777777777778,
              "#fb9f3a"
             ],
             [
              0.8888888888888888,
              "#fdca26"
             ],
             [
              1,
              "#f0f921"
             ]
            ],
            "type": "surface"
           }
          ],
          "table": [
           {
            "cells": {
             "fill": {
              "color": "#EBF0F8"
             },
             "line": {
              "color": "white"
             }
            },
            "header": {
             "fill": {
              "color": "#C8D4E3"
             },
             "line": {
              "color": "white"
             }
            },
            "type": "table"
           }
          ]
         },
         "layout": {
          "annotationdefaults": {
           "arrowcolor": "#2a3f5f",
           "arrowhead": 0,
           "arrowwidth": 1
          },
          "autotypenumbers": "strict",
          "coloraxis": {
           "colorbar": {
            "outlinewidth": 0,
            "ticks": ""
           }
          },
          "colorscale": {
           "diverging": [
            [
             0,
             "#8e0152"
            ],
            [
             0.1,
             "#c51b7d"
            ],
            [
             0.2,
             "#de77ae"
            ],
            [
             0.3,
             "#f1b6da"
            ],
            [
             0.4,
             "#fde0ef"
            ],
            [
             0.5,
             "#f7f7f7"
            ],
            [
             0.6,
             "#e6f5d0"
            ],
            [
             0.7,
             "#b8e186"
            ],
            [
             0.8,
             "#7fbc41"
            ],
            [
             0.9,
             "#4d9221"
            ],
            [
             1,
             "#276419"
            ]
           ],
           "sequential": [
            [
             0,
             "#0d0887"
            ],
            [
             0.1111111111111111,
             "#46039f"
            ],
            [
             0.2222222222222222,
             "#7201a8"
            ],
            [
             0.3333333333333333,
             "#9c179e"
            ],
            [
             0.4444444444444444,
             "#bd3786"
            ],
            [
             0.5555555555555556,
             "#d8576b"
            ],
            [
             0.6666666666666666,
             "#ed7953"
            ],
            [
             0.7777777777777778,
             "#fb9f3a"
            ],
            [
             0.8888888888888888,
             "#fdca26"
            ],
            [
             1,
             "#f0f921"
            ]
           ],
           "sequentialminus": [
            [
             0,
             "#0d0887"
            ],
            [
             0.1111111111111111,
             "#46039f"
            ],
            [
             0.2222222222222222,
             "#7201a8"
            ],
            [
             0.3333333333333333,
             "#9c179e"
            ],
            [
             0.4444444444444444,
             "#bd3786"
            ],
            [
             0.5555555555555556,
             "#d8576b"
            ],
            [
             0.6666666666666666,
             "#ed7953"
            ],
            [
             0.7777777777777778,
             "#fb9f3a"
            ],
            [
             0.8888888888888888,
             "#fdca26"
            ],
            [
             1,
             "#f0f921"
            ]
           ]
          },
          "colorway": [
           "#636efa",
           "#EF553B",
           "#00cc96",
           "#ab63fa",
           "#FFA15A",
           "#19d3f3",
           "#FF6692",
           "#B6E880",
           "#FF97FF",
           "#FECB52"
          ],
          "font": {
           "color": "#2a3f5f"
          },
          "geo": {
           "bgcolor": "white",
           "lakecolor": "white",
           "landcolor": "#E5ECF6",
           "showlakes": true,
           "showland": true,
           "subunitcolor": "white"
          },
          "hoverlabel": {
           "align": "left"
          },
          "hovermode": "closest",
          "mapbox": {
           "style": "light"
          },
          "paper_bgcolor": "white",
          "plot_bgcolor": "#E5ECF6",
          "polar": {
           "angularaxis": {
            "gridcolor": "white",
            "linecolor": "white",
            "ticks": ""
           },
           "bgcolor": "#E5ECF6",
           "radialaxis": {
            "gridcolor": "white",
            "linecolor": "white",
            "ticks": ""
           }
          },
          "scene": {
           "xaxis": {
            "backgroundcolor": "#E5ECF6",
            "gridcolor": "white",
            "gridwidth": 2,
            "linecolor": "white",
            "showbackground": true,
            "ticks": "",
            "zerolinecolor": "white"
           },
           "yaxis": {
            "backgroundcolor": "#E5ECF6",
            "gridcolor": "white",
            "gridwidth": 2,
            "linecolor": "white",
            "showbackground": true,
            "ticks": "",
            "zerolinecolor": "white"
           },
           "zaxis": {
            "backgroundcolor": "#E5ECF6",
            "gridcolor": "white",
            "gridwidth": 2,
            "linecolor": "white",
            "showbackground": true,
            "ticks": "",
            "zerolinecolor": "white"
           }
          },
          "shapedefaults": {
           "line": {
            "color": "#2a3f5f"
           }
          },
          "ternary": {
           "aaxis": {
            "gridcolor": "white",
            "linecolor": "white",
            "ticks": ""
           },
           "baxis": {
            "gridcolor": "white",
            "linecolor": "white",
            "ticks": ""
           },
           "bgcolor": "#E5ECF6",
           "caxis": {
            "gridcolor": "white",
            "linecolor": "white",
            "ticks": ""
           }
          },
          "title": {
           "x": 0.05
          },
          "xaxis": {
           "automargin": true,
           "gridcolor": "white",
           "linecolor": "white",
           "ticks": "",
           "title": {
            "standoff": 15
           },
           "zerolinecolor": "white",
           "zerolinewidth": 2
          },
          "yaxis": {
           "automargin": true,
           "gridcolor": "white",
           "linecolor": "white",
           "ticks": "",
           "title": {
            "standoff": 15
           },
           "zerolinecolor": "white",
           "zerolinewidth": 2
          }
         }
        },
        "title": {
         "text": "Heatmap of Team A Projected Points",
         "x": 0.5
        },
        "xaxis": {
         "title": {
          "text": "Team A Expected Goals"
         }
        },
        "yaxis": {
         "title": {
          "text": "Team B Expected Goals"
         }
        }
       }
      },
      "text/html": [
       "<div>                            <div id=\"64a5b27a-3990-4e33-bc64-e798039a4ae8\" class=\"plotly-graph-div\" style=\"height:525px; width:100%;\"></div>            <script type=\"text/javascript\">                require([\"plotly\"], function(Plotly) {                    window.PLOTLYENV=window.PLOTLYENV || {};                                    if (document.getElementById(\"64a5b27a-3990-4e33-bc64-e798039a4ae8\")) {                    Plotly.newPlot(                        \"64a5b27a-3990-4e33-bc64-e798039a4ae8\",                        [{\"colorbar\":{\"title\":{\"text\":\"Points\"}},\"x\":[1.0,1.1,1.2,1.3,1.4,1.5,1.6,1.7,1.8,1.9,2.0,2.1,2.2,2.3,2.4,2.5,2.6,2.7,2.8,2.9,3.0,3.1,3.2,3.3,3.4,3.5,3.6,3.7,3.8,3.9,4.0,4.1,4.2,4.3,4.4,4.5,4.6,4.7,4.8,4.9],\"y\":[1.0,1.1,1.2,1.3,1.4,1.5,1.6,1.7,1.8,1.9,2.0,2.1,2.2,2.3,2.4,2.5,2.6,2.7,2.8,2.9,3.0,3.1,3.2,3.3,3.4,3.5,3.6,3.7,3.8,3.9,4.0,4.1,4.2,4.3,4.4,4.5,4.6,4.7,4.8,4.9],\"z\":[[1.165,1.20105,1.2302,1.2849,1.3319,1.36285,1.3916,1.4457,1.4713,1.5166,1.52095,1.5490499999999998,1.5857,1.58985,1.6175000000000002,1.6541000000000001,1.6658,1.68455,1.7094,1.7338,1.7567,1.7714,1.78115,1.7856999999999998,1.8021500000000001,1.8214000000000001,1.8414,1.83595,1.8397999999999999,1.8613499999999998,1.8605500000000001,1.8800000000000001,1.87995,1.8967500000000002,1.896,1.89705,1.9097,1.92135,1.9219499999999998,1.9245999999999999],[1.09215,1.13635,1.1865999999999999,1.21895,1.27055,1.31165,1.3455,1.388,1.41605,1.4509,1.4814,1.50995,1.5523,1.57975,1.59635,1.6134499999999998,1.6337000000000002,1.6659,1.6803000000000001,1.6968999999999999,1.7201,1.7338500000000001,1.7438500000000001,1.7568,1.7795,1.7871,1.8061500000000001,1.8186,1.8338999999999999,1.8405,1.84695,1.8596,1.8671,1.87565,1.8828,1.89165,1.8988500000000001,1.9032499999999999,1.9053,1.91775],[1.03875,1.0933,1.1393499999999999,1.17475,1.2152,1.2652999999999999,1.3167,1.3575,1.3877000000000002,1.408,1.4276,1.4694,1.4963499999999998,1.52395,1.56695,1.57645,1.6033,1.6273,1.64115,1.6633,1.6793500000000001,1.7017499999999999,1.71505,1.73535,1.76125,1.7710499999999998,1.7803,1.79365,1.8108,1.8228,1.83015,1.83705,1.8473000000000002,1.86535,1.8682999999999998,1.8680999999999999,1.88645,1.89,1.897,1.9022],[1.0072,1.0446499999999999,1.1116000000000001,1.1349,1.17205,1.21885,1.2529,1.29995,1.33095,1.3615,1.39215,1.4217,1.4746000000000001,1.4892,1.51225,1.54015,1.5660500000000002,1.59715,1.6085,1.6331,1.6511,1.6709999999999998,1.68915,1.7246000000000001,1.7384,1.74,1.76315,1.78475,1.7945,1.80005,1.8082,1.82415,1.8310499999999998,1.8391,1.8446,1.8603,1.8683,1.8767,1.8872,1.8906],[0.9517499999999999,1.0034,1.05,1.0722,1.12955,1.2015,1.2009,1.2476,1.28515,1.3298,1.3449499999999999,1.3819,1.4105499999999997,1.4516499999999999,1.4731,1.5078999999999998,1.5272999999999999,1.5632,1.56835,1.6000999999999999,1.6399,1.6451,1.6502,1.6798,1.6974,1.719,1.73285,1.7517500000000001,1.75575,1.7702,1.7905,1.81135,1.81425,1.8239,1.8349,1.8393,1.85665,1.8667,1.8764999999999998,1.88175],[0.8958999999999999,0.9369000000000001,0.9861000000000001,1.0314,1.0737999999999999,1.11825,1.18405,1.1958,1.2373,1.2642,1.3099,1.34555,1.3729,1.4031,1.4245999999999999,1.4593500000000001,1.4871,1.5265,1.5412000000000001,1.56565,1.58365,1.61775,1.6391,1.645,1.6764999999999999,1.6833999999999998,1.71055,1.71725,1.7338,1.75685,1.76635,1.7751000000000001,1.787,1.802,1.8106499999999999,1.82865,1.8324,1.8456000000000001,1.85795,1.8568],[0.8543499999999999,0.88825,0.9424,0.9884,1.03055,1.0691,1.1254,1.1632,1.18965,1.2345,1.2674,1.3075999999999999,1.3279999999999998,1.3829500000000001,1.39345,1.4289,1.4564,1.49615,1.51315,1.5355500000000002,1.5524,1.57,1.6070499999999999,1.6198,1.64055,1.66485,1.69405,1.68825,1.7153,1.72445,1.7441,1.75945,1.771,1.79055,1.795,1.812,1.809,1.8263500000000001,1.8361,1.84405],[0.7878000000000001,0.8444499999999999,0.89695,0.9592499999999999,0.99325,1.0305,1.07695,1.1149499999999999,1.1418,1.1799,1.24265,1.27095,1.2914,1.3329499999999999,1.3599999999999999,1.3900000000000001,1.4284500000000002,1.4476,1.4756,1.4859,1.5015999999999998,1.54445,1.5662,1.58605,1.6013000000000002,1.6388,1.6542,1.66135,1.6872500000000001,1.7071,1.71975,1.7292,1.75785,1.7647,1.77285,1.79035,1.7984,1.81905,1.81785,1.8296999999999999],[0.754,0.8123,0.8437,0.89295,0.9390000000000001,0.9851,1.0333999999999999,1.0664,1.1045,1.15515,1.1808,1.21255,1.264,1.30945,1.32555,1.35185,1.3771,1.41235,1.4345500000000002,1.46315,1.48175,1.52515,1.5466499999999999,1.564,1.5695000000000001,1.6137000000000001,1.63075,1.64035,1.65935,1.6727,1.69515,1.71235,1.7257,1.7401,1.7466499999999998,1.7601499999999999,1.773,1.79245,1.7993999999999999,1.81085],[0.7277499999999999,0.76105,0.8198,0.8662,0.9005,0.95425,0.9812,1.0207,1.0547,1.1078999999999999,1.1360999999999999,1.1726,1.20575,1.2498,1.2894999999999999,1.3088,1.33925,1.371,1.41105,1.42855,1.4584000000000001,1.4782,1.49745,1.5391499999999998,1.5523,1.59305,1.57315,1.6225,1.6336,1.65485,1.6554,1.6773,1.7049999999999998,1.71185,1.737,1.74845,1.7519,1.7736,1.7724,1.8034],[0.6877,0.7241,0.7778,0.8387,0.8492000000000001,0.90975,0.94235,0.9883500000000001,1.01805,1.0838999999999999,1.11405,1.1357499999999998,1.17285,1.2115,1.25895,1.2658,1.3074999999999999,1.33,1.3668999999999998,1.3972499999999999,1.4376499999999999,1.45285,1.46605,1.49295,1.51655,1.5325,1.57185,1.5883,1.5889499999999999,1.6139000000000001,1.64645,1.6574,1.6725,1.69665,1.7016,1.70795,1.7366499999999998,1.74145,1.75335,1.77715],[0.64615,0.7053,0.7363,0.7657499999999999,0.8186,0.87185,0.88635,0.9589000000000001,0.9696,1.0391,1.0596,1.10045,1.1446,1.1735,1.202,1.23225,1.26865,1.2971,1.3271,1.3689,1.37845,1.42265,1.4413,1.45095,1.4880499999999999,1.5099500000000001,1.54115,1.5605000000000002,1.5847,1.5983,1.6205,1.63065,1.65625,1.6852,1.6899000000000002,1.70635,1.70435,1.73215,1.74245,1.7537500000000001],[0.6069,0.6444000000000001,0.7002999999999999,0.74695,0.7807999999999999,0.8312999999999999,0.87385,0.9117999999999999,0.95025,0.9809,1.02735,1.0647,1.0878,1.13165,1.17705,1.20055,1.23175,1.25955,1.30195,1.3216,1.33505,1.38785,1.42665,1.4338,1.4654,1.4827000000000001,1.4872,1.53165,1.53735,1.5622500000000001,1.5812,1.60545,1.64185,1.6433499999999999,1.6643000000000001,1.6821,1.6892,1.7079,1.7201499999999998,1.73535],[0.57525,0.6311,0.6603,0.7153,0.7594000000000001,0.77905,0.83125,0.9055,0.9259000000000001,0.9677,0.99685,1.01215,1.0598,1.1016,1.1264500000000002,1.1591500000000001,1.2,1.2286000000000001,1.2521499999999999,1.2825000000000002,1.3119,1.3506,1.3745,1.41135,1.4327,1.4588,1.46645,1.51975,1.52765,1.5407,1.5621,1.5827499999999999,1.5883500000000002,1.6205,1.64005,1.6561,1.6665,1.7006,1.69685,1.7201],[0.5422,0.58935,0.6276999999999999,0.6701999999999999,0.7104999999999999,0.763,0.8066,0.8379000000000001,0.8689,0.8991,0.95515,0.99095,1.0083,1.0373999999999999,1.10615,1.1425,1.16105,1.1853500000000001,1.22685,1.2433,1.2962,1.3067,1.3375,1.3741999999999999,1.40295,1.4299499999999998,1.4593500000000001,1.4695,1.48695,1.5065,1.5359,1.5617,1.58785,1.5897,1.6070499999999999,1.63615,1.64545,1.6559,1.67815,1.7003],[0.5136499999999999,0.5622,0.5976,0.642,0.6751499999999999,0.7285,0.75955,0.7939,0.82805,0.8711499999999999,0.9133,0.9592,0.9935499999999999,1.0253,1.0766,1.10365,1.12365,1.1613,1.20805,1.2258,1.2495,1.287,1.3212,1.3293499999999998,1.3733499999999998,1.39705,1.40665,1.45065,1.4696,1.4813,1.5062,1.5202,1.5501500000000001,1.5845,1.5786,1.6002,1.6112,1.64305,1.6502,1.68125],[0.48,0.52415,0.5597,0.5927499999999999,0.66365,0.69155,0.7196,0.76815,0.798,0.84005,0.86925,0.9089,0.93485,0.9974999999999999,1.0174500000000002,1.04835,1.08825,1.13355,1.13565,1.1719,1.2158,1.2577500000000001,1.2649499999999998,1.3102,1.3466,1.3506,1.378,1.41395,1.42825,1.4551500000000002,1.47035,1.5037500000000001,1.5320999999999998,1.5383,1.5593499999999998,1.5742500000000001,1.5986,1.61475,1.6311499999999999,1.6595],[0.46515,0.5025999999999999,0.53905,0.579,0.6222,0.65825,0.6818,0.7378500000000001,0.773,0.8164,0.8464,0.88595,0.90825,0.9422999999999999,0.9577,1.0345,1.0577,1.0949499999999999,1.12835,1.13895,1.1784,1.2202,1.2460499999999999,1.25645,1.2827,1.3221500000000002,1.3477000000000001,1.3858,1.4014,1.4287,1.4379000000000002,1.47085,1.4875,1.5186,1.5351,1.5587,1.57805,1.5905,1.6039999999999999,1.6274000000000002],[0.42755,0.471,0.5206500000000001,0.55475,0.58525,0.61285,0.6568,0.7081999999999999,0.7443,0.7643500000000001,0.8232999999999999,0.85405,0.8863,0.9424,0.95295,0.98625,1.0169000000000001,1.0459,1.08425,1.10615,1.1453,1.1872,1.208,1.2302,1.2518000000000002,1.2974,1.3321500000000002,1.35115,1.3723,1.4137,1.42485,1.45045,1.45085,1.47875,1.5011,1.5362500000000001,1.5489,1.5504,1.5914,1.5848499999999999],[0.4014,0.45385,0.48769999999999997,0.5241499999999999,0.56085,0.5911,0.625,0.65455,0.6891,0.72975,0.7800999999999999,0.8154,0.87435,0.89235,0.9198500000000001,0.9475500000000001,0.9612,1.0265499999999999,1.04935,1.0716999999999999,1.12115,1.1498,1.17035,1.20675,1.22825,1.2792000000000001,1.2844,1.3294,1.32575,1.3524500000000002,1.3913499999999999,1.41125,1.4244,1.45575,1.4844499999999998,1.5003,1.52295,1.54495,1.56935,1.58085],[0.3902,0.40855,0.46304999999999996,0.48150000000000004,0.5327,0.5606500000000001,0.606,0.64135,0.6764,0.70765,0.731,0.7793,0.8105,0.8495,0.8784500000000001,0.92365,0.94085,0.9912,1.0181,1.06775,1.10535,1.1205,1.14495,1.177,1.2106000000000001,1.2379499999999999,1.25225,1.2998,1.29805,1.3368,1.3572,1.39295,1.40785,1.43095,1.446,1.48,1.5031999999999999,1.5172500000000002,1.5402,1.5540500000000002],[0.3671,0.40325,0.4234,0.47719999999999996,0.5011,0.53835,0.57485,0.61805,0.6532,0.67445,0.7143,0.7503,0.7836000000000001,0.8282,0.84895,0.8879,0.92355,0.95,1.0013,1.0091,1.06215,1.07845,1.10195,1.16035,1.15595,1.21565,1.2207,1.2531,1.2868499999999998,1.30005,1.3431,1.3591,1.37615,1.40075,1.41365,1.4545499999999998,1.4695,1.4963,1.5068000000000001,1.5338],[0.3458,0.383,0.4092,0.4289,0.47759999999999997,0.50085,0.52705,0.5773999999999999,0.6236999999999999,0.6548499999999999,0.7033,0.7106,0.7455499999999999,0.7854,0.81965,0.84525,0.9017499999999999,0.9194500000000001,0.9633499999999999,0.9972,1.0234999999999999,1.0362,1.06725,1.11645,1.15065,1.18415,1.17545,1.23,1.262,1.2731000000000001,1.3039,1.33545,1.35175,1.3752,1.3909500000000001,1.4217,1.438,1.46555,1.46945,1.5060499999999999],[0.3185,0.3509,0.39485000000000003,0.4254,0.45944999999999997,0.50085,0.5294,0.5572,0.5793,0.60995,0.6616,0.6890499999999999,0.7296499999999999,0.7500500000000001,0.7966,0.8306,0.865,0.88995,0.9253,0.96515,0.98445,1.0156,1.06185,1.0719,1.1042,1.14375,1.16905,1.1787999999999998,1.2131,1.2532,1.2707000000000002,1.3076999999999999,1.3397,1.3565999999999998,1.36765,1.4009,1.4141000000000001,1.42575,1.4697,1.48445],[0.30505000000000004,0.33240000000000003,0.37934999999999997,0.40015,0.4266,0.4664,0.5004,0.53055,0.56315,0.5838,0.6274,0.6615,0.70715,0.7312,0.7600499999999999,0.8062,0.8316999999999999,0.8494999999999999,0.8963,0.92935,0.95685,0.9686999999999999,1.0123,1.0537999999999998,1.06985,1.10775,1.13025,1.14955,1.2062,1.21445,1.2548499999999998,1.28215,1.29465,1.32375,1.35575,1.3730499999999999,1.3871,1.41435,1.43405,1.4457],[0.27975,0.3062,0.34145000000000003,0.36305,0.4002,0.43220000000000003,0.46755,0.49574999999999997,0.5378499999999999,0.56535,0.6040000000000001,0.6444,0.6672499999999999,0.70245,0.7257,0.77675,0.80115,0.82585,0.8788499999999999,0.9048,0.92555,0.9656,0.97865,1.038,1.06925,1.0869,1.1262,1.13985,1.16195,1.20295,1.20965,1.2442,1.2733,1.29245,1.3056,1.3356,1.3708,1.39335,1.40225,1.4193],[0.26345,0.29800000000000004,0.3286,0.35914999999999997,0.3879,0.4265,0.45044999999999996,0.47800000000000004,0.5119,0.54035,0.5723,0.6089,0.6302,0.6592,0.69715,0.73085,0.7667,0.8121,0.8384,0.8745499999999999,0.9089,0.9277,0.9502,0.99945,1.0094,1.0428,1.0732,1.1155,1.1395,1.1754,1.2083,1.2069999999999999,1.2440499999999999,1.25205,1.28525,1.31095,1.351,1.37295,1.3890500000000001,1.4091500000000001],[0.25655,0.2857,0.3055,0.3391,0.36460000000000004,0.39544999999999997,0.43255,0.4507,0.48085,0.51925,0.5478000000000001,0.5794,0.6125499999999999,0.6473,0.6727,0.70925,0.7476,0.7773,0.8039,0.83145,0.8606,0.90215,0.91025,0.96475,0.9929,1.0181499999999999,1.0377,1.0612,1.1059,1.1267,1.1623,1.1752500000000001,1.2024,1.2424,1.26545,1.2896999999999998,1.31525,1.3363999999999998,1.35845,1.3855],[0.23504999999999998,0.26165,0.2915,0.31384999999999996,0.33594999999999997,0.3799,0.40375000000000005,0.4147,0.46285000000000004,0.504,0.5288999999999999,0.5625,0.5943499999999999,0.6265499999999999,0.65345,0.70635,0.7034,0.74085,0.77735,0.8122,0.84465,0.87645,0.8996500000000001,0.9285000000000001,0.96115,0.9805999999999999,0.99875,1.0385,1.06995,1.1161,1.1249,1.1555,1.1820499999999998,1.2159499999999999,1.22685,1.2628000000000001,1.2792500000000002,1.2914499999999998,1.3463,1.33485],[0.23399999999999999,0.24685,0.26195,0.3071,0.332,0.36634999999999995,0.38305,0.4192,0.43735,0.4692,0.5144,0.53515,0.56125,0.6053,0.6421,0.6608,0.66405,0.7132499999999999,0.76065,0.7862499999999999,0.8234999999999999,0.84215,0.8634000000000001,0.89635,0.9314,0.97915,0.98675,1.0158,1.0417999999999998,1.0659999999999998,1.09365,1.11405,1.1421,1.1896499999999999,1.2157999999999998,1.22625,1.2726,1.295,1.30405,1.3142500000000001],[0.20384999999999998,0.2286,0.26239999999999997,0.28585,0.3085,0.34425,0.3472,0.40754999999999997,0.41435,0.4354,0.4845,0.5099,0.5367500000000001,0.57395,0.5998,0.6476500000000001,0.66845,0.6782,0.71955,0.7637499999999999,0.76895,0.8210000000000001,0.8506,0.8700999999999999,0.8812,0.9287000000000001,0.9571000000000001,0.97855,1.0110000000000001,1.04245,1.09525,1.10895,1.13985,1.1442,1.17235,1.2008999999999999,1.2442,1.26755,1.2826,1.3211],[0.20445000000000002,0.22005,0.24009999999999998,0.2593,0.29155,0.314,0.3386,0.37224999999999997,0.40680000000000005,0.4148,0.44639999999999996,0.47875,0.51685,0.54935,0.5851500000000001,0.6143500000000001,0.61375,0.6643,0.70825,0.7178,0.74935,0.80125,0.8152,0.84925,0.8822000000000001,0.89645,0.9264,0.95005,0.98895,1.0261,1.0291,1.08385,1.09965,1.12545,1.1311,1.1771,1.1896,1.23645,1.2498,1.2892000000000001],[0.1766,0.21334999999999998,0.23765000000000003,0.2545,0.27585,0.2977,0.3338,0.35275,0.37095,0.41485,0.43765,0.46605,0.48875,0.52105,0.5458000000000001,0.5703,0.61345,0.63965,0.68385,0.70345,0.72955,0.7619,0.7751,0.81785,0.83665,0.8633500000000001,0.89215,0.9278500000000001,0.9483,0.98895,1.01025,1.03605,1.06695,1.08785,1.1147,1.1421,1.17625,1.2157499999999999,1.2193500000000002,1.2476],[0.16915,0.19025,0.2151,0.24509999999999998,0.273,0.277,0.3095,0.3383,0.3433,0.37275,0.41600000000000004,0.4438,0.47085,0.4989,0.51275,0.5585,0.5718,0.6109,0.62775,0.67275,0.7066,0.7245,0.762,0.8003,0.83065,0.8463,0.87645,0.9097500000000001,0.9243,0.96465,0.97085,1.02805,1.0342,1.07845,1.0836,1.1193499999999998,1.14985,1.1789,1.19845,1.2298],[0.16799999999999998,0.1809,0.21205000000000002,0.2182,0.2402,0.28025,0.29505000000000003,0.3242,0.35009999999999997,0.36785,0.39944999999999997,0.41885,0.4474,0.48014999999999997,0.5144,0.54115,0.56725,0.57845,0.61685,0.6451,0.6697500000000001,0.71785,0.74315,0.7541,0.80585,0.8065500000000001,0.8594999999999999,0.89445,0.9083000000000001,0.94435,0.9578,0.99655,1.01025,1.0235,1.06505,1.091,1.105,1.1519,1.1815,1.19525],[0.1487,0.18045,0.19569999999999999,0.21109999999999998,0.2284,0.25325,0.28654999999999997,0.3008,0.32655,0.35550000000000004,0.38805,0.39535,0.42555000000000004,0.46255,0.48824999999999996,0.5205500000000001,0.5401,0.5643,0.6012,0.62835,0.6521,0.68405,0.6906,0.72695,0.77875,0.8016,0.82775,0.8604499999999999,0.8786999999999999,0.9177,0.93395,0.9741,0.9995499999999999,1.0095999999999998,1.04725,1.06765,1.0945,1.1229,1.1344,1.16365],[0.13799999999999998,0.15689999999999998,0.18119999999999997,0.19805,0.22265000000000001,0.2263,0.2622,0.2848,0.31795,0.3298,0.34325,0.39280000000000004,0.4079,0.44279999999999997,0.48240000000000005,0.48719999999999997,0.5346,0.55345,0.56955,0.59965,0.6071,0.6480999999999999,0.6776500000000001,0.70045,0.7511,0.7659,0.79665,0.8473999999999999,0.843,0.881,0.91995,0.9318500000000001,0.954,0.9891,1.01775,1.04325,1.0715000000000001,1.1093,1.1251,1.14635],[0.13945,0.14150000000000001,0.1725,0.1892,0.2106,0.22645,0.24085,0.26645,0.2965,0.31475,0.3591,0.37075,0.41109999999999997,0.4236,0.43885,0.46635,0.49239999999999995,0.51325,0.55075,0.5818,0.6019,0.6304000000000001,0.6528,0.7067,0.71455,0.74505,0.7805,0.7936,0.82365,0.8729499999999999,0.8934,0.9101,0.9299999999999999,0.9666,0.98915,0.99625,1.0474,1.059,1.093,1.1096],[0.1265,0.14425,0.16045,0.17104999999999998,0.2009,0.2084,0.23720000000000002,0.2472,0.28400000000000003,0.2978,0.3184,0.34845000000000004,0.36660000000000004,0.39985000000000004,0.43355,0.44295,0.46405,0.5072,0.52755,0.5539499999999999,0.5816,0.6134000000000001,0.62875,0.66095,0.6986,0.73175,0.7584500000000001,0.80725,0.7966,0.8352499999999999,0.85455,0.8815999999999999,0.90255,0.93465,0.9834,0.98535,1.0140500000000001,1.0493,1.0676,1.0788],[0.11305,0.14100000000000001,0.15139999999999998,0.17245,0.18085,0.2147,0.2193,0.2474,0.2721,0.29465,0.30505000000000004,0.32155,0.34640000000000004,0.38085,0.41374999999999995,0.44105,0.45794999999999997,0.4722,0.5213,0.52535,0.5591999999999999,0.6053999999999999,0.61815,0.6364,0.6634,0.69745,0.74075,0.7421500000000001,0.782,0.80045,0.82985,0.8569,0.8795,0.91055,0.94055,0.9598,0.9944,0.99805,1.0471,1.0653000000000001]],\"type\":\"heatmap\"}],                        {\"template\":{\"data\":{\"histogram2dcontour\":[{\"type\":\"histogram2dcontour\",\"colorbar\":{\"outlinewidth\":0,\"ticks\":\"\"},\"colorscale\":[[0.0,\"#0d0887\"],[0.1111111111111111,\"#46039f\"],[0.2222222222222222,\"#7201a8\"],[0.3333333333333333,\"#9c179e\"],[0.4444444444444444,\"#bd3786\"],[0.5555555555555556,\"#d8576b\"],[0.6666666666666666,\"#ed7953\"],[0.7777777777777778,\"#fb9f3a\"],[0.8888888888888888,\"#fdca26\"],[1.0,\"#f0f921\"]]}],\"choropleth\":[{\"type\":\"choropleth\",\"colorbar\":{\"outlinewidth\":0,\"ticks\":\"\"}}],\"histogram2d\":[{\"type\":\"histogram2d\",\"colorbar\":{\"outlinewidth\":0,\"ticks\":\"\"},\"colorscale\":[[0.0,\"#0d0887\"],[0.1111111111111111,\"#46039f\"],[0.2222222222222222,\"#7201a8\"],[0.3333333333333333,\"#9c179e\"],[0.4444444444444444,\"#bd3786\"],[0.5555555555555556,\"#d8576b\"],[0.6666666666666666,\"#ed7953\"],[0.7777777777777778,\"#fb9f3a\"],[0.8888888888888888,\"#fdca26\"],[1.0,\"#f0f921\"]]}],\"heatmap\":[{\"type\":\"heatmap\",\"colorbar\":{\"outlinewidth\":0,\"ticks\":\"\"},\"colorscale\":[[0.0,\"#0d0887\"],[0.1111111111111111,\"#46039f\"],[0.2222222222222222,\"#7201a8\"],[0.3333333333333333,\"#9c179e\"],[0.4444444444444444,\"#bd3786\"],[0.5555555555555556,\"#d8576b\"],[0.6666666666666666,\"#ed7953\"],[0.7777777777777778,\"#fb9f3a\"],[0.8888888888888888,\"#fdca26\"],[1.0,\"#f0f921\"]]}],\"heatmapgl\":[{\"type\":\"heatmapgl\",\"colorbar\":{\"outlinewidth\":0,\"ticks\":\"\"},\"colorscale\":[[0.0,\"#0d0887\"],[0.1111111111111111,\"#46039f\"],[0.2222222222222222,\"#7201a8\"],[0.3333333333333333,\"#9c179e\"],[0.4444444444444444,\"#bd3786\"],[0.5555555555555556,\"#d8576b\"],[0.6666666666666666,\"#ed7953\"],[0.7777777777777778,\"#fb9f3a\"],[0.8888888888888888,\"#fdca26\"],[1.0,\"#f0f921\"]]}],\"contourcarpet\":[{\"type\":\"contourcarpet\",\"colorbar\":{\"outlinewidth\":0,\"ticks\":\"\"}}],\"contour\":[{\"type\":\"contour\",\"colorbar\":{\"outlinewidth\":0,\"ticks\":\"\"},\"colorscale\":[[0.0,\"#0d0887\"],[0.1111111111111111,\"#46039f\"],[0.2222222222222222,\"#7201a8\"],[0.3333333333333333,\"#9c179e\"],[0.4444444444444444,\"#bd3786\"],[0.5555555555555556,\"#d8576b\"],[0.6666666666666666,\"#ed7953\"],[0.7777777777777778,\"#fb9f3a\"],[0.8888888888888888,\"#fdca26\"],[1.0,\"#f0f921\"]]}],\"surface\":[{\"type\":\"surface\",\"colorbar\":{\"outlinewidth\":0,\"ticks\":\"\"},\"colorscale\":[[0.0,\"#0d0887\"],[0.1111111111111111,\"#46039f\"],[0.2222222222222222,\"#7201a8\"],[0.3333333333333333,\"#9c179e\"],[0.4444444444444444,\"#bd3786\"],[0.5555555555555556,\"#d8576b\"],[0.6666666666666666,\"#ed7953\"],[0.7777777777777778,\"#fb9f3a\"],[0.8888888888888888,\"#fdca26\"],[1.0,\"#f0f921\"]]}],\"mesh3d\":[{\"type\":\"mesh3d\",\"colorbar\":{\"outlinewidth\":0,\"ticks\":\"\"}}],\"scatter\":[{\"fillpattern\":{\"fillmode\":\"overlay\",\"size\":10,\"solidity\":0.2},\"type\":\"scatter\"}],\"parcoords\":[{\"type\":\"parcoords\",\"line\":{\"colorbar\":{\"outlinewidth\":0,\"ticks\":\"\"}}}],\"scatterpolargl\":[{\"type\":\"scatterpolargl\",\"marker\":{\"colorbar\":{\"outlinewidth\":0,\"ticks\":\"\"}}}],\"bar\":[{\"error_x\":{\"color\":\"#2a3f5f\"},\"error_y\":{\"color\":\"#2a3f5f\"},\"marker\":{\"line\":{\"color\":\"#E5ECF6\",\"width\":0.5},\"pattern\":{\"fillmode\":\"overlay\",\"size\":10,\"solidity\":0.2}},\"type\":\"bar\"}],\"scattergeo\":[{\"type\":\"scattergeo\",\"marker\":{\"colorbar\":{\"outlinewidth\":0,\"ticks\":\"\"}}}],\"scatterpolar\":[{\"type\":\"scatterpolar\",\"marker\":{\"colorbar\":{\"outlinewidth\":0,\"ticks\":\"\"}}}],\"histogram\":[{\"marker\":{\"pattern\":{\"fillmode\":\"overlay\",\"size\":10,\"solidity\":0.2}},\"type\":\"histogram\"}],\"scattergl\":[{\"type\":\"scattergl\",\"marker\":{\"colorbar\":{\"outlinewidth\":0,\"ticks\":\"\"}}}],\"scatter3d\":[{\"type\":\"scatter3d\",\"line\":{\"colorbar\":{\"outlinewidth\":0,\"ticks\":\"\"}},\"marker\":{\"colorbar\":{\"outlinewidth\":0,\"ticks\":\"\"}}}],\"scattermapbox\":[{\"type\":\"scattermapbox\",\"marker\":{\"colorbar\":{\"outlinewidth\":0,\"ticks\":\"\"}}}],\"scatterternary\":[{\"type\":\"scatterternary\",\"marker\":{\"colorbar\":{\"outlinewidth\":0,\"ticks\":\"\"}}}],\"scattercarpet\":[{\"type\":\"scattercarpet\",\"marker\":{\"colorbar\":{\"outlinewidth\":0,\"ticks\":\"\"}}}],\"carpet\":[{\"aaxis\":{\"endlinecolor\":\"#2a3f5f\",\"gridcolor\":\"white\",\"linecolor\":\"white\",\"minorgridcolor\":\"white\",\"startlinecolor\":\"#2a3f5f\"},\"baxis\":{\"endlinecolor\":\"#2a3f5f\",\"gridcolor\":\"white\",\"linecolor\":\"white\",\"minorgridcolor\":\"white\",\"startlinecolor\":\"#2a3f5f\"},\"type\":\"carpet\"}],\"table\":[{\"cells\":{\"fill\":{\"color\":\"#EBF0F8\"},\"line\":{\"color\":\"white\"}},\"header\":{\"fill\":{\"color\":\"#C8D4E3\"},\"line\":{\"color\":\"white\"}},\"type\":\"table\"}],\"barpolar\":[{\"marker\":{\"line\":{\"color\":\"#E5ECF6\",\"width\":0.5},\"pattern\":{\"fillmode\":\"overlay\",\"size\":10,\"solidity\":0.2}},\"type\":\"barpolar\"}],\"pie\":[{\"automargin\":true,\"type\":\"pie\"}]},\"layout\":{\"autotypenumbers\":\"strict\",\"colorway\":[\"#636efa\",\"#EF553B\",\"#00cc96\",\"#ab63fa\",\"#FFA15A\",\"#19d3f3\",\"#FF6692\",\"#B6E880\",\"#FF97FF\",\"#FECB52\"],\"font\":{\"color\":\"#2a3f5f\"},\"hovermode\":\"closest\",\"hoverlabel\":{\"align\":\"left\"},\"paper_bgcolor\":\"white\",\"plot_bgcolor\":\"#E5ECF6\",\"polar\":{\"bgcolor\":\"#E5ECF6\",\"angularaxis\":{\"gridcolor\":\"white\",\"linecolor\":\"white\",\"ticks\":\"\"},\"radialaxis\":{\"gridcolor\":\"white\",\"linecolor\":\"white\",\"ticks\":\"\"}},\"ternary\":{\"bgcolor\":\"#E5ECF6\",\"aaxis\":{\"gridcolor\":\"white\",\"linecolor\":\"white\",\"ticks\":\"\"},\"baxis\":{\"gridcolor\":\"white\",\"linecolor\":\"white\",\"ticks\":\"\"},\"caxis\":{\"gridcolor\":\"white\",\"linecolor\":\"white\",\"ticks\":\"\"}},\"coloraxis\":{\"colorbar\":{\"outlinewidth\":0,\"ticks\":\"\"}},\"colorscale\":{\"sequential\":[[0.0,\"#0d0887\"],[0.1111111111111111,\"#46039f\"],[0.2222222222222222,\"#7201a8\"],[0.3333333333333333,\"#9c179e\"],[0.4444444444444444,\"#bd3786\"],[0.5555555555555556,\"#d8576b\"],[0.6666666666666666,\"#ed7953\"],[0.7777777777777778,\"#fb9f3a\"],[0.8888888888888888,\"#fdca26\"],[1.0,\"#f0f921\"]],\"sequentialminus\":[[0.0,\"#0d0887\"],[0.1111111111111111,\"#46039f\"],[0.2222222222222222,\"#7201a8\"],[0.3333333333333333,\"#9c179e\"],[0.4444444444444444,\"#bd3786\"],[0.5555555555555556,\"#d8576b\"],[0.6666666666666666,\"#ed7953\"],[0.7777777777777778,\"#fb9f3a\"],[0.8888888888888888,\"#fdca26\"],[1.0,\"#f0f921\"]],\"diverging\":[[0,\"#8e0152\"],[0.1,\"#c51b7d\"],[0.2,\"#de77ae\"],[0.3,\"#f1b6da\"],[0.4,\"#fde0ef\"],[0.5,\"#f7f7f7\"],[0.6,\"#e6f5d0\"],[0.7,\"#b8e186\"],[0.8,\"#7fbc41\"],[0.9,\"#4d9221\"],[1,\"#276419\"]]},\"xaxis\":{\"gridcolor\":\"white\",\"linecolor\":\"white\",\"ticks\":\"\",\"title\":{\"standoff\":15},\"zerolinecolor\":\"white\",\"automargin\":true,\"zerolinewidth\":2},\"yaxis\":{\"gridcolor\":\"white\",\"linecolor\":\"white\",\"ticks\":\"\",\"title\":{\"standoff\":15},\"zerolinecolor\":\"white\",\"automargin\":true,\"zerolinewidth\":2},\"scene\":{\"xaxis\":{\"backgroundcolor\":\"#E5ECF6\",\"gridcolor\":\"white\",\"linecolor\":\"white\",\"showbackground\":true,\"ticks\":\"\",\"zerolinecolor\":\"white\",\"gridwidth\":2},\"yaxis\":{\"backgroundcolor\":\"#E5ECF6\",\"gridcolor\":\"white\",\"linecolor\":\"white\",\"showbackground\":true,\"ticks\":\"\",\"zerolinecolor\":\"white\",\"gridwidth\":2},\"zaxis\":{\"backgroundcolor\":\"#E5ECF6\",\"gridcolor\":\"white\",\"linecolor\":\"white\",\"showbackground\":true,\"ticks\":\"\",\"zerolinecolor\":\"white\",\"gridwidth\":2}},\"shapedefaults\":{\"line\":{\"color\":\"#2a3f5f\"}},\"annotationdefaults\":{\"arrowcolor\":\"#2a3f5f\",\"arrowhead\":0,\"arrowwidth\":1},\"geo\":{\"bgcolor\":\"white\",\"landcolor\":\"#E5ECF6\",\"subunitcolor\":\"white\",\"showland\":true,\"showlakes\":true,\"lakecolor\":\"white\"},\"title\":{\"x\":0.05},\"mapbox\":{\"style\":\"light\"}}},\"title\":{\"text\":\"Heatmap of Team A Projected Points\",\"x\":0.5},\"xaxis\":{\"title\":{\"text\":\"Team A Expected Goals\"}},\"yaxis\":{\"title\":{\"text\":\"Team B Expected Goals\"}}},                        {\"responsive\": true}                    ).then(function(){\n",
       "                            \n",
       "var gd = document.getElementById('64a5b27a-3990-4e33-bc64-e798039a4ae8');\n",
       "var x = new MutationObserver(function (mutations, observer) {{\n",
       "        var display = window.getComputedStyle(gd).display;\n",
       "        if (!display || display === 'none') {{\n",
       "            console.log([gd, 'removed!']);\n",
       "            Plotly.purge(gd);\n",
       "            observer.disconnect();\n",
       "        }}\n",
       "}});\n",
       "\n",
       "// Listen for the removal of the full notebook cells\n",
       "var notebookContainer = gd.closest('#notebook-container');\n",
       "if (notebookContainer) {{\n",
       "    x.observe(notebookContainer, {childList: true});\n",
       "}}\n",
       "\n",
       "// Listen for the clearing of the current output cell\n",
       "var outputEl = gd.closest('.output');\n",
       "if (outputEl) {{\n",
       "    x.observe(outputEl, {childList: true});\n",
       "}}\n",
       "\n",
       "                        })                };                });            </script>        </div>"
      ]
     },
     "metadata": {},
     "output_type": "display_data"
    }
   ],
   "source": [
    "num_list = []\n",
    "for n in range(10,50,1):\n",
    "    num_list.append(n/10)\n",
    "\n",
    "trace = go.Heatmap(x = num_list, y = num_list, z = sims_array, colorbar = {'title': 'Points'})\n",
    "fig = go.Figure(data = [trace])\n",
    "fig.update_layout(title = 'Heatmap of Team A Projected Points', \n",
    "                  xaxis_title = 'Team A Expected Goals', \n",
    "                  yaxis_title = 'Team B Expected Goals',\n",
    "                  title_x = 0.5)\n",
    "fig"
   ]
  },
  {
   "cell_type": "code",
   "execution_count": 14,
   "id": "61168ac3",
   "metadata": {},
   "outputs": [
    {
     "data": {
      "text/html": [
       "<div>\n",
       "<style scoped>\n",
       "    .dataframe tbody tr th:only-of-type {\n",
       "        vertical-align: middle;\n",
       "    }\n",
       "\n",
       "    .dataframe tbody tr th {\n",
       "        vertical-align: top;\n",
       "    }\n",
       "\n",
       "    .dataframe thead th {\n",
       "        text-align: right;\n",
       "    }\n",
       "</style>\n",
       "<table border=\"1\" class=\"dataframe\">\n",
       "  <thead>\n",
       "    <tr style=\"text-align: right;\">\n",
       "      <th></th>\n",
       "      <th>Frequency</th>\n",
       "    </tr>\n",
       "    <tr>\n",
       "      <th>GSPG</th>\n",
       "      <th></th>\n",
       "    </tr>\n",
       "  </thead>\n",
       "  <tbody>\n",
       "    <tr>\n",
       "      <th>1.9</th>\n",
       "      <td>1</td>\n",
       "    </tr>\n",
       "    <tr>\n",
       "      <th>2.0</th>\n",
       "      <td>3</td>\n",
       "    </tr>\n",
       "    <tr>\n",
       "      <th>2.1</th>\n",
       "      <td>2</td>\n",
       "    </tr>\n",
       "    <tr>\n",
       "      <th>2.2</th>\n",
       "      <td>5</td>\n",
       "    </tr>\n",
       "    <tr>\n",
       "      <th>2.3</th>\n",
       "      <td>6</td>\n",
       "    </tr>\n",
       "    <tr>\n",
       "      <th>2.4</th>\n",
       "      <td>19</td>\n",
       "    </tr>\n",
       "    <tr>\n",
       "      <th>2.5</th>\n",
       "      <td>37</td>\n",
       "    </tr>\n",
       "    <tr>\n",
       "      <th>2.6</th>\n",
       "      <td>59</td>\n",
       "    </tr>\n",
       "    <tr>\n",
       "      <th>2.7</th>\n",
       "      <td>56</td>\n",
       "    </tr>\n",
       "    <tr>\n",
       "      <th>2.8</th>\n",
       "      <td>57</td>\n",
       "    </tr>\n",
       "    <tr>\n",
       "      <th>2.9</th>\n",
       "      <td>52</td>\n",
       "    </tr>\n",
       "    <tr>\n",
       "      <th>3.0</th>\n",
       "      <td>58</td>\n",
       "    </tr>\n",
       "    <tr>\n",
       "      <th>3.1</th>\n",
       "      <td>37</td>\n",
       "    </tr>\n",
       "    <tr>\n",
       "      <th>3.2</th>\n",
       "      <td>33</td>\n",
       "    </tr>\n",
       "    <tr>\n",
       "      <th>3.3</th>\n",
       "      <td>23</td>\n",
       "    </tr>\n",
       "    <tr>\n",
       "      <th>3.4</th>\n",
       "      <td>14</td>\n",
       "    </tr>\n",
       "    <tr>\n",
       "      <th>3.5</th>\n",
       "      <td>9</td>\n",
       "    </tr>\n",
       "    <tr>\n",
       "      <th>3.6</th>\n",
       "      <td>4</td>\n",
       "    </tr>\n",
       "    <tr>\n",
       "      <th>3.7</th>\n",
       "      <td>1</td>\n",
       "    </tr>\n",
       "    <tr>\n",
       "      <th>3.8</th>\n",
       "      <td>6</td>\n",
       "    </tr>\n",
       "    <tr>\n",
       "      <th>3.9</th>\n",
       "      <td>1</td>\n",
       "    </tr>\n",
       "    <tr>\n",
       "      <th>4.0</th>\n",
       "      <td>1</td>\n",
       "    </tr>\n",
       "    <tr>\n",
       "      <th>4.1</th>\n",
       "      <td>1</td>\n",
       "    </tr>\n",
       "  </tbody>\n",
       "</table>\n",
       "</div>"
      ],
      "text/plain": [
       "      Frequency\n",
       "GSPG           \n",
       "1.9           1\n",
       "2.0           3\n",
       "2.1           2\n",
       "2.2           5\n",
       "2.3           6\n",
       "2.4          19\n",
       "2.5          37\n",
       "2.6          59\n",
       "2.7          56\n",
       "2.8          57\n",
       "2.9          52\n",
       "3.0          58\n",
       "3.1          37\n",
       "3.2          33\n",
       "3.3          23\n",
       "3.4          14\n",
       "3.5           9\n",
       "3.6           4\n",
       "3.7           1\n",
       "3.8           6\n",
       "3.9           1\n",
       "4.0           1\n",
       "4.1           1"
      ]
     },
     "execution_count": 14,
     "metadata": {},
     "output_type": "execute_result"
    }
   ],
   "source": [
    "gspg_table = goal_dif.groupby('GSPG').count()\n",
    "gspg_table.drop(columns = ['Games Played', 'Goals Scored', 'Goals Allowed', 'GAPG', 'Year', 'Conference'], inplace = True)\n",
    "gspg_table.rename(columns = {'Team': 'Frequency'}, inplace = True)\n",
    "gspg_table"
   ]
  },
  {
   "cell_type": "code",
   "execution_count": 99,
   "id": "d1ac9504",
   "metadata": {
    "scrolled": true
   },
   "outputs": [
    {
     "data": {
      "application/vnd.plotly.v1+json": {
       "config": {
        "plotlyServerURL": "https://plot.ly"
       },
       "data": [
        {
         "type": "histogram",
         "x": [
          3.3,
          3,
          3.1,
          2.8,
          3,
          3.8,
          3.4,
          3,
          3.1,
          2.8,
          3.6,
          3.1,
          3.4,
          2.9,
          2.9,
          3.7,
          3.2,
          2.7,
          2.6,
          2.4,
          2.7,
          3.5,
          3.1,
          3.1,
          2.8,
          3.2,
          3.2,
          3.1,
          3,
          3,
          2.6,
          3.4,
          3,
          3,
          2.6,
          3.8,
          3.5,
          3.1,
          3,
          2.7,
          3,
          3.1,
          2.9,
          3,
          2.9,
          3.1,
          3.3,
          2.6,
          2.5,
          2.5,
          2.7,
          2.9,
          3.1,
          3.3,
          2.4,
          3.1,
          3.1,
          2.8,
          2.8,
          2.6,
          3,
          2.5,
          2.6,
          3,
          2.4,
          3.2,
          3.2,
          2.6,
          3.1,
          2.8,
          3,
          3.1,
          2.6,
          2.6,
          2.7,
          3.1,
          2.8,
          2.9,
          2.4,
          2.5,
          2.7,
          2.8,
          2.8,
          2.6,
          2.9,
          2.7,
          2.5,
          3,
          2.6,
          2.8,
          3,
          3.2,
          3.2,
          2.6,
          2.5,
          3.3,
          3,
          3,
          2.6,
          3,
          3.3,
          2.9,
          2.9,
          3.1,
          2.6,
          3.6,
          3.2,
          2.8,
          2.8,
          2.6,
          3,
          3.1,
          2.7,
          2.9,
          2.4,
          3.1,
          3,
          2.8,
          2.5,
          2.5,
          2.7,
          3.1,
          2.9,
          2.7,
          2.7,
          2.9,
          2.7,
          2.5,
          2.6,
          2.6,
          3.9,
          2.9,
          2.8,
          2.6,
          2.5,
          3.3,
          2.8,
          2.7,
          2.7,
          2.6,
          3.3,
          3,
          2.5,
          2.7,
          2.6,
          3.2,
          2.7,
          2.9,
          2.9,
          2.9,
          3.2,
          2.9,
          2.8,
          2.1,
          2.8,
          3,
          2.6,
          3,
          2.7,
          2.3,
          2.7,
          3,
          2.9,
          2.7,
          2.4,
          3.2,
          2.7,
          3.1,
          2.9,
          2.6,
          3.2,
          3,
          2.5,
          2.8,
          2.4,
          3,
          2.9,
          2.8,
          2.7,
          2.8,
          2.8,
          3.4,
          3.2,
          2.8,
          2.5,
          3.3,
          3,
          2.7,
          2.8,
          2.6,
          2.5,
          2.7,
          2.9,
          2.7,
          2.6,
          2.6,
          2.9,
          3,
          3,
          2.5,
          3,
          2.5,
          2.5,
          2.2,
          2.6,
          2.6,
          2.8,
          2.4,
          2.6,
          2.5,
          3.4,
          2.7,
          2.9,
          2.8,
          2.3,
          3.1,
          2.7,
          3,
          2.4,
          2.6,
          3.1,
          2.7,
          2.7,
          3.1,
          2.3,
          3.2,
          2.7,
          2.6,
          2.5,
          2.3,
          2.6,
          2.5,
          2.6,
          2.7,
          2.4,
          2.9,
          2.8,
          2.6,
          2.6,
          2.7,
          3.2,
          2.9,
          2.6,
          2.7,
          2.9,
          2.8,
          2.4,
          1.9,
          3,
          2.7,
          2.9,
          2.8,
          2.9,
          2.4,
          2.5,
          2.7,
          3,
          3,
          3.3,
          2.5,
          2.9,
          2.6,
          2.8,
          3.2,
          3,
          2.5,
          2.6,
          2.4,
          2.5,
          2.5,
          2.7,
          3.2,
          2.9,
          2.9,
          2.6,
          2.5,
          2.6,
          2,
          3.1,
          3.1,
          3,
          2.7,
          2.9,
          2.6,
          2.2,
          2.3,
          3,
          2.8,
          2.8,
          2.8,
          2.8,
          3.2,
          2.7,
          2.9,
          3,
          2.9,
          2.7,
          2.8,
          2.4,
          2.1,
          2.9,
          2.8,
          2.6,
          2.9,
          2.9,
          2.7,
          2.5,
          2.4,
          3.1,
          3,
          2.9,
          2.8,
          2.6,
          2.4,
          2.2,
          2.7,
          3.3,
          2.7,
          2.9,
          2.8,
          2.6,
          2.6,
          2.6,
          2.7,
          2.7,
          2.9,
          2.5,
          2.8,
          2.3,
          2.5,
          2.8,
          2.6,
          2.9,
          3.1,
          2.9,
          2.6,
          2.5,
          2.5,
          3.2,
          3.4,
          3,
          3.1,
          2.9,
          2.7,
          2.6,
          2.2,
          3,
          3.2,
          2.9,
          2.9,
          3,
          2.7,
          2,
          2.7,
          3,
          2.7,
          2.8,
          2.5,
          2.4,
          2.2,
          3.6,
          3.3,
          3.4,
          3,
          2.6,
          2.5,
          2.7,
          2.4,
          3.2,
          3.3,
          3.1,
          3,
          3,
          2.8,
          3.2,
          2.8,
          3.3,
          3.4,
          3.1,
          3.1,
          2.8,
          2.9,
          2.8,
          3.3,
          2.9,
          3.1,
          2.9,
          2.7,
          2.9,
          2.7,
          2.5,
          4,
          3.2,
          3.5,
          3,
          3.3,
          2.8,
          2.8,
          3,
          3.4,
          2.8,
          3.3,
          3,
          3.1,
          3,
          2.8,
          2.7,
          2.9,
          3.3,
          3,
          2.6,
          3.2,
          3.3,
          2.6,
          3.5,
          3.5,
          3,
          2.6,
          2.7,
          2.4,
          2.8,
          2.5,
          3.2,
          3.5,
          3.4,
          3.3,
          3,
          2.8,
          2.7,
          2,
          3.5,
          3.4,
          3.2,
          3.3,
          2.6,
          2.8,
          3.3,
          2.7,
          3.2,
          3.4,
          2.6,
          3,
          3.1,
          3.2,
          3,
          3.2,
          3.2,
          3,
          3.3,
          2.8,
          2.6,
          2.5,
          2.6,
          4.1,
          3.8,
          3.5,
          3.1,
          2.8,
          2.8,
          2.8,
          2.7,
          3.4,
          3.1,
          3.3,
          3.4,
          2.8,
          3.2,
          3,
          2.6,
          3.8,
          3.8,
          3.8,
          2.9,
          3.2,
          3.1,
          2.7,
          2.5,
          3.6,
          3.5,
          2.9,
          3.2,
          3,
          2.6,
          2.8,
          2.6
         ]
        }
       ],
       "layout": {
        "plot_bgcolor": "rgba(0,0,0,0)",
        "shapes": [
         {
          "line": {
           "width": 1
          },
          "opacity": 0.2,
          "type": "line",
          "x0": 0,
          "x1": 1,
          "xref": "x domain",
          "y0": 10,
          "y1": 10,
          "yref": "y"
         },
         {
          "line": {
           "width": 1
          },
          "opacity": 0.2,
          "type": "line",
          "x0": 0,
          "x1": 1,
          "xref": "x domain",
          "y0": 20,
          "y1": 20,
          "yref": "y"
         },
         {
          "line": {
           "width": 1
          },
          "opacity": 0.2,
          "type": "line",
          "x0": 0,
          "x1": 1,
          "xref": "x domain",
          "y0": 30,
          "y1": 30,
          "yref": "y"
         },
         {
          "line": {
           "width": 1
          },
          "opacity": 0.2,
          "type": "line",
          "x0": 0,
          "x1": 1,
          "xref": "x domain",
          "y0": 40,
          "y1": 40,
          "yref": "y"
         },
         {
          "line": {
           "width": 1
          },
          "opacity": 0.2,
          "type": "line",
          "x0": 0,
          "x1": 1,
          "xref": "x domain",
          "y0": 50,
          "y1": 50,
          "yref": "y"
         },
         {
          "line": {
           "width": 1
          },
          "opacity": 0.2,
          "type": "line",
          "x0": 0,
          "x1": 1,
          "xref": "x domain",
          "y0": 60,
          "y1": 60,
          "yref": "y"
         }
        ],
        "template": {
         "data": {
          "bar": [
           {
            "error_x": {
             "color": "#2a3f5f"
            },
            "error_y": {
             "color": "#2a3f5f"
            },
            "marker": {
             "line": {
              "color": "#E5ECF6",
              "width": 0.5
             },
             "pattern": {
              "fillmode": "overlay",
              "size": 10,
              "solidity": 0.2
             }
            },
            "type": "bar"
           }
          ],
          "barpolar": [
           {
            "marker": {
             "line": {
              "color": "#E5ECF6",
              "width": 0.5
             },
             "pattern": {
              "fillmode": "overlay",
              "size": 10,
              "solidity": 0.2
             }
            },
            "type": "barpolar"
           }
          ],
          "carpet": [
           {
            "aaxis": {
             "endlinecolor": "#2a3f5f",
             "gridcolor": "white",
             "linecolor": "white",
             "minorgridcolor": "white",
             "startlinecolor": "#2a3f5f"
            },
            "baxis": {
             "endlinecolor": "#2a3f5f",
             "gridcolor": "white",
             "linecolor": "white",
             "minorgridcolor": "white",
             "startlinecolor": "#2a3f5f"
            },
            "type": "carpet"
           }
          ],
          "choropleth": [
           {
            "colorbar": {
             "outlinewidth": 0,
             "ticks": ""
            },
            "type": "choropleth"
           }
          ],
          "contour": [
           {
            "colorbar": {
             "outlinewidth": 0,
             "ticks": ""
            },
            "colorscale": [
             [
              0,
              "#0d0887"
             ],
             [
              0.1111111111111111,
              "#46039f"
             ],
             [
              0.2222222222222222,
              "#7201a8"
             ],
             [
              0.3333333333333333,
              "#9c179e"
             ],
             [
              0.4444444444444444,
              "#bd3786"
             ],
             [
              0.5555555555555556,
              "#d8576b"
             ],
             [
              0.6666666666666666,
              "#ed7953"
             ],
             [
              0.7777777777777778,
              "#fb9f3a"
             ],
             [
              0.8888888888888888,
              "#fdca26"
             ],
             [
              1,
              "#f0f921"
             ]
            ],
            "type": "contour"
           }
          ],
          "contourcarpet": [
           {
            "colorbar": {
             "outlinewidth": 0,
             "ticks": ""
            },
            "type": "contourcarpet"
           }
          ],
          "heatmap": [
           {
            "colorbar": {
             "outlinewidth": 0,
             "ticks": ""
            },
            "colorscale": [
             [
              0,
              "#0d0887"
             ],
             [
              0.1111111111111111,
              "#46039f"
             ],
             [
              0.2222222222222222,
              "#7201a8"
             ],
             [
              0.3333333333333333,
              "#9c179e"
             ],
             [
              0.4444444444444444,
              "#bd3786"
             ],
             [
              0.5555555555555556,
              "#d8576b"
             ],
             [
              0.6666666666666666,
              "#ed7953"
             ],
             [
              0.7777777777777778,
              "#fb9f3a"
             ],
             [
              0.8888888888888888,
              "#fdca26"
             ],
             [
              1,
              "#f0f921"
             ]
            ],
            "type": "heatmap"
           }
          ],
          "heatmapgl": [
           {
            "colorbar": {
             "outlinewidth": 0,
             "ticks": ""
            },
            "colorscale": [
             [
              0,
              "#0d0887"
             ],
             [
              0.1111111111111111,
              "#46039f"
             ],
             [
              0.2222222222222222,
              "#7201a8"
             ],
             [
              0.3333333333333333,
              "#9c179e"
             ],
             [
              0.4444444444444444,
              "#bd3786"
             ],
             [
              0.5555555555555556,
              "#d8576b"
             ],
             [
              0.6666666666666666,
              "#ed7953"
             ],
             [
              0.7777777777777778,
              "#fb9f3a"
             ],
             [
              0.8888888888888888,
              "#fdca26"
             ],
             [
              1,
              "#f0f921"
             ]
            ],
            "type": "heatmapgl"
           }
          ],
          "histogram": [
           {
            "marker": {
             "pattern": {
              "fillmode": "overlay",
              "size": 10,
              "solidity": 0.2
             }
            },
            "type": "histogram"
           }
          ],
          "histogram2d": [
           {
            "colorbar": {
             "outlinewidth": 0,
             "ticks": ""
            },
            "colorscale": [
             [
              0,
              "#0d0887"
             ],
             [
              0.1111111111111111,
              "#46039f"
             ],
             [
              0.2222222222222222,
              "#7201a8"
             ],
             [
              0.3333333333333333,
              "#9c179e"
             ],
             [
              0.4444444444444444,
              "#bd3786"
             ],
             [
              0.5555555555555556,
              "#d8576b"
             ],
             [
              0.6666666666666666,
              "#ed7953"
             ],
             [
              0.7777777777777778,
              "#fb9f3a"
             ],
             [
              0.8888888888888888,
              "#fdca26"
             ],
             [
              1,
              "#f0f921"
             ]
            ],
            "type": "histogram2d"
           }
          ],
          "histogram2dcontour": [
           {
            "colorbar": {
             "outlinewidth": 0,
             "ticks": ""
            },
            "colorscale": [
             [
              0,
              "#0d0887"
             ],
             [
              0.1111111111111111,
              "#46039f"
             ],
             [
              0.2222222222222222,
              "#7201a8"
             ],
             [
              0.3333333333333333,
              "#9c179e"
             ],
             [
              0.4444444444444444,
              "#bd3786"
             ],
             [
              0.5555555555555556,
              "#d8576b"
             ],
             [
              0.6666666666666666,
              "#ed7953"
             ],
             [
              0.7777777777777778,
              "#fb9f3a"
             ],
             [
              0.8888888888888888,
              "#fdca26"
             ],
             [
              1,
              "#f0f921"
             ]
            ],
            "type": "histogram2dcontour"
           }
          ],
          "mesh3d": [
           {
            "colorbar": {
             "outlinewidth": 0,
             "ticks": ""
            },
            "type": "mesh3d"
           }
          ],
          "parcoords": [
           {
            "line": {
             "colorbar": {
              "outlinewidth": 0,
              "ticks": ""
             }
            },
            "type": "parcoords"
           }
          ],
          "pie": [
           {
            "automargin": true,
            "type": "pie"
           }
          ],
          "scatter": [
           {
            "fillpattern": {
             "fillmode": "overlay",
             "size": 10,
             "solidity": 0.2
            },
            "type": "scatter"
           }
          ],
          "scatter3d": [
           {
            "line": {
             "colorbar": {
              "outlinewidth": 0,
              "ticks": ""
             }
            },
            "marker": {
             "colorbar": {
              "outlinewidth": 0,
              "ticks": ""
             }
            },
            "type": "scatter3d"
           }
          ],
          "scattercarpet": [
           {
            "marker": {
             "colorbar": {
              "outlinewidth": 0,
              "ticks": ""
             }
            },
            "type": "scattercarpet"
           }
          ],
          "scattergeo": [
           {
            "marker": {
             "colorbar": {
              "outlinewidth": 0,
              "ticks": ""
             }
            },
            "type": "scattergeo"
           }
          ],
          "scattergl": [
           {
            "marker": {
             "colorbar": {
              "outlinewidth": 0,
              "ticks": ""
             }
            },
            "type": "scattergl"
           }
          ],
          "scattermapbox": [
           {
            "marker": {
             "colorbar": {
              "outlinewidth": 0,
              "ticks": ""
             }
            },
            "type": "scattermapbox"
           }
          ],
          "scatterpolar": [
           {
            "marker": {
             "colorbar": {
              "outlinewidth": 0,
              "ticks": ""
             }
            },
            "type": "scatterpolar"
           }
          ],
          "scatterpolargl": [
           {
            "marker": {
             "colorbar": {
              "outlinewidth": 0,
              "ticks": ""
             }
            },
            "type": "scatterpolargl"
           }
          ],
          "scatterternary": [
           {
            "marker": {
             "colorbar": {
              "outlinewidth": 0,
              "ticks": ""
             }
            },
            "type": "scatterternary"
           }
          ],
          "surface": [
           {
            "colorbar": {
             "outlinewidth": 0,
             "ticks": ""
            },
            "colorscale": [
             [
              0,
              "#0d0887"
             ],
             [
              0.1111111111111111,
              "#46039f"
             ],
             [
              0.2222222222222222,
              "#7201a8"
             ],
             [
              0.3333333333333333,
              "#9c179e"
             ],
             [
              0.4444444444444444,
              "#bd3786"
             ],
             [
              0.5555555555555556,
              "#d8576b"
             ],
             [
              0.6666666666666666,
              "#ed7953"
             ],
             [
              0.7777777777777778,
              "#fb9f3a"
             ],
             [
              0.8888888888888888,
              "#fdca26"
             ],
             [
              1,
              "#f0f921"
             ]
            ],
            "type": "surface"
           }
          ],
          "table": [
           {
            "cells": {
             "fill": {
              "color": "#EBF0F8"
             },
             "line": {
              "color": "white"
             }
            },
            "header": {
             "fill": {
              "color": "#C8D4E3"
             },
             "line": {
              "color": "white"
             }
            },
            "type": "table"
           }
          ]
         },
         "layout": {
          "annotationdefaults": {
           "arrowcolor": "#2a3f5f",
           "arrowhead": 0,
           "arrowwidth": 1
          },
          "autotypenumbers": "strict",
          "coloraxis": {
           "colorbar": {
            "outlinewidth": 0,
            "ticks": ""
           }
          },
          "colorscale": {
           "diverging": [
            [
             0,
             "#8e0152"
            ],
            [
             0.1,
             "#c51b7d"
            ],
            [
             0.2,
             "#de77ae"
            ],
            [
             0.3,
             "#f1b6da"
            ],
            [
             0.4,
             "#fde0ef"
            ],
            [
             0.5,
             "#f7f7f7"
            ],
            [
             0.6,
             "#e6f5d0"
            ],
            [
             0.7,
             "#b8e186"
            ],
            [
             0.8,
             "#7fbc41"
            ],
            [
             0.9,
             "#4d9221"
            ],
            [
             1,
             "#276419"
            ]
           ],
           "sequential": [
            [
             0,
             "#0d0887"
            ],
            [
             0.1111111111111111,
             "#46039f"
            ],
            [
             0.2222222222222222,
             "#7201a8"
            ],
            [
             0.3333333333333333,
             "#9c179e"
            ],
            [
             0.4444444444444444,
             "#bd3786"
            ],
            [
             0.5555555555555556,
             "#d8576b"
            ],
            [
             0.6666666666666666,
             "#ed7953"
            ],
            [
             0.7777777777777778,
             "#fb9f3a"
            ],
            [
             0.8888888888888888,
             "#fdca26"
            ],
            [
             1,
             "#f0f921"
            ]
           ],
           "sequentialminus": [
            [
             0,
             "#0d0887"
            ],
            [
             0.1111111111111111,
             "#46039f"
            ],
            [
             0.2222222222222222,
             "#7201a8"
            ],
            [
             0.3333333333333333,
             "#9c179e"
            ],
            [
             0.4444444444444444,
             "#bd3786"
            ],
            [
             0.5555555555555556,
             "#d8576b"
            ],
            [
             0.6666666666666666,
             "#ed7953"
            ],
            [
             0.7777777777777778,
             "#fb9f3a"
            ],
            [
             0.8888888888888888,
             "#fdca26"
            ],
            [
             1,
             "#f0f921"
            ]
           ]
          },
          "colorway": [
           "#636efa",
           "#EF553B",
           "#00cc96",
           "#ab63fa",
           "#FFA15A",
           "#19d3f3",
           "#FF6692",
           "#B6E880",
           "#FF97FF",
           "#FECB52"
          ],
          "font": {
           "color": "#2a3f5f"
          },
          "geo": {
           "bgcolor": "white",
           "lakecolor": "white",
           "landcolor": "#E5ECF6",
           "showlakes": true,
           "showland": true,
           "subunitcolor": "white"
          },
          "hoverlabel": {
           "align": "left"
          },
          "hovermode": "closest",
          "mapbox": {
           "style": "light"
          },
          "paper_bgcolor": "white",
          "plot_bgcolor": "#E5ECF6",
          "polar": {
           "angularaxis": {
            "gridcolor": "white",
            "linecolor": "white",
            "ticks": ""
           },
           "bgcolor": "#E5ECF6",
           "radialaxis": {
            "gridcolor": "white",
            "linecolor": "white",
            "ticks": ""
           }
          },
          "scene": {
           "xaxis": {
            "backgroundcolor": "#E5ECF6",
            "gridcolor": "white",
            "gridwidth": 2,
            "linecolor": "white",
            "showbackground": true,
            "ticks": "",
            "zerolinecolor": "white"
           },
           "yaxis": {
            "backgroundcolor": "#E5ECF6",
            "gridcolor": "white",
            "gridwidth": 2,
            "linecolor": "white",
            "showbackground": true,
            "ticks": "",
            "zerolinecolor": "white"
           },
           "zaxis": {
            "backgroundcolor": "#E5ECF6",
            "gridcolor": "white",
            "gridwidth": 2,
            "linecolor": "white",
            "showbackground": true,
            "ticks": "",
            "zerolinecolor": "white"
           }
          },
          "shapedefaults": {
           "line": {
            "color": "#2a3f5f"
           }
          },
          "ternary": {
           "aaxis": {
            "gridcolor": "white",
            "linecolor": "white",
            "ticks": ""
           },
           "baxis": {
            "gridcolor": "white",
            "linecolor": "white",
            "ticks": ""
           },
           "bgcolor": "#E5ECF6",
           "caxis": {
            "gridcolor": "white",
            "linecolor": "white",
            "ticks": ""
           }
          },
          "title": {
           "x": 0.05
          },
          "xaxis": {
           "automargin": true,
           "gridcolor": "white",
           "linecolor": "white",
           "ticks": "",
           "title": {
            "standoff": 15
           },
           "zerolinecolor": "white",
           "zerolinewidth": 2
          },
          "yaxis": {
           "automargin": true,
           "gridcolor": "white",
           "linecolor": "white",
           "ticks": "",
           "title": {
            "standoff": 15
           },
           "zerolinecolor": "white",
           "zerolinewidth": 2
          }
         }
        },
        "title": {
         "text": "Distribution of Goals Per Game since 2005",
         "x": 0.5
        },
        "xaxis": {
         "title": {
          "text": "Goals per Game"
         }
        },
        "yaxis": {
         "title": {
          "text": "Number of Teams"
         }
        }
       }
      },
      "text/html": [
       "<div>                            <div id=\"5f07dd30-8119-4982-a7c2-631edb1c13fc\" class=\"plotly-graph-div\" style=\"height:525px; width:100%;\"></div>            <script type=\"text/javascript\">                require([\"plotly\"], function(Plotly) {                    window.PLOTLYENV=window.PLOTLYENV || {};                                    if (document.getElementById(\"5f07dd30-8119-4982-a7c2-631edb1c13fc\")) {                    Plotly.newPlot(                        \"5f07dd30-8119-4982-a7c2-631edb1c13fc\",                        [{\"x\":[3.3,3.0,3.1,2.8,3.0,3.8,3.4,3.0,3.1,2.8,3.6,3.1,3.4,2.9,2.9,3.7,3.2,2.7,2.6,2.4,2.7,3.5,3.1,3.1,2.8,3.2,3.2,3.1,3.0,3.0,2.6,3.4,3.0,3.0,2.6,3.8,3.5,3.1,3.0,2.7,3.0,3.1,2.9,3.0,2.9,3.1,3.3,2.6,2.5,2.5,2.7,2.9,3.1,3.3,2.4,3.1,3.1,2.8,2.8,2.6,3.0,2.5,2.6,3.0,2.4,3.2,3.2,2.6,3.1,2.8,3.0,3.1,2.6,2.6,2.7,3.1,2.8,2.9,2.4,2.5,2.7,2.8,2.8,2.6,2.9,2.7,2.5,3.0,2.6,2.8,3.0,3.2,3.2,2.6,2.5,3.3,3.0,3.0,2.6,3.0,3.3,2.9,2.9,3.1,2.6,3.6,3.2,2.8,2.8,2.6,3.0,3.1,2.7,2.9,2.4,3.1,3.0,2.8,2.5,2.5,2.7,3.1,2.9,2.7,2.7,2.9,2.7,2.5,2.6,2.6,3.9,2.9,2.8,2.6,2.5,3.3,2.8,2.7,2.7,2.6,3.3,3.0,2.5,2.7,2.6,3.2,2.7,2.9,2.9,2.9,3.2,2.9,2.8,2.1,2.8,3.0,2.6,3.0,2.7,2.3,2.7,3.0,2.9,2.7,2.4,3.2,2.7,3.1,2.9,2.6,3.2,3.0,2.5,2.8,2.4,3.0,2.9,2.8,2.7,2.8,2.8,3.4,3.2,2.8,2.5,3.3,3.0,2.7,2.8,2.6,2.5,2.7,2.9,2.7,2.6,2.6,2.9,3.0,3.0,2.5,3.0,2.5,2.5,2.2,2.6,2.6,2.8,2.4,2.6,2.5,3.4,2.7,2.9,2.8,2.3,3.1,2.7,3.0,2.4,2.6,3.1,2.7,2.7,3.1,2.3,3.2,2.7,2.6,2.5,2.3,2.6,2.5,2.6,2.7,2.4,2.9,2.8,2.6,2.6,2.7,3.2,2.9,2.6,2.7,2.9,2.8,2.4,1.9,3.0,2.7,2.9,2.8,2.9,2.4,2.5,2.7,3.0,3.0,3.3,2.5,2.9,2.6,2.8,3.2,3.0,2.5,2.6,2.4,2.5,2.5,2.7,3.2,2.9,2.9,2.6,2.5,2.6,2.0,3.1,3.1,3.0,2.7,2.9,2.6,2.2,2.3,3.0,2.8,2.8,2.8,2.8,3.2,2.7,2.9,3.0,2.9,2.7,2.8,2.4,2.1,2.9,2.8,2.6,2.9,2.9,2.7,2.5,2.4,3.1,3.0,2.9,2.8,2.6,2.4,2.2,2.7,3.3,2.7,2.9,2.8,2.6,2.6,2.6,2.7,2.7,2.9,2.5,2.8,2.3,2.5,2.8,2.6,2.9,3.1,2.9,2.6,2.5,2.5,3.2,3.4,3.0,3.1,2.9,2.7,2.6,2.2,3.0,3.2,2.9,2.9,3.0,2.7,2.0,2.7,3.0,2.7,2.8,2.5,2.4,2.2,3.6,3.3,3.4,3.0,2.6,2.5,2.7,2.4,3.2,3.3,3.1,3.0,3.0,2.8,3.2,2.8,3.3,3.4,3.1,3.1,2.8,2.9,2.8,3.3,2.9,3.1,2.9,2.7,2.9,2.7,2.5,4.0,3.2,3.5,3.0,3.3,2.8,2.8,3.0,3.4,2.8,3.3,3.0,3.1,3.0,2.8,2.7,2.9,3.3,3.0,2.6,3.2,3.3,2.6,3.5,3.5,3.0,2.6,2.7,2.4,2.8,2.5,3.2,3.5,3.4,3.3,3.0,2.8,2.7,2.0,3.5,3.4,3.2,3.3,2.6,2.8,3.3,2.7,3.2,3.4,2.6,3.0,3.1,3.2,3.0,3.2,3.2,3.0,3.3,2.8,2.6,2.5,2.6,4.1,3.8,3.5,3.1,2.8,2.8,2.8,2.7,3.4,3.1,3.3,3.4,2.8,3.2,3.0,2.6,3.8,3.8,3.8,2.9,3.2,3.1,2.7,2.5,3.6,3.5,2.9,3.2,3.0,2.6,2.8,2.6],\"type\":\"histogram\"}],                        {\"template\":{\"data\":{\"histogram2dcontour\":[{\"type\":\"histogram2dcontour\",\"colorbar\":{\"outlinewidth\":0,\"ticks\":\"\"},\"colorscale\":[[0.0,\"#0d0887\"],[0.1111111111111111,\"#46039f\"],[0.2222222222222222,\"#7201a8\"],[0.3333333333333333,\"#9c179e\"],[0.4444444444444444,\"#bd3786\"],[0.5555555555555556,\"#d8576b\"],[0.6666666666666666,\"#ed7953\"],[0.7777777777777778,\"#fb9f3a\"],[0.8888888888888888,\"#fdca26\"],[1.0,\"#f0f921\"]]}],\"choropleth\":[{\"type\":\"choropleth\",\"colorbar\":{\"outlinewidth\":0,\"ticks\":\"\"}}],\"histogram2d\":[{\"type\":\"histogram2d\",\"colorbar\":{\"outlinewidth\":0,\"ticks\":\"\"},\"colorscale\":[[0.0,\"#0d0887\"],[0.1111111111111111,\"#46039f\"],[0.2222222222222222,\"#7201a8\"],[0.3333333333333333,\"#9c179e\"],[0.4444444444444444,\"#bd3786\"],[0.5555555555555556,\"#d8576b\"],[0.6666666666666666,\"#ed7953\"],[0.7777777777777778,\"#fb9f3a\"],[0.8888888888888888,\"#fdca26\"],[1.0,\"#f0f921\"]]}],\"heatmap\":[{\"type\":\"heatmap\",\"colorbar\":{\"outlinewidth\":0,\"ticks\":\"\"},\"colorscale\":[[0.0,\"#0d0887\"],[0.1111111111111111,\"#46039f\"],[0.2222222222222222,\"#7201a8\"],[0.3333333333333333,\"#9c179e\"],[0.4444444444444444,\"#bd3786\"],[0.5555555555555556,\"#d8576b\"],[0.6666666666666666,\"#ed7953\"],[0.7777777777777778,\"#fb9f3a\"],[0.8888888888888888,\"#fdca26\"],[1.0,\"#f0f921\"]]}],\"heatmapgl\":[{\"type\":\"heatmapgl\",\"colorbar\":{\"outlinewidth\":0,\"ticks\":\"\"},\"colorscale\":[[0.0,\"#0d0887\"],[0.1111111111111111,\"#46039f\"],[0.2222222222222222,\"#7201a8\"],[0.3333333333333333,\"#9c179e\"],[0.4444444444444444,\"#bd3786\"],[0.5555555555555556,\"#d8576b\"],[0.6666666666666666,\"#ed7953\"],[0.7777777777777778,\"#fb9f3a\"],[0.8888888888888888,\"#fdca26\"],[1.0,\"#f0f921\"]]}],\"contourcarpet\":[{\"type\":\"contourcarpet\",\"colorbar\":{\"outlinewidth\":0,\"ticks\":\"\"}}],\"contour\":[{\"type\":\"contour\",\"colorbar\":{\"outlinewidth\":0,\"ticks\":\"\"},\"colorscale\":[[0.0,\"#0d0887\"],[0.1111111111111111,\"#46039f\"],[0.2222222222222222,\"#7201a8\"],[0.3333333333333333,\"#9c179e\"],[0.4444444444444444,\"#bd3786\"],[0.5555555555555556,\"#d8576b\"],[0.6666666666666666,\"#ed7953\"],[0.7777777777777778,\"#fb9f3a\"],[0.8888888888888888,\"#fdca26\"],[1.0,\"#f0f921\"]]}],\"surface\":[{\"type\":\"surface\",\"colorbar\":{\"outlinewidth\":0,\"ticks\":\"\"},\"colorscale\":[[0.0,\"#0d0887\"],[0.1111111111111111,\"#46039f\"],[0.2222222222222222,\"#7201a8\"],[0.3333333333333333,\"#9c179e\"],[0.4444444444444444,\"#bd3786\"],[0.5555555555555556,\"#d8576b\"],[0.6666666666666666,\"#ed7953\"],[0.7777777777777778,\"#fb9f3a\"],[0.8888888888888888,\"#fdca26\"],[1.0,\"#f0f921\"]]}],\"mesh3d\":[{\"type\":\"mesh3d\",\"colorbar\":{\"outlinewidth\":0,\"ticks\":\"\"}}],\"scatter\":[{\"fillpattern\":{\"fillmode\":\"overlay\",\"size\":10,\"solidity\":0.2},\"type\":\"scatter\"}],\"parcoords\":[{\"type\":\"parcoords\",\"line\":{\"colorbar\":{\"outlinewidth\":0,\"ticks\":\"\"}}}],\"scatterpolargl\":[{\"type\":\"scatterpolargl\",\"marker\":{\"colorbar\":{\"outlinewidth\":0,\"ticks\":\"\"}}}],\"bar\":[{\"error_x\":{\"color\":\"#2a3f5f\"},\"error_y\":{\"color\":\"#2a3f5f\"},\"marker\":{\"line\":{\"color\":\"#E5ECF6\",\"width\":0.5},\"pattern\":{\"fillmode\":\"overlay\",\"size\":10,\"solidity\":0.2}},\"type\":\"bar\"}],\"scattergeo\":[{\"type\":\"scattergeo\",\"marker\":{\"colorbar\":{\"outlinewidth\":0,\"ticks\":\"\"}}}],\"scatterpolar\":[{\"type\":\"scatterpolar\",\"marker\":{\"colorbar\":{\"outlinewidth\":0,\"ticks\":\"\"}}}],\"histogram\":[{\"marker\":{\"pattern\":{\"fillmode\":\"overlay\",\"size\":10,\"solidity\":0.2}},\"type\":\"histogram\"}],\"scattergl\":[{\"type\":\"scattergl\",\"marker\":{\"colorbar\":{\"outlinewidth\":0,\"ticks\":\"\"}}}],\"scatter3d\":[{\"type\":\"scatter3d\",\"line\":{\"colorbar\":{\"outlinewidth\":0,\"ticks\":\"\"}},\"marker\":{\"colorbar\":{\"outlinewidth\":0,\"ticks\":\"\"}}}],\"scattermapbox\":[{\"type\":\"scattermapbox\",\"marker\":{\"colorbar\":{\"outlinewidth\":0,\"ticks\":\"\"}}}],\"scatterternary\":[{\"type\":\"scatterternary\",\"marker\":{\"colorbar\":{\"outlinewidth\":0,\"ticks\":\"\"}}}],\"scattercarpet\":[{\"type\":\"scattercarpet\",\"marker\":{\"colorbar\":{\"outlinewidth\":0,\"ticks\":\"\"}}}],\"carpet\":[{\"aaxis\":{\"endlinecolor\":\"#2a3f5f\",\"gridcolor\":\"white\",\"linecolor\":\"white\",\"minorgridcolor\":\"white\",\"startlinecolor\":\"#2a3f5f\"},\"baxis\":{\"endlinecolor\":\"#2a3f5f\",\"gridcolor\":\"white\",\"linecolor\":\"white\",\"minorgridcolor\":\"white\",\"startlinecolor\":\"#2a3f5f\"},\"type\":\"carpet\"}],\"table\":[{\"cells\":{\"fill\":{\"color\":\"#EBF0F8\"},\"line\":{\"color\":\"white\"}},\"header\":{\"fill\":{\"color\":\"#C8D4E3\"},\"line\":{\"color\":\"white\"}},\"type\":\"table\"}],\"barpolar\":[{\"marker\":{\"line\":{\"color\":\"#E5ECF6\",\"width\":0.5},\"pattern\":{\"fillmode\":\"overlay\",\"size\":10,\"solidity\":0.2}},\"type\":\"barpolar\"}],\"pie\":[{\"automargin\":true,\"type\":\"pie\"}]},\"layout\":{\"autotypenumbers\":\"strict\",\"colorway\":[\"#636efa\",\"#EF553B\",\"#00cc96\",\"#ab63fa\",\"#FFA15A\",\"#19d3f3\",\"#FF6692\",\"#B6E880\",\"#FF97FF\",\"#FECB52\"],\"font\":{\"color\":\"#2a3f5f\"},\"hovermode\":\"closest\",\"hoverlabel\":{\"align\":\"left\"},\"paper_bgcolor\":\"white\",\"plot_bgcolor\":\"#E5ECF6\",\"polar\":{\"bgcolor\":\"#E5ECF6\",\"angularaxis\":{\"gridcolor\":\"white\",\"linecolor\":\"white\",\"ticks\":\"\"},\"radialaxis\":{\"gridcolor\":\"white\",\"linecolor\":\"white\",\"ticks\":\"\"}},\"ternary\":{\"bgcolor\":\"#E5ECF6\",\"aaxis\":{\"gridcolor\":\"white\",\"linecolor\":\"white\",\"ticks\":\"\"},\"baxis\":{\"gridcolor\":\"white\",\"linecolor\":\"white\",\"ticks\":\"\"},\"caxis\":{\"gridcolor\":\"white\",\"linecolor\":\"white\",\"ticks\":\"\"}},\"coloraxis\":{\"colorbar\":{\"outlinewidth\":0,\"ticks\":\"\"}},\"colorscale\":{\"sequential\":[[0.0,\"#0d0887\"],[0.1111111111111111,\"#46039f\"],[0.2222222222222222,\"#7201a8\"],[0.3333333333333333,\"#9c179e\"],[0.4444444444444444,\"#bd3786\"],[0.5555555555555556,\"#d8576b\"],[0.6666666666666666,\"#ed7953\"],[0.7777777777777778,\"#fb9f3a\"],[0.8888888888888888,\"#fdca26\"],[1.0,\"#f0f921\"]],\"sequentialminus\":[[0.0,\"#0d0887\"],[0.1111111111111111,\"#46039f\"],[0.2222222222222222,\"#7201a8\"],[0.3333333333333333,\"#9c179e\"],[0.4444444444444444,\"#bd3786\"],[0.5555555555555556,\"#d8576b\"],[0.6666666666666666,\"#ed7953\"],[0.7777777777777778,\"#fb9f3a\"],[0.8888888888888888,\"#fdca26\"],[1.0,\"#f0f921\"]],\"diverging\":[[0,\"#8e0152\"],[0.1,\"#c51b7d\"],[0.2,\"#de77ae\"],[0.3,\"#f1b6da\"],[0.4,\"#fde0ef\"],[0.5,\"#f7f7f7\"],[0.6,\"#e6f5d0\"],[0.7,\"#b8e186\"],[0.8,\"#7fbc41\"],[0.9,\"#4d9221\"],[1,\"#276419\"]]},\"xaxis\":{\"gridcolor\":\"white\",\"linecolor\":\"white\",\"ticks\":\"\",\"title\":{\"standoff\":15},\"zerolinecolor\":\"white\",\"automargin\":true,\"zerolinewidth\":2},\"yaxis\":{\"gridcolor\":\"white\",\"linecolor\":\"white\",\"ticks\":\"\",\"title\":{\"standoff\":15},\"zerolinecolor\":\"white\",\"automargin\":true,\"zerolinewidth\":2},\"scene\":{\"xaxis\":{\"backgroundcolor\":\"#E5ECF6\",\"gridcolor\":\"white\",\"linecolor\":\"white\",\"showbackground\":true,\"ticks\":\"\",\"zerolinecolor\":\"white\",\"gridwidth\":2},\"yaxis\":{\"backgroundcolor\":\"#E5ECF6\",\"gridcolor\":\"white\",\"linecolor\":\"white\",\"showbackground\":true,\"ticks\":\"\",\"zerolinecolor\":\"white\",\"gridwidth\":2},\"zaxis\":{\"backgroundcolor\":\"#E5ECF6\",\"gridcolor\":\"white\",\"linecolor\":\"white\",\"showbackground\":true,\"ticks\":\"\",\"zerolinecolor\":\"white\",\"gridwidth\":2}},\"shapedefaults\":{\"line\":{\"color\":\"#2a3f5f\"}},\"annotationdefaults\":{\"arrowcolor\":\"#2a3f5f\",\"arrowhead\":0,\"arrowwidth\":1},\"geo\":{\"bgcolor\":\"white\",\"landcolor\":\"#E5ECF6\",\"subunitcolor\":\"white\",\"showland\":true,\"showlakes\":true,\"lakecolor\":\"white\"},\"title\":{\"x\":0.05},\"mapbox\":{\"style\":\"light\"}}},\"plot_bgcolor\":\"rgba(0,0,0,0)\",\"shapes\":[{\"line\":{\"width\":1},\"opacity\":0.2,\"type\":\"line\",\"x0\":0,\"x1\":1,\"xref\":\"x domain\",\"y0\":10,\"y1\":10,\"yref\":\"y\"},{\"line\":{\"width\":1},\"opacity\":0.2,\"type\":\"line\",\"x0\":0,\"x1\":1,\"xref\":\"x domain\",\"y0\":20,\"y1\":20,\"yref\":\"y\"},{\"line\":{\"width\":1},\"opacity\":0.2,\"type\":\"line\",\"x0\":0,\"x1\":1,\"xref\":\"x domain\",\"y0\":30,\"y1\":30,\"yref\":\"y\"},{\"line\":{\"width\":1},\"opacity\":0.2,\"type\":\"line\",\"x0\":0,\"x1\":1,\"xref\":\"x domain\",\"y0\":40,\"y1\":40,\"yref\":\"y\"},{\"line\":{\"width\":1},\"opacity\":0.2,\"type\":\"line\",\"x0\":0,\"x1\":1,\"xref\":\"x domain\",\"y0\":50,\"y1\":50,\"yref\":\"y\"},{\"line\":{\"width\":1},\"opacity\":0.2,\"type\":\"line\",\"x0\":0,\"x1\":1,\"xref\":\"x domain\",\"y0\":60,\"y1\":60,\"yref\":\"y\"}],\"title\":{\"text\":\"Distribution of Goals Per Game since 2005\",\"x\":0.5},\"yaxis\":{\"title\":{\"text\":\"Number of Teams\"}},\"xaxis\":{\"title\":{\"text\":\"Goals per Game\"}}},                        {\"responsive\": true}                    ).then(function(){\n",
       "                            \n",
       "var gd = document.getElementById('5f07dd30-8119-4982-a7c2-631edb1c13fc');\n",
       "var x = new MutationObserver(function (mutations, observer) {{\n",
       "        var display = window.getComputedStyle(gd).display;\n",
       "        if (!display || display === 'none') {{\n",
       "            console.log([gd, 'removed!']);\n",
       "            Plotly.purge(gd);\n",
       "            observer.disconnect();\n",
       "        }}\n",
       "}});\n",
       "\n",
       "// Listen for the removal of the full notebook cells\n",
       "var notebookContainer = gd.closest('#notebook-container');\n",
       "if (notebookContainer) {{\n",
       "    x.observe(notebookContainer, {childList: true});\n",
       "}}\n",
       "\n",
       "// Listen for the clearing of the current output cell\n",
       "var outputEl = gd.closest('.output');\n",
       "if (outputEl) {{\n",
       "    x.observe(outputEl, {childList: true});\n",
       "}}\n",
       "\n",
       "                        })                };                });            </script>        </div>"
      ]
     },
     "metadata": {},
     "output_type": "display_data"
    }
   ],
   "source": [
    "hist = go.Figure(data = go.Histogram(x = goal_dif['GSPG']))\n",
    "hist.update_layout({'plot_bgcolor': 'rgba(0,0,0,0)'})\n",
    "hist.add_hline(y = 10, line_width = 1, opacity = 0.2)\n",
    "hist.add_hline(y = 20, line_width = 1, opacity = 0.2)\n",
    "hist.add_hline(y = 30, line_width = 1, opacity = 0.2)\n",
    "hist.add_hline(y = 40, line_width = 1, opacity = 0.2)\n",
    "hist.add_hline(y = 50, line_width = 1, opacity = 0.2)\n",
    "hist.add_hline(y = 60, line_width = 1, opacity = 0.2)\n",
    "hist.update_layout(title = 'Distribution of Goals Per Game since 2005', title_x = 0.5)\n",
    "hist.update_layout(yaxis_title = 'Number of Teams')\n",
    "hist.update_layout(xaxis_title = 'Goals per Game')"
   ]
  },
  {
   "cell_type": "code",
   "execution_count": 87,
   "id": "9d6106d8",
   "metadata": {},
   "outputs": [
    {
     "data": {
      "application/vnd.plotly.v1+json": {
       "config": {
        "plotlyServerURL": "https://plot.ly"
       },
       "data": [
        {
         "alignmentgroup": "True",
         "bingroup": "x",
         "hovertemplate": "GSPG=%{x}<br>count=%{y}<extra></extra>",
         "legendgroup": "",
         "marker": {
          "color": "#636efa",
          "pattern": {
           "shape": ""
          }
         },
         "name": "",
         "offsetgroup": "",
         "orientation": "v",
         "showlegend": false,
         "type": "histogram",
         "x": [
          3.3,
          3,
          3.1,
          2.8,
          3,
          3.8,
          3.4,
          3,
          3.1,
          2.8,
          3.6,
          3.1,
          3.4,
          2.9,
          2.9,
          3.7,
          3.2,
          2.7,
          2.6,
          2.4,
          2.7,
          3.5,
          3.1,
          3.1,
          2.8,
          3.2,
          3.2,
          3.1,
          3,
          3,
          2.6,
          3.4,
          3,
          3,
          2.6,
          3.8,
          3.5,
          3.1,
          3,
          2.7,
          3,
          3.1,
          2.9,
          3,
          2.9,
          3.1,
          3.3,
          2.6,
          2.5,
          2.5,
          2.7,
          2.9,
          3.1,
          3.3,
          2.4,
          3.1,
          3.1,
          2.8,
          2.8,
          2.6,
          3,
          2.5,
          2.6,
          3,
          2.4,
          3.2,
          3.2,
          2.6,
          3.1,
          2.8,
          3,
          3.1,
          2.6,
          2.6,
          2.7,
          3.1,
          2.8,
          2.9,
          2.4,
          2.5,
          2.7,
          2.8,
          2.8,
          2.6,
          2.9,
          2.7,
          2.5,
          3,
          2.6,
          2.8,
          3,
          3.2,
          3.2,
          2.6,
          2.5,
          3.3,
          3,
          3,
          2.6,
          3,
          3.3,
          2.9,
          2.9,
          3.1,
          2.6,
          3.6,
          3.2,
          2.8,
          2.8,
          2.6,
          3,
          3.1,
          2.7,
          2.9,
          2.4,
          3.1,
          3,
          2.8,
          2.5,
          2.5,
          2.7,
          3.1,
          2.9,
          2.7,
          2.7,
          2.9,
          2.7,
          2.5,
          2.6,
          2.6,
          3.9,
          2.9,
          2.8,
          2.6,
          2.5,
          3.3,
          2.8,
          2.7,
          2.7,
          2.6,
          3.3,
          3,
          2.5,
          2.7,
          2.6,
          3.2,
          2.7,
          2.9,
          2.9,
          2.9,
          3.2,
          2.9,
          2.8,
          2.1,
          2.8,
          3,
          2.6,
          3,
          2.7,
          2.3,
          2.7,
          3,
          2.9,
          2.7,
          2.4,
          3.2,
          2.7,
          3.1,
          2.9,
          2.6,
          3.2,
          3,
          2.5,
          2.8,
          2.4,
          3,
          2.9,
          2.8,
          2.7,
          2.8,
          2.8,
          3.4,
          3.2,
          2.8,
          2.5,
          3.3,
          3,
          2.7,
          2.8,
          2.6,
          2.5,
          2.7,
          2.9,
          2.7,
          2.6,
          2.6,
          2.9,
          3,
          3,
          2.5,
          3,
          2.5,
          2.5,
          2.2,
          2.6,
          2.6,
          2.8,
          2.4,
          2.6,
          2.5,
          3.4,
          2.7,
          2.9,
          2.8,
          2.3,
          3.1,
          2.7,
          3,
          2.4,
          2.6,
          3.1,
          2.7,
          2.7,
          3.1,
          2.3,
          3.2,
          2.7,
          2.6,
          2.5,
          2.3,
          2.6,
          2.5,
          2.6,
          2.7,
          2.4,
          2.9,
          2.8,
          2.6,
          2.6,
          2.7,
          3.2,
          2.9,
          2.6,
          2.7,
          2.9,
          2.8,
          2.4,
          1.9,
          3,
          2.7,
          2.9,
          2.8,
          2.9,
          2.4,
          2.5,
          2.7,
          3,
          3,
          3.3,
          2.5,
          2.9,
          2.6,
          2.8,
          3.2,
          3,
          2.5,
          2.6,
          2.4,
          2.5,
          2.5,
          2.7,
          3.2,
          2.9,
          2.9,
          2.6,
          2.5,
          2.6,
          2,
          3.1,
          3.1,
          3,
          2.7,
          2.9,
          2.6,
          2.2,
          2.3,
          3,
          2.8,
          2.8,
          2.8,
          2.8,
          3.2,
          2.7,
          2.9,
          3,
          2.9,
          2.7,
          2.8,
          2.4,
          2.1,
          2.9,
          2.8,
          2.6,
          2.9,
          2.9,
          2.7,
          2.5,
          2.4,
          3.1,
          3,
          2.9,
          2.8,
          2.6,
          2.4,
          2.2,
          2.7,
          3.3,
          2.7,
          2.9,
          2.8,
          2.6,
          2.6,
          2.6,
          2.7,
          2.7,
          2.9,
          2.5,
          2.8,
          2.3,
          2.5,
          2.8,
          2.6,
          2.9,
          3.1,
          2.9,
          2.6,
          2.5,
          2.5,
          3.2,
          3.4,
          3,
          3.1,
          2.9,
          2.7,
          2.6,
          2.2,
          3,
          3.2,
          2.9,
          2.9,
          3,
          2.7,
          2,
          2.7,
          3,
          2.7,
          2.8,
          2.5,
          2.4,
          2.2,
          3.6,
          3.3,
          3.4,
          3,
          2.6,
          2.5,
          2.7,
          2.4,
          3.2,
          3.3,
          3.1,
          3,
          3,
          2.8,
          3.2,
          2.8,
          3.3,
          3.4,
          3.1,
          3.1,
          2.8,
          2.9,
          2.8,
          3.3,
          2.9,
          3.1,
          2.9,
          2.7,
          2.9,
          2.7,
          2.5,
          4,
          3.2,
          3.5,
          3,
          3.3,
          2.8,
          2.8,
          3,
          3.4,
          2.8,
          3.3,
          3,
          3.1,
          3,
          2.8,
          2.7,
          2.9,
          3.3,
          3,
          2.6,
          3.2,
          3.3,
          2.6,
          3.5,
          3.5,
          3,
          2.6,
          2.7,
          2.4,
          2.8,
          2.5,
          3.2,
          3.5,
          3.4,
          3.3,
          3,
          2.8,
          2.7,
          2,
          3.5,
          3.4,
          3.2,
          3.3,
          2.6,
          2.8,
          3.3,
          2.7,
          3.2,
          3.4,
          2.6,
          3,
          3.1,
          3.2,
          3,
          3.2,
          3.2,
          3,
          3.3,
          2.8,
          2.6,
          2.5,
          2.6,
          4.1,
          3.8,
          3.5,
          3.1,
          2.8,
          2.8,
          2.8,
          2.7,
          3.4,
          3.1,
          3.3,
          3.4,
          2.8,
          3.2,
          3,
          2.6,
          3.8,
          3.8,
          3.8,
          2.9,
          3.2,
          3.1,
          2.7,
          2.5,
          3.6,
          3.5,
          2.9,
          3.2,
          3,
          2.6,
          2.8,
          2.6
         ],
         "xaxis": "x",
         "yaxis": "y"
        }
       ],
       "layout": {
        "barmode": "relative",
        "legend": {
         "tracegroupgap": 0
        },
        "margin": {
         "t": 60
        },
        "template": {
         "data": {
          "bar": [
           {
            "error_x": {
             "color": "#2a3f5f"
            },
            "error_y": {
             "color": "#2a3f5f"
            },
            "marker": {
             "line": {
              "color": "#E5ECF6",
              "width": 0.5
             },
             "pattern": {
              "fillmode": "overlay",
              "size": 10,
              "solidity": 0.2
             }
            },
            "type": "bar"
           }
          ],
          "barpolar": [
           {
            "marker": {
             "line": {
              "color": "#E5ECF6",
              "width": 0.5
             },
             "pattern": {
              "fillmode": "overlay",
              "size": 10,
              "solidity": 0.2
             }
            },
            "type": "barpolar"
           }
          ],
          "carpet": [
           {
            "aaxis": {
             "endlinecolor": "#2a3f5f",
             "gridcolor": "white",
             "linecolor": "white",
             "minorgridcolor": "white",
             "startlinecolor": "#2a3f5f"
            },
            "baxis": {
             "endlinecolor": "#2a3f5f",
             "gridcolor": "white",
             "linecolor": "white",
             "minorgridcolor": "white",
             "startlinecolor": "#2a3f5f"
            },
            "type": "carpet"
           }
          ],
          "choropleth": [
           {
            "colorbar": {
             "outlinewidth": 0,
             "ticks": ""
            },
            "type": "choropleth"
           }
          ],
          "contour": [
           {
            "colorbar": {
             "outlinewidth": 0,
             "ticks": ""
            },
            "colorscale": [
             [
              0,
              "#0d0887"
             ],
             [
              0.1111111111111111,
              "#46039f"
             ],
             [
              0.2222222222222222,
              "#7201a8"
             ],
             [
              0.3333333333333333,
              "#9c179e"
             ],
             [
              0.4444444444444444,
              "#bd3786"
             ],
             [
              0.5555555555555556,
              "#d8576b"
             ],
             [
              0.6666666666666666,
              "#ed7953"
             ],
             [
              0.7777777777777778,
              "#fb9f3a"
             ],
             [
              0.8888888888888888,
              "#fdca26"
             ],
             [
              1,
              "#f0f921"
             ]
            ],
            "type": "contour"
           }
          ],
          "contourcarpet": [
           {
            "colorbar": {
             "outlinewidth": 0,
             "ticks": ""
            },
            "type": "contourcarpet"
           }
          ],
          "heatmap": [
           {
            "colorbar": {
             "outlinewidth": 0,
             "ticks": ""
            },
            "colorscale": [
             [
              0,
              "#0d0887"
             ],
             [
              0.1111111111111111,
              "#46039f"
             ],
             [
              0.2222222222222222,
              "#7201a8"
             ],
             [
              0.3333333333333333,
              "#9c179e"
             ],
             [
              0.4444444444444444,
              "#bd3786"
             ],
             [
              0.5555555555555556,
              "#d8576b"
             ],
             [
              0.6666666666666666,
              "#ed7953"
             ],
             [
              0.7777777777777778,
              "#fb9f3a"
             ],
             [
              0.8888888888888888,
              "#fdca26"
             ],
             [
              1,
              "#f0f921"
             ]
            ],
            "type": "heatmap"
           }
          ],
          "heatmapgl": [
           {
            "colorbar": {
             "outlinewidth": 0,
             "ticks": ""
            },
            "colorscale": [
             [
              0,
              "#0d0887"
             ],
             [
              0.1111111111111111,
              "#46039f"
             ],
             [
              0.2222222222222222,
              "#7201a8"
             ],
             [
              0.3333333333333333,
              "#9c179e"
             ],
             [
              0.4444444444444444,
              "#bd3786"
             ],
             [
              0.5555555555555556,
              "#d8576b"
             ],
             [
              0.6666666666666666,
              "#ed7953"
             ],
             [
              0.7777777777777778,
              "#fb9f3a"
             ],
             [
              0.8888888888888888,
              "#fdca26"
             ],
             [
              1,
              "#f0f921"
             ]
            ],
            "type": "heatmapgl"
           }
          ],
          "histogram": [
           {
            "marker": {
             "pattern": {
              "fillmode": "overlay",
              "size": 10,
              "solidity": 0.2
             }
            },
            "type": "histogram"
           }
          ],
          "histogram2d": [
           {
            "colorbar": {
             "outlinewidth": 0,
             "ticks": ""
            },
            "colorscale": [
             [
              0,
              "#0d0887"
             ],
             [
              0.1111111111111111,
              "#46039f"
             ],
             [
              0.2222222222222222,
              "#7201a8"
             ],
             [
              0.3333333333333333,
              "#9c179e"
             ],
             [
              0.4444444444444444,
              "#bd3786"
             ],
             [
              0.5555555555555556,
              "#d8576b"
             ],
             [
              0.6666666666666666,
              "#ed7953"
             ],
             [
              0.7777777777777778,
              "#fb9f3a"
             ],
             [
              0.8888888888888888,
              "#fdca26"
             ],
             [
              1,
              "#f0f921"
             ]
            ],
            "type": "histogram2d"
           }
          ],
          "histogram2dcontour": [
           {
            "colorbar": {
             "outlinewidth": 0,
             "ticks": ""
            },
            "colorscale": [
             [
              0,
              "#0d0887"
             ],
             [
              0.1111111111111111,
              "#46039f"
             ],
             [
              0.2222222222222222,
              "#7201a8"
             ],
             [
              0.3333333333333333,
              "#9c179e"
             ],
             [
              0.4444444444444444,
              "#bd3786"
             ],
             [
              0.5555555555555556,
              "#d8576b"
             ],
             [
              0.6666666666666666,
              "#ed7953"
             ],
             [
              0.7777777777777778,
              "#fb9f3a"
             ],
             [
              0.8888888888888888,
              "#fdca26"
             ],
             [
              1,
              "#f0f921"
             ]
            ],
            "type": "histogram2dcontour"
           }
          ],
          "mesh3d": [
           {
            "colorbar": {
             "outlinewidth": 0,
             "ticks": ""
            },
            "type": "mesh3d"
           }
          ],
          "parcoords": [
           {
            "line": {
             "colorbar": {
              "outlinewidth": 0,
              "ticks": ""
             }
            },
            "type": "parcoords"
           }
          ],
          "pie": [
           {
            "automargin": true,
            "type": "pie"
           }
          ],
          "scatter": [
           {
            "fillpattern": {
             "fillmode": "overlay",
             "size": 10,
             "solidity": 0.2
            },
            "type": "scatter"
           }
          ],
          "scatter3d": [
           {
            "line": {
             "colorbar": {
              "outlinewidth": 0,
              "ticks": ""
             }
            },
            "marker": {
             "colorbar": {
              "outlinewidth": 0,
              "ticks": ""
             }
            },
            "type": "scatter3d"
           }
          ],
          "scattercarpet": [
           {
            "marker": {
             "colorbar": {
              "outlinewidth": 0,
              "ticks": ""
             }
            },
            "type": "scattercarpet"
           }
          ],
          "scattergeo": [
           {
            "marker": {
             "colorbar": {
              "outlinewidth": 0,
              "ticks": ""
             }
            },
            "type": "scattergeo"
           }
          ],
          "scattergl": [
           {
            "marker": {
             "colorbar": {
              "outlinewidth": 0,
              "ticks": ""
             }
            },
            "type": "scattergl"
           }
          ],
          "scattermapbox": [
           {
            "marker": {
             "colorbar": {
              "outlinewidth": 0,
              "ticks": ""
             }
            },
            "type": "scattermapbox"
           }
          ],
          "scatterpolar": [
           {
            "marker": {
             "colorbar": {
              "outlinewidth": 0,
              "ticks": ""
             }
            },
            "type": "scatterpolar"
           }
          ],
          "scatterpolargl": [
           {
            "marker": {
             "colorbar": {
              "outlinewidth": 0,
              "ticks": ""
             }
            },
            "type": "scatterpolargl"
           }
          ],
          "scatterternary": [
           {
            "marker": {
             "colorbar": {
              "outlinewidth": 0,
              "ticks": ""
             }
            },
            "type": "scatterternary"
           }
          ],
          "surface": [
           {
            "colorbar": {
             "outlinewidth": 0,
             "ticks": ""
            },
            "colorscale": [
             [
              0,
              "#0d0887"
             ],
             [
              0.1111111111111111,
              "#46039f"
             ],
             [
              0.2222222222222222,
              "#7201a8"
             ],
             [
              0.3333333333333333,
              "#9c179e"
             ],
             [
              0.4444444444444444,
              "#bd3786"
             ],
             [
              0.5555555555555556,
              "#d8576b"
             ],
             [
              0.6666666666666666,
              "#ed7953"
             ],
             [
              0.7777777777777778,
              "#fb9f3a"
             ],
             [
              0.8888888888888888,
              "#fdca26"
             ],
             [
              1,
              "#f0f921"
             ]
            ],
            "type": "surface"
           }
          ],
          "table": [
           {
            "cells": {
             "fill": {
              "color": "#EBF0F8"
             },
             "line": {
              "color": "white"
             }
            },
            "header": {
             "fill": {
              "color": "#C8D4E3"
             },
             "line": {
              "color": "white"
             }
            },
            "type": "table"
           }
          ]
         },
         "layout": {
          "annotationdefaults": {
           "arrowcolor": "#2a3f5f",
           "arrowhead": 0,
           "arrowwidth": 1
          },
          "autotypenumbers": "strict",
          "coloraxis": {
           "colorbar": {
            "outlinewidth": 0,
            "ticks": ""
           }
          },
          "colorscale": {
           "diverging": [
            [
             0,
             "#8e0152"
            ],
            [
             0.1,
             "#c51b7d"
            ],
            [
             0.2,
             "#de77ae"
            ],
            [
             0.3,
             "#f1b6da"
            ],
            [
             0.4,
             "#fde0ef"
            ],
            [
             0.5,
             "#f7f7f7"
            ],
            [
             0.6,
             "#e6f5d0"
            ],
            [
             0.7,
             "#b8e186"
            ],
            [
             0.8,
             "#7fbc41"
            ],
            [
             0.9,
             "#4d9221"
            ],
            [
             1,
             "#276419"
            ]
           ],
           "sequential": [
            [
             0,
             "#0d0887"
            ],
            [
             0.1111111111111111,
             "#46039f"
            ],
            [
             0.2222222222222222,
             "#7201a8"
            ],
            [
             0.3333333333333333,
             "#9c179e"
            ],
            [
             0.4444444444444444,
             "#bd3786"
            ],
            [
             0.5555555555555556,
             "#d8576b"
            ],
            [
             0.6666666666666666,
             "#ed7953"
            ],
            [
             0.7777777777777778,
             "#fb9f3a"
            ],
            [
             0.8888888888888888,
             "#fdca26"
            ],
            [
             1,
             "#f0f921"
            ]
           ],
           "sequentialminus": [
            [
             0,
             "#0d0887"
            ],
            [
             0.1111111111111111,
             "#46039f"
            ],
            [
             0.2222222222222222,
             "#7201a8"
            ],
            [
             0.3333333333333333,
             "#9c179e"
            ],
            [
             0.4444444444444444,
             "#bd3786"
            ],
            [
             0.5555555555555556,
             "#d8576b"
            ],
            [
             0.6666666666666666,
             "#ed7953"
            ],
            [
             0.7777777777777778,
             "#fb9f3a"
            ],
            [
             0.8888888888888888,
             "#fdca26"
            ],
            [
             1,
             "#f0f921"
            ]
           ]
          },
          "colorway": [
           "#636efa",
           "#EF553B",
           "#00cc96",
           "#ab63fa",
           "#FFA15A",
           "#19d3f3",
           "#FF6692",
           "#B6E880",
           "#FF97FF",
           "#FECB52"
          ],
          "font": {
           "color": "#2a3f5f"
          },
          "geo": {
           "bgcolor": "white",
           "lakecolor": "white",
           "landcolor": "#E5ECF6",
           "showlakes": true,
           "showland": true,
           "subunitcolor": "white"
          },
          "hoverlabel": {
           "align": "left"
          },
          "hovermode": "closest",
          "mapbox": {
           "style": "light"
          },
          "paper_bgcolor": "white",
          "plot_bgcolor": "#E5ECF6",
          "polar": {
           "angularaxis": {
            "gridcolor": "white",
            "linecolor": "white",
            "ticks": ""
           },
           "bgcolor": "#E5ECF6",
           "radialaxis": {
            "gridcolor": "white",
            "linecolor": "white",
            "ticks": ""
           }
          },
          "scene": {
           "xaxis": {
            "backgroundcolor": "#E5ECF6",
            "gridcolor": "white",
            "gridwidth": 2,
            "linecolor": "white",
            "showbackground": true,
            "ticks": "",
            "zerolinecolor": "white"
           },
           "yaxis": {
            "backgroundcolor": "#E5ECF6",
            "gridcolor": "white",
            "gridwidth": 2,
            "linecolor": "white",
            "showbackground": true,
            "ticks": "",
            "zerolinecolor": "white"
           },
           "zaxis": {
            "backgroundcolor": "#E5ECF6",
            "gridcolor": "white",
            "gridwidth": 2,
            "linecolor": "white",
            "showbackground": true,
            "ticks": "",
            "zerolinecolor": "white"
           }
          },
          "shapedefaults": {
           "line": {
            "color": "#2a3f5f"
           }
          },
          "ternary": {
           "aaxis": {
            "gridcolor": "white",
            "linecolor": "white",
            "ticks": ""
           },
           "baxis": {
            "gridcolor": "white",
            "linecolor": "white",
            "ticks": ""
           },
           "bgcolor": "#E5ECF6",
           "caxis": {
            "gridcolor": "white",
            "linecolor": "white",
            "ticks": ""
           }
          },
          "title": {
           "x": 0.05
          },
          "xaxis": {
           "automargin": true,
           "gridcolor": "white",
           "linecolor": "white",
           "ticks": "",
           "title": {
            "standoff": 15
           },
           "zerolinecolor": "white",
           "zerolinewidth": 2
          },
          "yaxis": {
           "automargin": true,
           "gridcolor": "white",
           "linecolor": "white",
           "ticks": "",
           "title": {
            "standoff": 15
           },
           "zerolinecolor": "white",
           "zerolinewidth": 2
          }
         }
        },
        "xaxis": {
         "anchor": "y",
         "domain": [
          0,
          1
         ],
         "title": {
          "text": "GSPG"
         }
        },
        "yaxis": {
         "anchor": "x",
         "domain": [
          0,
          1
         ],
         "title": {
          "text": "count"
         }
        }
       }
      },
      "text/html": [
       "<div>                            <div id=\"d4c1cc58-5902-44fb-90e3-4842e6b24b83\" class=\"plotly-graph-div\" style=\"height:525px; width:100%;\"></div>            <script type=\"text/javascript\">                require([\"plotly\"], function(Plotly) {                    window.PLOTLYENV=window.PLOTLYENV || {};                                    if (document.getElementById(\"d4c1cc58-5902-44fb-90e3-4842e6b24b83\")) {                    Plotly.newPlot(                        \"d4c1cc58-5902-44fb-90e3-4842e6b24b83\",                        [{\"alignmentgroup\":\"True\",\"bingroup\":\"x\",\"hovertemplate\":\"GSPG=%{x}<br>count=%{y}<extra></extra>\",\"legendgroup\":\"\",\"marker\":{\"color\":\"#636efa\",\"pattern\":{\"shape\":\"\"}},\"name\":\"\",\"offsetgroup\":\"\",\"orientation\":\"v\",\"showlegend\":false,\"x\":[3.3,3.0,3.1,2.8,3.0,3.8,3.4,3.0,3.1,2.8,3.6,3.1,3.4,2.9,2.9,3.7,3.2,2.7,2.6,2.4,2.7,3.5,3.1,3.1,2.8,3.2,3.2,3.1,3.0,3.0,2.6,3.4,3.0,3.0,2.6,3.8,3.5,3.1,3.0,2.7,3.0,3.1,2.9,3.0,2.9,3.1,3.3,2.6,2.5,2.5,2.7,2.9,3.1,3.3,2.4,3.1,3.1,2.8,2.8,2.6,3.0,2.5,2.6,3.0,2.4,3.2,3.2,2.6,3.1,2.8,3.0,3.1,2.6,2.6,2.7,3.1,2.8,2.9,2.4,2.5,2.7,2.8,2.8,2.6,2.9,2.7,2.5,3.0,2.6,2.8,3.0,3.2,3.2,2.6,2.5,3.3,3.0,3.0,2.6,3.0,3.3,2.9,2.9,3.1,2.6,3.6,3.2,2.8,2.8,2.6,3.0,3.1,2.7,2.9,2.4,3.1,3.0,2.8,2.5,2.5,2.7,3.1,2.9,2.7,2.7,2.9,2.7,2.5,2.6,2.6,3.9,2.9,2.8,2.6,2.5,3.3,2.8,2.7,2.7,2.6,3.3,3.0,2.5,2.7,2.6,3.2,2.7,2.9,2.9,2.9,3.2,2.9,2.8,2.1,2.8,3.0,2.6,3.0,2.7,2.3,2.7,3.0,2.9,2.7,2.4,3.2,2.7,3.1,2.9,2.6,3.2,3.0,2.5,2.8,2.4,3.0,2.9,2.8,2.7,2.8,2.8,3.4,3.2,2.8,2.5,3.3,3.0,2.7,2.8,2.6,2.5,2.7,2.9,2.7,2.6,2.6,2.9,3.0,3.0,2.5,3.0,2.5,2.5,2.2,2.6,2.6,2.8,2.4,2.6,2.5,3.4,2.7,2.9,2.8,2.3,3.1,2.7,3.0,2.4,2.6,3.1,2.7,2.7,3.1,2.3,3.2,2.7,2.6,2.5,2.3,2.6,2.5,2.6,2.7,2.4,2.9,2.8,2.6,2.6,2.7,3.2,2.9,2.6,2.7,2.9,2.8,2.4,1.9,3.0,2.7,2.9,2.8,2.9,2.4,2.5,2.7,3.0,3.0,3.3,2.5,2.9,2.6,2.8,3.2,3.0,2.5,2.6,2.4,2.5,2.5,2.7,3.2,2.9,2.9,2.6,2.5,2.6,2.0,3.1,3.1,3.0,2.7,2.9,2.6,2.2,2.3,3.0,2.8,2.8,2.8,2.8,3.2,2.7,2.9,3.0,2.9,2.7,2.8,2.4,2.1,2.9,2.8,2.6,2.9,2.9,2.7,2.5,2.4,3.1,3.0,2.9,2.8,2.6,2.4,2.2,2.7,3.3,2.7,2.9,2.8,2.6,2.6,2.6,2.7,2.7,2.9,2.5,2.8,2.3,2.5,2.8,2.6,2.9,3.1,2.9,2.6,2.5,2.5,3.2,3.4,3.0,3.1,2.9,2.7,2.6,2.2,3.0,3.2,2.9,2.9,3.0,2.7,2.0,2.7,3.0,2.7,2.8,2.5,2.4,2.2,3.6,3.3,3.4,3.0,2.6,2.5,2.7,2.4,3.2,3.3,3.1,3.0,3.0,2.8,3.2,2.8,3.3,3.4,3.1,3.1,2.8,2.9,2.8,3.3,2.9,3.1,2.9,2.7,2.9,2.7,2.5,4.0,3.2,3.5,3.0,3.3,2.8,2.8,3.0,3.4,2.8,3.3,3.0,3.1,3.0,2.8,2.7,2.9,3.3,3.0,2.6,3.2,3.3,2.6,3.5,3.5,3.0,2.6,2.7,2.4,2.8,2.5,3.2,3.5,3.4,3.3,3.0,2.8,2.7,2.0,3.5,3.4,3.2,3.3,2.6,2.8,3.3,2.7,3.2,3.4,2.6,3.0,3.1,3.2,3.0,3.2,3.2,3.0,3.3,2.8,2.6,2.5,2.6,4.1,3.8,3.5,3.1,2.8,2.8,2.8,2.7,3.4,3.1,3.3,3.4,2.8,3.2,3.0,2.6,3.8,3.8,3.8,2.9,3.2,3.1,2.7,2.5,3.6,3.5,2.9,3.2,3.0,2.6,2.8,2.6],\"xaxis\":\"x\",\"yaxis\":\"y\",\"type\":\"histogram\"}],                        {\"template\":{\"data\":{\"histogram2dcontour\":[{\"type\":\"histogram2dcontour\",\"colorbar\":{\"outlinewidth\":0,\"ticks\":\"\"},\"colorscale\":[[0.0,\"#0d0887\"],[0.1111111111111111,\"#46039f\"],[0.2222222222222222,\"#7201a8\"],[0.3333333333333333,\"#9c179e\"],[0.4444444444444444,\"#bd3786\"],[0.5555555555555556,\"#d8576b\"],[0.6666666666666666,\"#ed7953\"],[0.7777777777777778,\"#fb9f3a\"],[0.8888888888888888,\"#fdca26\"],[1.0,\"#f0f921\"]]}],\"choropleth\":[{\"type\":\"choropleth\",\"colorbar\":{\"outlinewidth\":0,\"ticks\":\"\"}}],\"histogram2d\":[{\"type\":\"histogram2d\",\"colorbar\":{\"outlinewidth\":0,\"ticks\":\"\"},\"colorscale\":[[0.0,\"#0d0887\"],[0.1111111111111111,\"#46039f\"],[0.2222222222222222,\"#7201a8\"],[0.3333333333333333,\"#9c179e\"],[0.4444444444444444,\"#bd3786\"],[0.5555555555555556,\"#d8576b\"],[0.6666666666666666,\"#ed7953\"],[0.7777777777777778,\"#fb9f3a\"],[0.8888888888888888,\"#fdca26\"],[1.0,\"#f0f921\"]]}],\"heatmap\":[{\"type\":\"heatmap\",\"colorbar\":{\"outlinewidth\":0,\"ticks\":\"\"},\"colorscale\":[[0.0,\"#0d0887\"],[0.1111111111111111,\"#46039f\"],[0.2222222222222222,\"#7201a8\"],[0.3333333333333333,\"#9c179e\"],[0.4444444444444444,\"#bd3786\"],[0.5555555555555556,\"#d8576b\"],[0.6666666666666666,\"#ed7953\"],[0.7777777777777778,\"#fb9f3a\"],[0.8888888888888888,\"#fdca26\"],[1.0,\"#f0f921\"]]}],\"heatmapgl\":[{\"type\":\"heatmapgl\",\"colorbar\":{\"outlinewidth\":0,\"ticks\":\"\"},\"colorscale\":[[0.0,\"#0d0887\"],[0.1111111111111111,\"#46039f\"],[0.2222222222222222,\"#7201a8\"],[0.3333333333333333,\"#9c179e\"],[0.4444444444444444,\"#bd3786\"],[0.5555555555555556,\"#d8576b\"],[0.6666666666666666,\"#ed7953\"],[0.7777777777777778,\"#fb9f3a\"],[0.8888888888888888,\"#fdca26\"],[1.0,\"#f0f921\"]]}],\"contourcarpet\":[{\"type\":\"contourcarpet\",\"colorbar\":{\"outlinewidth\":0,\"ticks\":\"\"}}],\"contour\":[{\"type\":\"contour\",\"colorbar\":{\"outlinewidth\":0,\"ticks\":\"\"},\"colorscale\":[[0.0,\"#0d0887\"],[0.1111111111111111,\"#46039f\"],[0.2222222222222222,\"#7201a8\"],[0.3333333333333333,\"#9c179e\"],[0.4444444444444444,\"#bd3786\"],[0.5555555555555556,\"#d8576b\"],[0.6666666666666666,\"#ed7953\"],[0.7777777777777778,\"#fb9f3a\"],[0.8888888888888888,\"#fdca26\"],[1.0,\"#f0f921\"]]}],\"surface\":[{\"type\":\"surface\",\"colorbar\":{\"outlinewidth\":0,\"ticks\":\"\"},\"colorscale\":[[0.0,\"#0d0887\"],[0.1111111111111111,\"#46039f\"],[0.2222222222222222,\"#7201a8\"],[0.3333333333333333,\"#9c179e\"],[0.4444444444444444,\"#bd3786\"],[0.5555555555555556,\"#d8576b\"],[0.6666666666666666,\"#ed7953\"],[0.7777777777777778,\"#fb9f3a\"],[0.8888888888888888,\"#fdca26\"],[1.0,\"#f0f921\"]]}],\"mesh3d\":[{\"type\":\"mesh3d\",\"colorbar\":{\"outlinewidth\":0,\"ticks\":\"\"}}],\"scatter\":[{\"fillpattern\":{\"fillmode\":\"overlay\",\"size\":10,\"solidity\":0.2},\"type\":\"scatter\"}],\"parcoords\":[{\"type\":\"parcoords\",\"line\":{\"colorbar\":{\"outlinewidth\":0,\"ticks\":\"\"}}}],\"scatterpolargl\":[{\"type\":\"scatterpolargl\",\"marker\":{\"colorbar\":{\"outlinewidth\":0,\"ticks\":\"\"}}}],\"bar\":[{\"error_x\":{\"color\":\"#2a3f5f\"},\"error_y\":{\"color\":\"#2a3f5f\"},\"marker\":{\"line\":{\"color\":\"#E5ECF6\",\"width\":0.5},\"pattern\":{\"fillmode\":\"overlay\",\"size\":10,\"solidity\":0.2}},\"type\":\"bar\"}],\"scattergeo\":[{\"type\":\"scattergeo\",\"marker\":{\"colorbar\":{\"outlinewidth\":0,\"ticks\":\"\"}}}],\"scatterpolar\":[{\"type\":\"scatterpolar\",\"marker\":{\"colorbar\":{\"outlinewidth\":0,\"ticks\":\"\"}}}],\"histogram\":[{\"marker\":{\"pattern\":{\"fillmode\":\"overlay\",\"size\":10,\"solidity\":0.2}},\"type\":\"histogram\"}],\"scattergl\":[{\"type\":\"scattergl\",\"marker\":{\"colorbar\":{\"outlinewidth\":0,\"ticks\":\"\"}}}],\"scatter3d\":[{\"type\":\"scatter3d\",\"line\":{\"colorbar\":{\"outlinewidth\":0,\"ticks\":\"\"}},\"marker\":{\"colorbar\":{\"outlinewidth\":0,\"ticks\":\"\"}}}],\"scattermapbox\":[{\"type\":\"scattermapbox\",\"marker\":{\"colorbar\":{\"outlinewidth\":0,\"ticks\":\"\"}}}],\"scatterternary\":[{\"type\":\"scatterternary\",\"marker\":{\"colorbar\":{\"outlinewidth\":0,\"ticks\":\"\"}}}],\"scattercarpet\":[{\"type\":\"scattercarpet\",\"marker\":{\"colorbar\":{\"outlinewidth\":0,\"ticks\":\"\"}}}],\"carpet\":[{\"aaxis\":{\"endlinecolor\":\"#2a3f5f\",\"gridcolor\":\"white\",\"linecolor\":\"white\",\"minorgridcolor\":\"white\",\"startlinecolor\":\"#2a3f5f\"},\"baxis\":{\"endlinecolor\":\"#2a3f5f\",\"gridcolor\":\"white\",\"linecolor\":\"white\",\"minorgridcolor\":\"white\",\"startlinecolor\":\"#2a3f5f\"},\"type\":\"carpet\"}],\"table\":[{\"cells\":{\"fill\":{\"color\":\"#EBF0F8\"},\"line\":{\"color\":\"white\"}},\"header\":{\"fill\":{\"color\":\"#C8D4E3\"},\"line\":{\"color\":\"white\"}},\"type\":\"table\"}],\"barpolar\":[{\"marker\":{\"line\":{\"color\":\"#E5ECF6\",\"width\":0.5},\"pattern\":{\"fillmode\":\"overlay\",\"size\":10,\"solidity\":0.2}},\"type\":\"barpolar\"}],\"pie\":[{\"automargin\":true,\"type\":\"pie\"}]},\"layout\":{\"autotypenumbers\":\"strict\",\"colorway\":[\"#636efa\",\"#EF553B\",\"#00cc96\",\"#ab63fa\",\"#FFA15A\",\"#19d3f3\",\"#FF6692\",\"#B6E880\",\"#FF97FF\",\"#FECB52\"],\"font\":{\"color\":\"#2a3f5f\"},\"hovermode\":\"closest\",\"hoverlabel\":{\"align\":\"left\"},\"paper_bgcolor\":\"white\",\"plot_bgcolor\":\"#E5ECF6\",\"polar\":{\"bgcolor\":\"#E5ECF6\",\"angularaxis\":{\"gridcolor\":\"white\",\"linecolor\":\"white\",\"ticks\":\"\"},\"radialaxis\":{\"gridcolor\":\"white\",\"linecolor\":\"white\",\"ticks\":\"\"}},\"ternary\":{\"bgcolor\":\"#E5ECF6\",\"aaxis\":{\"gridcolor\":\"white\",\"linecolor\":\"white\",\"ticks\":\"\"},\"baxis\":{\"gridcolor\":\"white\",\"linecolor\":\"white\",\"ticks\":\"\"},\"caxis\":{\"gridcolor\":\"white\",\"linecolor\":\"white\",\"ticks\":\"\"}},\"coloraxis\":{\"colorbar\":{\"outlinewidth\":0,\"ticks\":\"\"}},\"colorscale\":{\"sequential\":[[0.0,\"#0d0887\"],[0.1111111111111111,\"#46039f\"],[0.2222222222222222,\"#7201a8\"],[0.3333333333333333,\"#9c179e\"],[0.4444444444444444,\"#bd3786\"],[0.5555555555555556,\"#d8576b\"],[0.6666666666666666,\"#ed7953\"],[0.7777777777777778,\"#fb9f3a\"],[0.8888888888888888,\"#fdca26\"],[1.0,\"#f0f921\"]],\"sequentialminus\":[[0.0,\"#0d0887\"],[0.1111111111111111,\"#46039f\"],[0.2222222222222222,\"#7201a8\"],[0.3333333333333333,\"#9c179e\"],[0.4444444444444444,\"#bd3786\"],[0.5555555555555556,\"#d8576b\"],[0.6666666666666666,\"#ed7953\"],[0.7777777777777778,\"#fb9f3a\"],[0.8888888888888888,\"#fdca26\"],[1.0,\"#f0f921\"]],\"diverging\":[[0,\"#8e0152\"],[0.1,\"#c51b7d\"],[0.2,\"#de77ae\"],[0.3,\"#f1b6da\"],[0.4,\"#fde0ef\"],[0.5,\"#f7f7f7\"],[0.6,\"#e6f5d0\"],[0.7,\"#b8e186\"],[0.8,\"#7fbc41\"],[0.9,\"#4d9221\"],[1,\"#276419\"]]},\"xaxis\":{\"gridcolor\":\"white\",\"linecolor\":\"white\",\"ticks\":\"\",\"title\":{\"standoff\":15},\"zerolinecolor\":\"white\",\"automargin\":true,\"zerolinewidth\":2},\"yaxis\":{\"gridcolor\":\"white\",\"linecolor\":\"white\",\"ticks\":\"\",\"title\":{\"standoff\":15},\"zerolinecolor\":\"white\",\"automargin\":true,\"zerolinewidth\":2},\"scene\":{\"xaxis\":{\"backgroundcolor\":\"#E5ECF6\",\"gridcolor\":\"white\",\"linecolor\":\"white\",\"showbackground\":true,\"ticks\":\"\",\"zerolinecolor\":\"white\",\"gridwidth\":2},\"yaxis\":{\"backgroundcolor\":\"#E5ECF6\",\"gridcolor\":\"white\",\"linecolor\":\"white\",\"showbackground\":true,\"ticks\":\"\",\"zerolinecolor\":\"white\",\"gridwidth\":2},\"zaxis\":{\"backgroundcolor\":\"#E5ECF6\",\"gridcolor\":\"white\",\"linecolor\":\"white\",\"showbackground\":true,\"ticks\":\"\",\"zerolinecolor\":\"white\",\"gridwidth\":2}},\"shapedefaults\":{\"line\":{\"color\":\"#2a3f5f\"}},\"annotationdefaults\":{\"arrowcolor\":\"#2a3f5f\",\"arrowhead\":0,\"arrowwidth\":1},\"geo\":{\"bgcolor\":\"white\",\"landcolor\":\"#E5ECF6\",\"subunitcolor\":\"white\",\"showland\":true,\"showlakes\":true,\"lakecolor\":\"white\"},\"title\":{\"x\":0.05},\"mapbox\":{\"style\":\"light\"}}},\"xaxis\":{\"anchor\":\"y\",\"domain\":[0.0,1.0],\"title\":{\"text\":\"GSPG\"}},\"yaxis\":{\"anchor\":\"x\",\"domain\":[0.0,1.0],\"title\":{\"text\":\"count\"}},\"legend\":{\"tracegroupgap\":0},\"margin\":{\"t\":60},\"barmode\":\"relative\"},                        {\"responsive\": true}                    ).then(function(){\n",
       "                            \n",
       "var gd = document.getElementById('d4c1cc58-5902-44fb-90e3-4842e6b24b83');\n",
       "var x = new MutationObserver(function (mutations, observer) {{\n",
       "        var display = window.getComputedStyle(gd).display;\n",
       "        if (!display || display === 'none') {{\n",
       "            console.log([gd, 'removed!']);\n",
       "            Plotly.purge(gd);\n",
       "            observer.disconnect();\n",
       "        }}\n",
       "}});\n",
       "\n",
       "// Listen for the removal of the full notebook cells\n",
       "var notebookContainer = gd.closest('#notebook-container');\n",
       "if (notebookContainer) {{\n",
       "    x.observe(notebookContainer, {childList: true});\n",
       "}}\n",
       "\n",
       "// Listen for the clearing of the current output cell\n",
       "var outputEl = gd.closest('.output');\n",
       "if (outputEl) {{\n",
       "    x.observe(outputEl, {childList: true});\n",
       "}}\n",
       "\n",
       "                        })                };                });            </script>        </div>"
      ]
     },
     "metadata": {},
     "output_type": "display_data"
    }
   ],
   "source": [
    "px.histogram(goal_dif, x = 'GSPG')"
   ]
  },
  {
   "cell_type": "markdown",
   "id": "0b25d8f9",
   "metadata": {},
   "source": [
    "# Which teams would choose OT?"
   ]
  },
  {
   "cell_type": "markdown",
   "id": "4cc9e9ee",
   "metadata": {},
   "source": [
    "Based on the results of the array above, I determined which sets of expected scores end with Team A earning more than 1.5 points per game. These are the (nonconference) games that Team A would NOT want to intentionally take into OT, as their expected points would actually decrease by doing so. "
   ]
  },
  {
   "cell_type": "code",
   "execution_count": 16,
   "id": "2fb93847",
   "metadata": {},
   "outputs": [
    {
     "data": {
      "text/plain": [
       "[[1.9, 1.0],\n",
       " [2.0, 1.0],\n",
       " [2.1, 1.0],\n",
       " [2.1, 1.1],\n",
       " [2.2, 1.0],\n",
       " [2.2, 1.1],\n",
       " [2.3, 1.0],\n",
       " [2.3, 1.1],\n",
       " [2.3, 1.2],\n",
       " [2.4, 1.0],\n",
       " [2.4, 1.1],\n",
       " [2.4, 1.2],\n",
       " [2.4, 1.3],\n",
       " [2.5, 1.0],\n",
       " [2.5, 1.1],\n",
       " [2.5, 1.2],\n",
       " [2.5, 1.3],\n",
       " [2.5, 1.4],\n",
       " [2.6, 1.0],\n",
       " [2.6, 1.1],\n",
       " [2.6, 1.2],\n",
       " [2.6, 1.3],\n",
       " [2.6, 1.4],\n",
       " [2.7, 1.0],\n",
       " [2.7, 1.1],\n",
       " [2.7, 1.2],\n",
       " [2.7, 1.3],\n",
       " [2.7, 1.4],\n",
       " [2.7, 1.5],\n",
       " [2.8, 1.0],\n",
       " [2.8, 1.1],\n",
       " [2.8, 1.2],\n",
       " [2.8, 1.3],\n",
       " [2.8, 1.4],\n",
       " [2.8, 1.5],\n",
       " [2.8, 1.6],\n",
       " [2.9, 1.0],\n",
       " [2.9, 1.1],\n",
       " [2.9, 1.2],\n",
       " [2.9, 1.3],\n",
       " [2.9, 1.4],\n",
       " [2.9, 1.5],\n",
       " [2.9, 1.6],\n",
       " [3.0, 1.0],\n",
       " [3.0, 1.1],\n",
       " [3.0, 1.2],\n",
       " [3.0, 1.3],\n",
       " [3.0, 1.4],\n",
       " [3.0, 1.5],\n",
       " [3.0, 1.6],\n",
       " [3.0, 1.7],\n",
       " [3.1, 1.0],\n",
       " [3.1, 1.1],\n",
       " [3.1, 1.2],\n",
       " [3.1, 1.3],\n",
       " [3.1, 1.4],\n",
       " [3.1, 1.5],\n",
       " [3.1, 1.6],\n",
       " [3.1, 1.7],\n",
       " [3.1, 1.8],\n",
       " [3.2, 1.0],\n",
       " [3.2, 1.1],\n",
       " [3.2, 1.2],\n",
       " [3.2, 1.3],\n",
       " [3.2, 1.4],\n",
       " [3.2, 1.5],\n",
       " [3.2, 1.6],\n",
       " [3.2, 1.7],\n",
       " [3.2, 1.8],\n",
       " [3.3, 1.0],\n",
       " [3.3, 1.1],\n",
       " [3.3, 1.2],\n",
       " [3.3, 1.3],\n",
       " [3.3, 1.4],\n",
       " [3.3, 1.5],\n",
       " [3.3, 1.6],\n",
       " [3.3, 1.7],\n",
       " [3.3, 1.8],\n",
       " [3.3, 1.9],\n",
       " [3.4, 1.0],\n",
       " [3.4, 1.1],\n",
       " [3.4, 1.2],\n",
       " [3.4, 1.3],\n",
       " [3.4, 1.4],\n",
       " [3.4, 1.5],\n",
       " [3.4, 1.6],\n",
       " [3.4, 1.7],\n",
       " [3.4, 1.8],\n",
       " [3.4, 1.9],\n",
       " [3.4, 2.0],\n",
       " [3.5, 1.0],\n",
       " [3.5, 1.1],\n",
       " [3.5, 1.2],\n",
       " [3.5, 1.3],\n",
       " [3.5, 1.4],\n",
       " [3.5, 1.5],\n",
       " [3.5, 1.6],\n",
       " [3.5, 1.7],\n",
       " [3.5, 1.8],\n",
       " [3.5, 1.9],\n",
       " [3.5, 2.0],\n",
       " [3.5, 2.1],\n",
       " [3.6, 1.0],\n",
       " [3.6, 1.1],\n",
       " [3.6, 1.2],\n",
       " [3.6, 1.3],\n",
       " [3.6, 1.4],\n",
       " [3.6, 1.5],\n",
       " [3.6, 1.6],\n",
       " [3.6, 1.7],\n",
       " [3.6, 1.8],\n",
       " [3.6, 1.9],\n",
       " [3.6, 2.0],\n",
       " [3.6, 2.1],\n",
       " [3.7, 1.0],\n",
       " [3.7, 1.1],\n",
       " [3.7, 1.2],\n",
       " [3.7, 1.3],\n",
       " [3.7, 1.4],\n",
       " [3.7, 1.5],\n",
       " [3.7, 1.6],\n",
       " [3.7, 1.7],\n",
       " [3.7, 1.8],\n",
       " [3.7, 1.9],\n",
       " [3.7, 2.0],\n",
       " [3.7, 2.1],\n",
       " [3.7, 2.2],\n",
       " [3.7, 2.3],\n",
       " [3.8, 1.0],\n",
       " [3.8, 1.1],\n",
       " [3.8, 1.2],\n",
       " [3.8, 1.3],\n",
       " [3.8, 1.4],\n",
       " [3.8, 1.5],\n",
       " [3.8, 1.6],\n",
       " [3.8, 1.7],\n",
       " [3.8, 1.8],\n",
       " [3.8, 1.9],\n",
       " [3.8, 2.0],\n",
       " [3.8, 2.1],\n",
       " [3.8, 2.2],\n",
       " [3.8, 2.3],\n",
       " [3.9, 1.0],\n",
       " [3.9, 1.1],\n",
       " [3.9, 1.2],\n",
       " [3.9, 1.3],\n",
       " [3.9, 1.4],\n",
       " [3.9, 1.5],\n",
       " [3.9, 1.6],\n",
       " [3.9, 1.7],\n",
       " [3.9, 1.8],\n",
       " [3.9, 1.9],\n",
       " [3.9, 2.0],\n",
       " [3.9, 2.1],\n",
       " [3.9, 2.2],\n",
       " [3.9, 2.3],\n",
       " [3.9, 2.4],\n",
       " [4.0, 1.0],\n",
       " [4.0, 1.1],\n",
       " [4.0, 1.2],\n",
       " [4.0, 1.3],\n",
       " [4.0, 1.4],\n",
       " [4.0, 1.5],\n",
       " [4.0, 1.6],\n",
       " [4.0, 1.7],\n",
       " [4.0, 1.8],\n",
       " [4.0, 1.9],\n",
       " [4.0, 2.0],\n",
       " [4.0, 2.1],\n",
       " [4.0, 2.2],\n",
       " [4.0, 2.3],\n",
       " [4.0, 2.4],\n",
       " [4.0, 2.5],\n",
       " [4.1, 1.0],\n",
       " [4.1, 1.1],\n",
       " [4.1, 1.2],\n",
       " [4.1, 1.3],\n",
       " [4.1, 1.4],\n",
       " [4.1, 1.5],\n",
       " [4.1, 1.6],\n",
       " [4.1, 1.7],\n",
       " [4.1, 1.8],\n",
       " [4.1, 1.9],\n",
       " [4.1, 2.0],\n",
       " [4.1, 2.1],\n",
       " [4.1, 2.2],\n",
       " [4.1, 2.3],\n",
       " [4.1, 2.4],\n",
       " [4.1, 2.5],\n",
       " [4.1, 2.6],\n",
       " [4.2, 1.0],\n",
       " [4.2, 1.1],\n",
       " [4.2, 1.2],\n",
       " [4.2, 1.3],\n",
       " [4.2, 1.4],\n",
       " [4.2, 1.5],\n",
       " [4.2, 1.6],\n",
       " [4.2, 1.7],\n",
       " [4.2, 1.8],\n",
       " [4.2, 1.9],\n",
       " [4.2, 2.0],\n",
       " [4.2, 2.1],\n",
       " [4.2, 2.2],\n",
       " [4.2, 2.3],\n",
       " [4.2, 2.4],\n",
       " [4.2, 2.5],\n",
       " [4.2, 2.6],\n",
       " [4.3, 1.0],\n",
       " [4.3, 1.1],\n",
       " [4.3, 1.2],\n",
       " [4.3, 1.3],\n",
       " [4.3, 1.4],\n",
       " [4.3, 1.5],\n",
       " [4.3, 1.6],\n",
       " [4.3, 1.7],\n",
       " [4.3, 1.8],\n",
       " [4.3, 1.9],\n",
       " [4.3, 2.0],\n",
       " [4.3, 2.1],\n",
       " [4.3, 2.2],\n",
       " [4.3, 2.3],\n",
       " [4.3, 2.4],\n",
       " [4.3, 2.5],\n",
       " [4.3, 2.6],\n",
       " [4.3, 2.7],\n",
       " [4.4, 1.0],\n",
       " [4.4, 1.1],\n",
       " [4.4, 1.2],\n",
       " [4.4, 1.3],\n",
       " [4.4, 1.4],\n",
       " [4.4, 1.5],\n",
       " [4.4, 1.6],\n",
       " [4.4, 1.7],\n",
       " [4.4, 1.8],\n",
       " [4.4, 1.9],\n",
       " [4.4, 2.0],\n",
       " [4.4, 2.1],\n",
       " [4.4, 2.2],\n",
       " [4.4, 2.3],\n",
       " [4.4, 2.4],\n",
       " [4.4, 2.5],\n",
       " [4.4, 2.6],\n",
       " [4.4, 2.7],\n",
       " [4.4, 2.8],\n",
       " [4.5, 1.0],\n",
       " [4.5, 1.1],\n",
       " [4.5, 1.2],\n",
       " [4.5, 1.3],\n",
       " [4.5, 1.4],\n",
       " [4.5, 1.5],\n",
       " [4.5, 1.6],\n",
       " [4.5, 1.7],\n",
       " [4.5, 1.8],\n",
       " [4.5, 1.9],\n",
       " [4.5, 2.0],\n",
       " [4.5, 2.1],\n",
       " [4.5, 2.2],\n",
       " [4.5, 2.3],\n",
       " [4.5, 2.4],\n",
       " [4.5, 2.5],\n",
       " [4.5, 2.6],\n",
       " [4.5, 2.7],\n",
       " [4.5, 2.8],\n",
       " [4.5, 2.9],\n",
       " [4.6, 1.0],\n",
       " [4.6, 1.1],\n",
       " [4.6, 1.2],\n",
       " [4.6, 1.3],\n",
       " [4.6, 1.4],\n",
       " [4.6, 1.5],\n",
       " [4.6, 1.6],\n",
       " [4.6, 1.7],\n",
       " [4.6, 1.8],\n",
       " [4.6, 1.9],\n",
       " [4.6, 2.0],\n",
       " [4.6, 2.1],\n",
       " [4.6, 2.2],\n",
       " [4.6, 2.3],\n",
       " [4.6, 2.4],\n",
       " [4.6, 2.5],\n",
       " [4.6, 2.6],\n",
       " [4.6, 2.7],\n",
       " [4.6, 2.8],\n",
       " [4.6, 2.9],\n",
       " [4.6, 3.0],\n",
       " [4.7, 1.0],\n",
       " [4.7, 1.1],\n",
       " [4.7, 1.2],\n",
       " [4.7, 1.3],\n",
       " [4.7, 1.4],\n",
       " [4.7, 1.5],\n",
       " [4.7, 1.6],\n",
       " [4.7, 1.7],\n",
       " [4.7, 1.8],\n",
       " [4.7, 1.9],\n",
       " [4.7, 2.0],\n",
       " [4.7, 2.1],\n",
       " [4.7, 2.2],\n",
       " [4.7, 2.3],\n",
       " [4.7, 2.4],\n",
       " [4.7, 2.5],\n",
       " [4.7, 2.6],\n",
       " [4.7, 2.7],\n",
       " [4.7, 2.8],\n",
       " [4.7, 2.9],\n",
       " [4.7, 3.0],\n",
       " [4.8, 1.0],\n",
       " [4.8, 1.1],\n",
       " [4.8, 1.2],\n",
       " [4.8, 1.3],\n",
       " [4.8, 1.4],\n",
       " [4.8, 1.5],\n",
       " [4.8, 1.6],\n",
       " [4.8, 1.7],\n",
       " [4.8, 1.8],\n",
       " [4.8, 1.9],\n",
       " [4.8, 2.0],\n",
       " [4.8, 2.1],\n",
       " [4.8, 2.2],\n",
       " [4.8, 2.3],\n",
       " [4.8, 2.4],\n",
       " [4.8, 2.5],\n",
       " [4.8, 2.6],\n",
       " [4.8, 2.7],\n",
       " [4.8, 2.8],\n",
       " [4.8, 2.9],\n",
       " [4.8, 3.0],\n",
       " [4.8, 3.1],\n",
       " [4.9, 1.0],\n",
       " [4.9, 1.1],\n",
       " [4.9, 1.2],\n",
       " [4.9, 1.3],\n",
       " [4.9, 1.4],\n",
       " [4.9, 1.5],\n",
       " [4.9, 1.6],\n",
       " [4.9, 1.7],\n",
       " [4.9, 1.8],\n",
       " [4.9, 1.9],\n",
       " [4.9, 2.0],\n",
       " [4.9, 2.1],\n",
       " [4.9, 2.2],\n",
       " [4.9, 2.3],\n",
       " [4.9, 2.4],\n",
       " [4.9, 2.5],\n",
       " [4.9, 2.6],\n",
       " [4.9, 2.7],\n",
       " [4.9, 2.8],\n",
       " [4.9, 2.9],\n",
       " [4.9, 3.0],\n",
       " [4.9, 3.1],\n",
       " [4.9, 3.2]]"
      ]
     },
     "execution_count": 16,
     "metadata": {},
     "output_type": "execute_result"
    }
   ],
   "source": [
    "coord_list = []\n",
    "\n",
    "for l in range(len(sims_array)):\n",
    "    for l2 in range(len(sims_array)):\n",
    "        if sims_array[l2, l] >= 1.5:\n",
    "            coord_list.append([(l+10)/10, (l2+10)/10])\n",
    "            \n",
    "coord_list\n",
    "# Most of these are irrelevant, since no team averaged less than 1.9 goals a game, or more than 4.1 goals per game"
   ]
  },
  {
   "cell_type": "markdown",
   "id": "ff8ee0ab",
   "metadata": {},
   "source": [
    "The problem with the list above is that many of these combinations never occur with real teams. For instance, no teams scored less than 1.9 goals per game, and no teams scored more than 4.1. Therefore, I trimmed the list to only include outcomes between these 2 parameters.\n",
    "\n",
    "(NOTE: while it is possible that teams in the future will score more than 4.1 or less than 1.9 goals per game, the point of this analysis is to look back at the number of teams that should have intentionally taken games into OT since the NHL lockout of 2005)"
   ]
  },
  {
   "cell_type": "code",
   "execution_count": 17,
   "id": "86287d2f",
   "metadata": {},
   "outputs": [
    {
     "data": {
      "text/plain": [
       "[[3.3, 1.9],\n",
       " [3.4, 1.9],\n",
       " [3.4, 2.0],\n",
       " [3.5, 1.9],\n",
       " [3.5, 2.0],\n",
       " [3.5, 2.1],\n",
       " [3.6, 1.9],\n",
       " [3.6, 2.0],\n",
       " [3.6, 2.1],\n",
       " [3.7, 1.9],\n",
       " [3.7, 2.0],\n",
       " [3.7, 2.1],\n",
       " [3.7, 2.2],\n",
       " [3.7, 2.3],\n",
       " [3.8, 1.9],\n",
       " [3.8, 2.0],\n",
       " [3.8, 2.1],\n",
       " [3.8, 2.2],\n",
       " [3.8, 2.3],\n",
       " [3.9, 1.9],\n",
       " [3.9, 2.0],\n",
       " [3.9, 2.1],\n",
       " [3.9, 2.2],\n",
       " [3.9, 2.3],\n",
       " [3.9, 2.4],\n",
       " [4.0, 1.9],\n",
       " [4.0, 2.0],\n",
       " [4.0, 2.1],\n",
       " [4.0, 2.2],\n",
       " [4.0, 2.3],\n",
       " [4.0, 2.4],\n",
       " [4.0, 2.5],\n",
       " [4.1, 1.9],\n",
       " [4.1, 2.0],\n",
       " [4.1, 2.1],\n",
       " [4.1, 2.2],\n",
       " [4.1, 2.3],\n",
       " [4.1, 2.4],\n",
       " [4.1, 2.5],\n",
       " [4.1, 2.6]]"
      ]
     },
     "execution_count": 17,
     "metadata": {},
     "output_type": "execute_result"
    }
   ],
   "source": [
    "coord_list_relevant = []\n",
    "\n",
    "for l in range(len(sims_array)):\n",
    "    for l2 in range(len(sims_array)):\n",
    "        if ((sims_array[l2, l] >= 1.5) & ((l+10)/10 <= max_goals) & ((l2+10)/10 >= min_goals)):\n",
    "            coord_list_relevant.append([(l+10)/10, (l2+10)/10])\n",
    "            \n",
    "coord_list_relevant"
   ]
  },
  {
   "cell_type": "markdown",
   "id": "8d9edf9d",
   "metadata": {},
   "source": [
    "NOTE: a major assumption I'm making in this analysis (and certainly the worst one I make) is that the number of goals a team is expected to score is not affected by the team they are playing. Obviously, this is not a good assumption. Some teams have good defenses and/or goalies that make it harder for a team to hit their average; others have bad defenses and/or goalies that make it likely that a team will exceed their average. \n",
    "\n",
    "However, this complicates the analysis dramatically, and I am skeptical that this complication would drastrically change my conclusion. The reason for this is that accounting for defense and goaltending would not alter the above coordiante list at all. Rather, it would simply change the number of real-world games that fall within it. While this does affect the remainder of my analysis, it doesn't affect anything I've done up to this point. Therefore, for the sake of my Medium article, I decided the cost of this complication wasn't worth the benefit of a slight uptick in accuracy. As you will see from my conclusion, not many teams fall within this range, and I don't have reason to believe that would change much from updating the precision of the real-life numbers.\n",
    "\n",
    "With that said, I encourage anyone who is interested in taking this analysis further by accounting for defense and goalkeeping to do so. If you have any ideas on how to do this, please contact me at caleb.r.smith95@outlook.com"
   ]
  },
  {
   "cell_type": "code",
   "execution_count": 18,
   "id": "d4d6cdc8",
   "metadata": {},
   "outputs": [
    {
     "data": {
      "text/plain": [
       "40"
      ]
     },
     "execution_count": 18,
     "metadata": {},
     "output_type": "execute_result"
    }
   ],
   "source": [
    "len(coord_list_relevant)"
   ]
  },
  {
   "cell_type": "code",
   "execution_count": 19,
   "id": "ee0343a8",
   "metadata": {},
   "outputs": [
    {
     "data": {
      "text/plain": [
       "3.3"
      ]
     },
     "execution_count": 19,
     "metadata": {},
     "output_type": "execute_result"
    }
   ],
   "source": [
    "coord_list_relevant[0][0]"
   ]
  },
  {
   "cell_type": "code",
   "execution_count": 20,
   "id": "185c33c3",
   "metadata": {},
   "outputs": [],
   "source": [
    "# This makes two separate lists out of our relevant list of coordinates: one with all of Team A's scores, and the\n",
    "# other with all of Team B's scores\n",
    "l1 = []\n",
    "l2 = []\n",
    "\n",
    "for l in range(len(coord_list_relevant)):\n",
    "    l1.append(coord_list_relevant[l][0])\n",
    "    l2.append(coord_list_relevant[l][1])"
   ]
  },
  {
   "cell_type": "code",
   "execution_count": 21,
   "id": "7b0416fe",
   "metadata": {},
   "outputs": [
    {
     "data": {
      "text/plain": [
       "3.3"
      ]
     },
     "execution_count": 21,
     "metadata": {},
     "output_type": "execute_result"
    }
   ],
   "source": [
    "# This is the least number of goals a team can be expecte to score and not want to intentionally take nonconference game to OT\n",
    "l1_min = min(l1)\n",
    "l1_min"
   ]
  },
  {
   "cell_type": "code",
   "execution_count": 22,
   "id": "db540223",
   "metadata": {},
   "outputs": [
    {
     "data": {
      "text/plain": [
       "2.6"
      ]
     },
     "execution_count": 22,
     "metadata": {},
     "output_type": "execute_result"
    }
   ],
   "source": [
    "# This is the most number of goals an opposing team can be expected to score that still doesn't convince your team to take them to OT\n",
    "l2_max = max(l2)\n",
    "l2_max"
   ]
  },
  {
   "cell_type": "markdown",
   "id": "b115799f",
   "metadata": {},
   "source": [
    "Below is the list of teams that might not want to take a nonconference game into OT, depending on how few goals their opponent is expected to score (any team that scored fewer than 3.3 goals per game since 2006 would always want nonconference games to go into OT). "
   ]
  },
  {
   "cell_type": "code",
   "execution_count": 23,
   "id": "c737894b",
   "metadata": {},
   "outputs": [
    {
     "data": {
      "text/html": [
       "<div>\n",
       "<style scoped>\n",
       "    .dataframe tbody tr th:only-of-type {\n",
       "        vertical-align: middle;\n",
       "    }\n",
       "\n",
       "    .dataframe tbody tr th {\n",
       "        vertical-align: top;\n",
       "    }\n",
       "\n",
       "    .dataframe thead th {\n",
       "        text-align: right;\n",
       "    }\n",
       "</style>\n",
       "<table border=\"1\" class=\"dataframe\">\n",
       "  <thead>\n",
       "    <tr style=\"text-align: right;\">\n",
       "      <th></th>\n",
       "      <th>Team</th>\n",
       "      <th>GSPG</th>\n",
       "      <th>Year</th>\n",
       "      <th>Conference</th>\n",
       "    </tr>\n",
       "  </thead>\n",
       "  <tbody>\n",
       "    <tr>\n",
       "      <th>0</th>\n",
       "      <td>Philadelphia Flyers*</td>\n",
       "      <td>3.3</td>\n",
       "      <td>2006</td>\n",
       "      <td>East</td>\n",
       "    </tr>\n",
       "    <tr>\n",
       "      <th>1</th>\n",
       "      <td>Ottawa Senators*</td>\n",
       "      <td>3.8</td>\n",
       "      <td>2006</td>\n",
       "      <td>East</td>\n",
       "    </tr>\n",
       "    <tr>\n",
       "      <th>2</th>\n",
       "      <td>Buffalo Sabres*</td>\n",
       "      <td>3.4</td>\n",
       "      <td>2006</td>\n",
       "      <td>East</td>\n",
       "    </tr>\n",
       "    <tr>\n",
       "      <th>3</th>\n",
       "      <td>Carolina Hurricanes*</td>\n",
       "      <td>3.6</td>\n",
       "      <td>2006</td>\n",
       "      <td>East</td>\n",
       "    </tr>\n",
       "    <tr>\n",
       "      <th>4</th>\n",
       "      <td>Atlanta Thrashers</td>\n",
       "      <td>3.4</td>\n",
       "      <td>2006</td>\n",
       "      <td>East</td>\n",
       "    </tr>\n",
       "    <tr>\n",
       "      <th>5</th>\n",
       "      <td>Detroit Red Wings*</td>\n",
       "      <td>3.7</td>\n",
       "      <td>2006</td>\n",
       "      <td>West</td>\n",
       "    </tr>\n",
       "    <tr>\n",
       "      <th>6</th>\n",
       "      <td>Colorado Avalanche*</td>\n",
       "      <td>3.5</td>\n",
       "      <td>2006</td>\n",
       "      <td>West</td>\n",
       "    </tr>\n",
       "    <tr>\n",
       "      <th>7</th>\n",
       "      <td>Pittsburgh Penguins*</td>\n",
       "      <td>3.4</td>\n",
       "      <td>2007</td>\n",
       "      <td>East</td>\n",
       "    </tr>\n",
       "    <tr>\n",
       "      <th>8</th>\n",
       "      <td>Buffalo Sabres*</td>\n",
       "      <td>3.8</td>\n",
       "      <td>2007</td>\n",
       "      <td>East</td>\n",
       "    </tr>\n",
       "    <tr>\n",
       "      <th>9</th>\n",
       "      <td>Ottawa Senators*</td>\n",
       "      <td>3.5</td>\n",
       "      <td>2007</td>\n",
       "      <td>East</td>\n",
       "    </tr>\n",
       "    <tr>\n",
       "      <th>10</th>\n",
       "      <td>Nashville Predators*</td>\n",
       "      <td>3.3</td>\n",
       "      <td>2007</td>\n",
       "      <td>West</td>\n",
       "    </tr>\n",
       "    <tr>\n",
       "      <th>11</th>\n",
       "      <td>Colorado Avalanche</td>\n",
       "      <td>3.3</td>\n",
       "      <td>2007</td>\n",
       "      <td>West</td>\n",
       "    </tr>\n",
       "    <tr>\n",
       "      <th>12</th>\n",
       "      <td>Boston Bruins*</td>\n",
       "      <td>3.3</td>\n",
       "      <td>2009</td>\n",
       "      <td>East</td>\n",
       "    </tr>\n",
       "    <tr>\n",
       "      <th>13</th>\n",
       "      <td>Washington Capitals*</td>\n",
       "      <td>3.3</td>\n",
       "      <td>2009</td>\n",
       "      <td>East</td>\n",
       "    </tr>\n",
       "    <tr>\n",
       "      <th>14</th>\n",
       "      <td>Detroit Red Wings*</td>\n",
       "      <td>3.6</td>\n",
       "      <td>2009</td>\n",
       "      <td>West</td>\n",
       "    </tr>\n",
       "    <tr>\n",
       "      <th>15</th>\n",
       "      <td>Washington Capitals*</td>\n",
       "      <td>3.9</td>\n",
       "      <td>2010</td>\n",
       "      <td>East</td>\n",
       "    </tr>\n",
       "    <tr>\n",
       "      <th>16</th>\n",
       "      <td>Chicago Blackhawks*</td>\n",
       "      <td>3.3</td>\n",
       "      <td>2010</td>\n",
       "      <td>West</td>\n",
       "    </tr>\n",
       "    <tr>\n",
       "      <th>17</th>\n",
       "      <td>Vancouver Canucks*</td>\n",
       "      <td>3.3</td>\n",
       "      <td>2010</td>\n",
       "      <td>West</td>\n",
       "    </tr>\n",
       "    <tr>\n",
       "      <th>18</th>\n",
       "      <td>Pittsburgh Penguins*</td>\n",
       "      <td>3.4</td>\n",
       "      <td>2012</td>\n",
       "      <td>East</td>\n",
       "    </tr>\n",
       "    <tr>\n",
       "      <th>19</th>\n",
       "      <td>Boston Bruins*</td>\n",
       "      <td>3.3</td>\n",
       "      <td>2012</td>\n",
       "      <td>East</td>\n",
       "    </tr>\n",
       "    <tr>\n",
       "      <th>20</th>\n",
       "      <td>Pittsburgh Penguins*</td>\n",
       "      <td>3.4</td>\n",
       "      <td>2013</td>\n",
       "      <td>East</td>\n",
       "    </tr>\n",
       "    <tr>\n",
       "      <th>21</th>\n",
       "      <td>Chicago Blackhawks*</td>\n",
       "      <td>3.3</td>\n",
       "      <td>2014</td>\n",
       "      <td>West</td>\n",
       "    </tr>\n",
       "    <tr>\n",
       "      <th>22</th>\n",
       "      <td>Dallas Stars*</td>\n",
       "      <td>3.3</td>\n",
       "      <td>2016</td>\n",
       "      <td>West</td>\n",
       "    </tr>\n",
       "    <tr>\n",
       "      <th>23</th>\n",
       "      <td>Pittsburgh Penguins*</td>\n",
       "      <td>3.4</td>\n",
       "      <td>2017</td>\n",
       "      <td>East</td>\n",
       "    </tr>\n",
       "    <tr>\n",
       "      <th>24</th>\n",
       "      <td>Tampa Bay Lightning*</td>\n",
       "      <td>3.6</td>\n",
       "      <td>2018</td>\n",
       "      <td>East</td>\n",
       "    </tr>\n",
       "    <tr>\n",
       "      <th>25</th>\n",
       "      <td>Boston Bruins*</td>\n",
       "      <td>3.3</td>\n",
       "      <td>2018</td>\n",
       "      <td>East</td>\n",
       "    </tr>\n",
       "    <tr>\n",
       "      <th>26</th>\n",
       "      <td>Toronto Maple Leafs*</td>\n",
       "      <td>3.4</td>\n",
       "      <td>2018</td>\n",
       "      <td>East</td>\n",
       "    </tr>\n",
       "    <tr>\n",
       "      <th>27</th>\n",
       "      <td>Pittsburgh Penguins*</td>\n",
       "      <td>3.3</td>\n",
       "      <td>2018</td>\n",
       "      <td>East</td>\n",
       "    </tr>\n",
       "    <tr>\n",
       "      <th>28</th>\n",
       "      <td>Nashville Predators*</td>\n",
       "      <td>3.3</td>\n",
       "      <td>2018</td>\n",
       "      <td>West</td>\n",
       "    </tr>\n",
       "    <tr>\n",
       "      <th>29</th>\n",
       "      <td>Winnipeg Jets*</td>\n",
       "      <td>3.4</td>\n",
       "      <td>2018</td>\n",
       "      <td>West</td>\n",
       "    </tr>\n",
       "    <tr>\n",
       "      <th>30</th>\n",
       "      <td>Vegas Golden Knights*</td>\n",
       "      <td>3.3</td>\n",
       "      <td>2018</td>\n",
       "      <td>West</td>\n",
       "    </tr>\n",
       "    <tr>\n",
       "      <th>31</th>\n",
       "      <td>Tampa Bay Lightning*</td>\n",
       "      <td>4.0</td>\n",
       "      <td>2019</td>\n",
       "      <td>East</td>\n",
       "    </tr>\n",
       "    <tr>\n",
       "      <th>32</th>\n",
       "      <td>Toronto Maple Leafs*</td>\n",
       "      <td>3.5</td>\n",
       "      <td>2019</td>\n",
       "      <td>East</td>\n",
       "    </tr>\n",
       "    <tr>\n",
       "      <th>33</th>\n",
       "      <td>Florida Panthers</td>\n",
       "      <td>3.3</td>\n",
       "      <td>2019</td>\n",
       "      <td>East</td>\n",
       "    </tr>\n",
       "    <tr>\n",
       "      <th>34</th>\n",
       "      <td>Washington Capitals*</td>\n",
       "      <td>3.4</td>\n",
       "      <td>2019</td>\n",
       "      <td>East</td>\n",
       "    </tr>\n",
       "    <tr>\n",
       "      <th>35</th>\n",
       "      <td>Pittsburgh Penguins*</td>\n",
       "      <td>3.3</td>\n",
       "      <td>2019</td>\n",
       "      <td>East</td>\n",
       "    </tr>\n",
       "    <tr>\n",
       "      <th>36</th>\n",
       "      <td>Winnipeg Jets*</td>\n",
       "      <td>3.3</td>\n",
       "      <td>2019</td>\n",
       "      <td>West</td>\n",
       "    </tr>\n",
       "    <tr>\n",
       "      <th>37</th>\n",
       "      <td>Chicago Blackhawks</td>\n",
       "      <td>3.3</td>\n",
       "      <td>2019</td>\n",
       "      <td>West</td>\n",
       "    </tr>\n",
       "    <tr>\n",
       "      <th>38</th>\n",
       "      <td>Calgary Flames*</td>\n",
       "      <td>3.5</td>\n",
       "      <td>2019</td>\n",
       "      <td>West</td>\n",
       "    </tr>\n",
       "    <tr>\n",
       "      <th>39</th>\n",
       "      <td>San Jose Sharks*</td>\n",
       "      <td>3.5</td>\n",
       "      <td>2019</td>\n",
       "      <td>West</td>\n",
       "    </tr>\n",
       "    <tr>\n",
       "      <th>40</th>\n",
       "      <td>Tampa Bay Lightning*</td>\n",
       "      <td>3.5</td>\n",
       "      <td>2020</td>\n",
       "      <td>East</td>\n",
       "    </tr>\n",
       "    <tr>\n",
       "      <th>41</th>\n",
       "      <td>Toronto Maple Leafs*</td>\n",
       "      <td>3.4</td>\n",
       "      <td>2020</td>\n",
       "      <td>East</td>\n",
       "    </tr>\n",
       "    <tr>\n",
       "      <th>42</th>\n",
       "      <td>Florida Panthers*</td>\n",
       "      <td>3.3</td>\n",
       "      <td>2020</td>\n",
       "      <td>East</td>\n",
       "    </tr>\n",
       "    <tr>\n",
       "      <th>43</th>\n",
       "      <td>Washington Capitals*</td>\n",
       "      <td>3.5</td>\n",
       "      <td>2020</td>\n",
       "      <td>East</td>\n",
       "    </tr>\n",
       "    <tr>\n",
       "      <th>44</th>\n",
       "      <td>Philadelphia Flyers*</td>\n",
       "      <td>3.4</td>\n",
       "      <td>2020</td>\n",
       "      <td>East</td>\n",
       "    </tr>\n",
       "    <tr>\n",
       "      <th>45</th>\n",
       "      <td>Carolina Hurricanes*</td>\n",
       "      <td>3.3</td>\n",
       "      <td>2020</td>\n",
       "      <td>East</td>\n",
       "    </tr>\n",
       "    <tr>\n",
       "      <th>46</th>\n",
       "      <td>New York Rangers*</td>\n",
       "      <td>3.3</td>\n",
       "      <td>2020</td>\n",
       "      <td>East</td>\n",
       "    </tr>\n",
       "    <tr>\n",
       "      <th>47</th>\n",
       "      <td>Colorado Avalanche*</td>\n",
       "      <td>3.4</td>\n",
       "      <td>2020</td>\n",
       "      <td>West</td>\n",
       "    </tr>\n",
       "    <tr>\n",
       "      <th>48</th>\n",
       "      <td>Vancouver Canucks*</td>\n",
       "      <td>3.3</td>\n",
       "      <td>2020</td>\n",
       "      <td>West</td>\n",
       "    </tr>\n",
       "    <tr>\n",
       "      <th>49</th>\n",
       "      <td>Florida Panthers*</td>\n",
       "      <td>4.1</td>\n",
       "      <td>2022</td>\n",
       "      <td>East</td>\n",
       "    </tr>\n",
       "    <tr>\n",
       "      <th>50</th>\n",
       "      <td>Toronto Maple Leafs*</td>\n",
       "      <td>3.8</td>\n",
       "      <td>2022</td>\n",
       "      <td>East</td>\n",
       "    </tr>\n",
       "    <tr>\n",
       "      <th>51</th>\n",
       "      <td>Tampa Bay Lightning*</td>\n",
       "      <td>3.5</td>\n",
       "      <td>2022</td>\n",
       "      <td>East</td>\n",
       "    </tr>\n",
       "    <tr>\n",
       "      <th>52</th>\n",
       "      <td>Carolina Hurricanes*</td>\n",
       "      <td>3.4</td>\n",
       "      <td>2022</td>\n",
       "      <td>East</td>\n",
       "    </tr>\n",
       "    <tr>\n",
       "      <th>53</th>\n",
       "      <td>Pittsburgh Penguins*</td>\n",
       "      <td>3.3</td>\n",
       "      <td>2022</td>\n",
       "      <td>East</td>\n",
       "    </tr>\n",
       "    <tr>\n",
       "      <th>54</th>\n",
       "      <td>Washington Capitals*</td>\n",
       "      <td>3.4</td>\n",
       "      <td>2022</td>\n",
       "      <td>East</td>\n",
       "    </tr>\n",
       "    <tr>\n",
       "      <th>55</th>\n",
       "      <td>Colorado Avalanche*</td>\n",
       "      <td>3.8</td>\n",
       "      <td>2022</td>\n",
       "      <td>West</td>\n",
       "    </tr>\n",
       "    <tr>\n",
       "      <th>56</th>\n",
       "      <td>Minnesota Wild*</td>\n",
       "      <td>3.8</td>\n",
       "      <td>2022</td>\n",
       "      <td>West</td>\n",
       "    </tr>\n",
       "    <tr>\n",
       "      <th>57</th>\n",
       "      <td>St. Louis Blues*</td>\n",
       "      <td>3.8</td>\n",
       "      <td>2022</td>\n",
       "      <td>West</td>\n",
       "    </tr>\n",
       "    <tr>\n",
       "      <th>58</th>\n",
       "      <td>Calgary Flames*</td>\n",
       "      <td>3.6</td>\n",
       "      <td>2022</td>\n",
       "      <td>West</td>\n",
       "    </tr>\n",
       "    <tr>\n",
       "      <th>59</th>\n",
       "      <td>Edmonton Oilers*</td>\n",
       "      <td>3.5</td>\n",
       "      <td>2022</td>\n",
       "      <td>West</td>\n",
       "    </tr>\n",
       "  </tbody>\n",
       "</table>\n",
       "</div>"
      ],
      "text/plain": [
       "                     Team  GSPG  Year Conference\n",
       "0    Philadelphia Flyers*   3.3  2006       East\n",
       "1        Ottawa Senators*   3.8  2006       East\n",
       "2         Buffalo Sabres*   3.4  2006       East\n",
       "3    Carolina Hurricanes*   3.6  2006       East\n",
       "4       Atlanta Thrashers   3.4  2006       East\n",
       "5      Detroit Red Wings*   3.7  2006       West\n",
       "6     Colorado Avalanche*   3.5  2006       West\n",
       "7    Pittsburgh Penguins*   3.4  2007       East\n",
       "8         Buffalo Sabres*   3.8  2007       East\n",
       "9        Ottawa Senators*   3.5  2007       East\n",
       "10   Nashville Predators*   3.3  2007       West\n",
       "11     Colorado Avalanche   3.3  2007       West\n",
       "12         Boston Bruins*   3.3  2009       East\n",
       "13   Washington Capitals*   3.3  2009       East\n",
       "14     Detroit Red Wings*   3.6  2009       West\n",
       "15   Washington Capitals*   3.9  2010       East\n",
       "16    Chicago Blackhawks*   3.3  2010       West\n",
       "17     Vancouver Canucks*   3.3  2010       West\n",
       "18   Pittsburgh Penguins*   3.4  2012       East\n",
       "19         Boston Bruins*   3.3  2012       East\n",
       "20   Pittsburgh Penguins*   3.4  2013       East\n",
       "21    Chicago Blackhawks*   3.3  2014       West\n",
       "22          Dallas Stars*   3.3  2016       West\n",
       "23   Pittsburgh Penguins*   3.4  2017       East\n",
       "24   Tampa Bay Lightning*   3.6  2018       East\n",
       "25         Boston Bruins*   3.3  2018       East\n",
       "26   Toronto Maple Leafs*   3.4  2018       East\n",
       "27   Pittsburgh Penguins*   3.3  2018       East\n",
       "28   Nashville Predators*   3.3  2018       West\n",
       "29         Winnipeg Jets*   3.4  2018       West\n",
       "30  Vegas Golden Knights*   3.3  2018       West\n",
       "31   Tampa Bay Lightning*   4.0  2019       East\n",
       "32   Toronto Maple Leafs*   3.5  2019       East\n",
       "33       Florida Panthers   3.3  2019       East\n",
       "34   Washington Capitals*   3.4  2019       East\n",
       "35   Pittsburgh Penguins*   3.3  2019       East\n",
       "36         Winnipeg Jets*   3.3  2019       West\n",
       "37     Chicago Blackhawks   3.3  2019       West\n",
       "38        Calgary Flames*   3.5  2019       West\n",
       "39       San Jose Sharks*   3.5  2019       West\n",
       "40   Tampa Bay Lightning*   3.5  2020       East\n",
       "41   Toronto Maple Leafs*   3.4  2020       East\n",
       "42      Florida Panthers*   3.3  2020       East\n",
       "43   Washington Capitals*   3.5  2020       East\n",
       "44   Philadelphia Flyers*   3.4  2020       East\n",
       "45   Carolina Hurricanes*   3.3  2020       East\n",
       "46      New York Rangers*   3.3  2020       East\n",
       "47    Colorado Avalanche*   3.4  2020       West\n",
       "48     Vancouver Canucks*   3.3  2020       West\n",
       "49      Florida Panthers*   4.1  2022       East\n",
       "50   Toronto Maple Leafs*   3.8  2022       East\n",
       "51   Tampa Bay Lightning*   3.5  2022       East\n",
       "52   Carolina Hurricanes*   3.4  2022       East\n",
       "53   Pittsburgh Penguins*   3.3  2022       East\n",
       "54   Washington Capitals*   3.4  2022       East\n",
       "55    Colorado Avalanche*   3.8  2022       West\n",
       "56        Minnesota Wild*   3.8  2022       West\n",
       "57       St. Louis Blues*   3.8  2022       West\n",
       "58        Calgary Flames*   3.6  2022       West\n",
       "59       Edmonton Oilers*   3.5  2022       West"
      ]
     },
     "execution_count": 23,
     "metadata": {},
     "output_type": "execute_result"
    }
   ],
   "source": [
    "winners = goal_dif[goal_dif.GSPG >= l1_min].copy()\n",
    "winners.reset_index(inplace = True)\n",
    "winners.drop(columns = ['index', 'Games Played', 'Goals Scored', 'Goals Allowed', 'GAPG'], inplace = True)\n",
    "winners"
   ]
  },
  {
   "cell_type": "markdown",
   "id": "1b9bdd33",
   "metadata": {},
   "source": [
    "Below is the full list of teams that the teams above might choose not to take into OT. Any team that scored more than 2.6 goals a game since 2006 was too good to risk a regulation loss with."
   ]
  },
  {
   "cell_type": "code",
   "execution_count": 24,
   "id": "70d48d33",
   "metadata": {},
   "outputs": [
    {
     "data": {
      "text/html": [
       "<div>\n",
       "<style scoped>\n",
       "    .dataframe tbody tr th:only-of-type {\n",
       "        vertical-align: middle;\n",
       "    }\n",
       "\n",
       "    .dataframe tbody tr th {\n",
       "        vertical-align: top;\n",
       "    }\n",
       "\n",
       "    .dataframe thead th {\n",
       "        text-align: right;\n",
       "    }\n",
       "</style>\n",
       "<table border=\"1\" class=\"dataframe\">\n",
       "  <thead>\n",
       "    <tr style=\"text-align: right;\">\n",
       "      <th></th>\n",
       "      <th>Team</th>\n",
       "      <th>GSPG</th>\n",
       "      <th>Year</th>\n",
       "      <th>Conference</th>\n",
       "    </tr>\n",
       "  </thead>\n",
       "  <tbody>\n",
       "    <tr>\n",
       "      <th>0</th>\n",
       "      <td>Chicago Blackhawks</td>\n",
       "      <td>2.6</td>\n",
       "      <td>2006</td>\n",
       "      <td>West</td>\n",
       "    </tr>\n",
       "    <tr>\n",
       "      <th>1</th>\n",
       "      <td>St. Louis Blues</td>\n",
       "      <td>2.4</td>\n",
       "      <td>2006</td>\n",
       "      <td>West</td>\n",
       "    </tr>\n",
       "    <tr>\n",
       "      <th>2</th>\n",
       "      <td>New Jersey Devils*</td>\n",
       "      <td>2.6</td>\n",
       "      <td>2007</td>\n",
       "      <td>East</td>\n",
       "    </tr>\n",
       "    <tr>\n",
       "      <th>3</th>\n",
       "      <td>Philadelphia Flyers</td>\n",
       "      <td>2.6</td>\n",
       "      <td>2007</td>\n",
       "      <td>East</td>\n",
       "    </tr>\n",
       "    <tr>\n",
       "      <th>4</th>\n",
       "      <td>St. Louis Blues</td>\n",
       "      <td>2.6</td>\n",
       "      <td>2007</td>\n",
       "      <td>West</td>\n",
       "    </tr>\n",
       "    <tr>\n",
       "      <th>...</th>\n",
       "      <td>...</td>\n",
       "      <td>...</td>\n",
       "      <td>...</td>\n",
       "      <td>...</td>\n",
       "    </tr>\n",
       "    <tr>\n",
       "      <th>127</th>\n",
       "      <td>San Jose Sharks</td>\n",
       "      <td>2.6</td>\n",
       "      <td>2020</td>\n",
       "      <td>West</td>\n",
       "    </tr>\n",
       "    <tr>\n",
       "      <th>128</th>\n",
       "      <td>Philadelphia Flyers</td>\n",
       "      <td>2.6</td>\n",
       "      <td>2022</td>\n",
       "      <td>East</td>\n",
       "    </tr>\n",
       "    <tr>\n",
       "      <th>129</th>\n",
       "      <td>Arizona Coyotes</td>\n",
       "      <td>2.5</td>\n",
       "      <td>2022</td>\n",
       "      <td>West</td>\n",
       "    </tr>\n",
       "    <tr>\n",
       "      <th>130</th>\n",
       "      <td>San Jose Sharks</td>\n",
       "      <td>2.6</td>\n",
       "      <td>2022</td>\n",
       "      <td>West</td>\n",
       "    </tr>\n",
       "    <tr>\n",
       "      <th>131</th>\n",
       "      <td>Seattle Kraken</td>\n",
       "      <td>2.6</td>\n",
       "      <td>2022</td>\n",
       "      <td>West</td>\n",
       "    </tr>\n",
       "  </tbody>\n",
       "</table>\n",
       "<p>132 rows × 4 columns</p>\n",
       "</div>"
      ],
      "text/plain": [
       "                    Team  GSPG  Year Conference\n",
       "0     Chicago Blackhawks   2.6  2006       West\n",
       "1        St. Louis Blues   2.4  2006       West\n",
       "2     New Jersey Devils*   2.6  2007       East\n",
       "3    Philadelphia Flyers   2.6  2007       East\n",
       "4        St. Louis Blues   2.6  2007       West\n",
       "..                   ...   ...   ...        ...\n",
       "127      San Jose Sharks   2.6  2020       West\n",
       "128  Philadelphia Flyers   2.6  2022       East\n",
       "129      Arizona Coyotes   2.5  2022       West\n",
       "130      San Jose Sharks   2.6  2022       West\n",
       "131       Seattle Kraken   2.6  2022       West\n",
       "\n",
       "[132 rows x 4 columns]"
      ]
     },
     "execution_count": 24,
     "metadata": {},
     "output_type": "execute_result"
    }
   ],
   "source": [
    "losers = goal_dif[goal_dif.GSPG <= l2_max].copy()\n",
    "losers.reset_index(inplace = True)\n",
    "losers.drop(columns = ['index', 'Games Played', 'Goals Scored', 'Goals Allowed', 'GAPG'], inplace = True)\n",
    "losers"
   ]
  },
  {
   "cell_type": "code",
   "execution_count": 25,
   "id": "b166b3b0",
   "metadata": {},
   "outputs": [
    {
     "data": {
      "text/plain": [
       "60"
      ]
     },
     "execution_count": 25,
     "metadata": {},
     "output_type": "execute_result"
    }
   ],
   "source": [
    "len(winners)"
   ]
  },
  {
   "cell_type": "code",
   "execution_count": 26,
   "id": "fd7946d3",
   "metadata": {},
   "outputs": [
    {
     "data": {
      "text/plain": [
       "132"
      ]
     },
     "execution_count": 26,
     "metadata": {},
     "output_type": "execute_result"
    }
   ],
   "source": [
    "len(losers)"
   ]
  },
  {
   "cell_type": "code",
   "execution_count": 27,
   "id": "9a9e869c",
   "metadata": {},
   "outputs": [],
   "source": [
    "winner_teams = winners.Team\n",
    "winner_years = winners.Year\n",
    "winner_con = winners.Conference\n",
    "winner_scores = winners.GSPG\n",
    "loser_teams = losers.Team\n",
    "loser_years = losers.Year\n",
    "loser_con = losers.Conference\n",
    "loser_scores = losers.GSPG"
   ]
  },
  {
   "cell_type": "code",
   "execution_count": 28,
   "id": "d6f77199",
   "metadata": {},
   "outputs": [
    {
     "data": {
      "text/plain": [
       "0      2006\n",
       "1      2006\n",
       "2      2007\n",
       "3      2007\n",
       "4      2007\n",
       "       ... \n",
       "127    2020\n",
       "128    2022\n",
       "129    2022\n",
       "130    2022\n",
       "131    2022\n",
       "Name: Year, Length: 132, dtype: int64"
      ]
     },
     "execution_count": 28,
     "metadata": {},
     "output_type": "execute_result"
    }
   ],
   "source": [
    "loser_years"
   ]
  },
  {
   "cell_type": "markdown",
   "id": "aa9350e1",
   "metadata": {},
   "source": [
    "I can finally create the list of nonconference matchups since 2006 that, from a rational perspective, should not have intentionally been taken into OT."
   ]
  },
  {
   "cell_type": "code",
   "execution_count": 29,
   "id": "6f30dc76",
   "metadata": {},
   "outputs": [],
   "source": [
    "final_list = []\n",
    "\n",
    "for w in range(len(winners)):\n",
    "    for l in range(len(losers)):\n",
    "        \n",
    "        if((winner_years[w] == loser_years[l]) & (winner_con[w] != loser_con[l])): # If the potential matchup occured in the same year and the opposite conference, advance to next criteria\n",
    "            score_coord = [winner_scores[w], loser_scores[l]]\n",
    "            \n",
    "            if(score_coord in coord_list_relevant): # If the potential matchup falls within our relevant coordinate list, this game should not be intentionally taken into OT\n",
    "                final_list.append([winner_years[w], winner_teams[w], winner_con[w], winner_scores[w], loser_teams[l], loser_con[l], loser_scores[l]])"
   ]
  },
  {
   "cell_type": "code",
   "execution_count": 30,
   "id": "91a077d3",
   "metadata": {},
   "outputs": [
    {
     "data": {
      "text/plain": [
       "[[2014, 'Chicago Blackhawks*', 'West', 3.3, 'Buffalo Sabres', 'East', 1.9],\n",
       " [2017,\n",
       "  'Pittsburgh Penguins*',\n",
       "  'East',\n",
       "  3.4,\n",
       "  'Colorado Avalanche',\n",
       "  'West',\n",
       "  2.0],\n",
       " [2019, 'Tampa Bay Lightning*', 'East', 4.0, 'Anaheim Ducks', 'West', 2.4],\n",
       " [2019, 'Tampa Bay Lightning*', 'East', 4.0, 'Los Angeles Kings', 'West', 2.5],\n",
       " [2020, 'Colorado Avalanche*', 'West', 3.4, 'Detroit Red Wings', 'East', 2.0],\n",
       " [2022, 'Florida Panthers*', 'East', 4.1, 'Arizona Coyotes', 'West', 2.5],\n",
       " [2022, 'Florida Panthers*', 'East', 4.1, 'San Jose Sharks', 'West', 2.6],\n",
       " [2022, 'Florida Panthers*', 'East', 4.1, 'Seattle Kraken', 'West', 2.6]]"
      ]
     },
     "execution_count": 30,
     "metadata": {},
     "output_type": "execute_result"
    }
   ],
   "source": [
    "final_list"
   ]
  },
  {
   "cell_type": "markdown",
   "id": "4d0f4332",
   "metadata": {},
   "source": [
    "Since 2006, these are the only 8 nonconference matchups in which one team should not have agreed to take the game into OT."
   ]
  },
  {
   "cell_type": "code",
   "execution_count": 31,
   "id": "1bdb6939",
   "metadata": {},
   "outputs": [
    {
     "data": {
      "text/html": [
       "<div>\n",
       "<style scoped>\n",
       "    .dataframe tbody tr th:only-of-type {\n",
       "        vertical-align: middle;\n",
       "    }\n",
       "\n",
       "    .dataframe tbody tr th {\n",
       "        vertical-align: top;\n",
       "    }\n",
       "\n",
       "    .dataframe thead th {\n",
       "        text-align: right;\n",
       "    }\n",
       "</style>\n",
       "<table border=\"1\" class=\"dataframe\">\n",
       "  <thead>\n",
       "    <tr style=\"text-align: right;\">\n",
       "      <th></th>\n",
       "      <th>Year</th>\n",
       "      <th>Winning Team</th>\n",
       "      <th>Conference</th>\n",
       "      <th>Expected Score</th>\n",
       "      <th>Losing Team</th>\n",
       "      <th>Conference</th>\n",
       "      <th>Expected Score</th>\n",
       "    </tr>\n",
       "  </thead>\n",
       "  <tbody>\n",
       "    <tr>\n",
       "      <th>0</th>\n",
       "      <td>2014</td>\n",
       "      <td>Chicago Blackhawks*</td>\n",
       "      <td>West</td>\n",
       "      <td>3.3</td>\n",
       "      <td>Buffalo Sabres</td>\n",
       "      <td>East</td>\n",
       "      <td>1.9</td>\n",
       "    </tr>\n",
       "    <tr>\n",
       "      <th>1</th>\n",
       "      <td>2017</td>\n",
       "      <td>Pittsburgh Penguins*</td>\n",
       "      <td>East</td>\n",
       "      <td>3.4</td>\n",
       "      <td>Colorado Avalanche</td>\n",
       "      <td>West</td>\n",
       "      <td>2.0</td>\n",
       "    </tr>\n",
       "    <tr>\n",
       "      <th>2</th>\n",
       "      <td>2019</td>\n",
       "      <td>Tampa Bay Lightning*</td>\n",
       "      <td>East</td>\n",
       "      <td>4.0</td>\n",
       "      <td>Anaheim Ducks</td>\n",
       "      <td>West</td>\n",
       "      <td>2.4</td>\n",
       "    </tr>\n",
       "    <tr>\n",
       "      <th>3</th>\n",
       "      <td>2019</td>\n",
       "      <td>Tampa Bay Lightning*</td>\n",
       "      <td>East</td>\n",
       "      <td>4.0</td>\n",
       "      <td>Los Angeles Kings</td>\n",
       "      <td>West</td>\n",
       "      <td>2.5</td>\n",
       "    </tr>\n",
       "    <tr>\n",
       "      <th>4</th>\n",
       "      <td>2020</td>\n",
       "      <td>Colorado Avalanche*</td>\n",
       "      <td>West</td>\n",
       "      <td>3.4</td>\n",
       "      <td>Detroit Red Wings</td>\n",
       "      <td>East</td>\n",
       "      <td>2.0</td>\n",
       "    </tr>\n",
       "    <tr>\n",
       "      <th>5</th>\n",
       "      <td>2022</td>\n",
       "      <td>Florida Panthers*</td>\n",
       "      <td>East</td>\n",
       "      <td>4.1</td>\n",
       "      <td>Arizona Coyotes</td>\n",
       "      <td>West</td>\n",
       "      <td>2.5</td>\n",
       "    </tr>\n",
       "    <tr>\n",
       "      <th>6</th>\n",
       "      <td>2022</td>\n",
       "      <td>Florida Panthers*</td>\n",
       "      <td>East</td>\n",
       "      <td>4.1</td>\n",
       "      <td>San Jose Sharks</td>\n",
       "      <td>West</td>\n",
       "      <td>2.6</td>\n",
       "    </tr>\n",
       "    <tr>\n",
       "      <th>7</th>\n",
       "      <td>2022</td>\n",
       "      <td>Florida Panthers*</td>\n",
       "      <td>East</td>\n",
       "      <td>4.1</td>\n",
       "      <td>Seattle Kraken</td>\n",
       "      <td>West</td>\n",
       "      <td>2.6</td>\n",
       "    </tr>\n",
       "  </tbody>\n",
       "</table>\n",
       "</div>"
      ],
      "text/plain": [
       "   Year          Winning Team Conference  Expected Score         Losing Team  \\\n",
       "0  2014   Chicago Blackhawks*       West             3.3      Buffalo Sabres   \n",
       "1  2017  Pittsburgh Penguins*       East             3.4  Colorado Avalanche   \n",
       "2  2019  Tampa Bay Lightning*       East             4.0       Anaheim Ducks   \n",
       "3  2019  Tampa Bay Lightning*       East             4.0   Los Angeles Kings   \n",
       "4  2020   Colorado Avalanche*       West             3.4   Detroit Red Wings   \n",
       "5  2022     Florida Panthers*       East             4.1     Arizona Coyotes   \n",
       "6  2022     Florida Panthers*       East             4.1     San Jose Sharks   \n",
       "7  2022     Florida Panthers*       East             4.1      Seattle Kraken   \n",
       "\n",
       "  Conference  Expected Score  \n",
       "0       East             1.9  \n",
       "1       West             2.0  \n",
       "2       West             2.4  \n",
       "3       West             2.5  \n",
       "4       East             2.0  \n",
       "5       West             2.5  \n",
       "6       West             2.6  \n",
       "7       West             2.6  "
      ]
     },
     "execution_count": 31,
     "metadata": {},
     "output_type": "execute_result"
    }
   ],
   "source": [
    "final_df = pd.DataFrame(final_list, columns = ['Year', 'Winning Team', 'Conference', 'Expected Score', 'Losing Team', 'Conference', 'Expected Score'])\n",
    "final_df"
   ]
  },
  {
   "cell_type": "code",
   "execution_count": 57,
   "id": "08c45c6b",
   "metadata": {},
   "outputs": [
    {
     "data": {
      "text/html": [
       "<div>\n",
       "<style scoped>\n",
       "    .dataframe tbody tr th:only-of-type {\n",
       "        vertical-align: middle;\n",
       "    }\n",
       "\n",
       "    .dataframe tbody tr th {\n",
       "        vertical-align: top;\n",
       "    }\n",
       "\n",
       "    .dataframe thead th {\n",
       "        text-align: right;\n",
       "    }\n",
       "</style>\n",
       "<table border=\"1\" class=\"dataframe\">\n",
       "  <thead>\n",
       "    <tr style=\"text-align: right;\">\n",
       "      <th></th>\n",
       "      <th>Ex_Score_W</th>\n",
       "      <th>Ex_Score_L</th>\n",
       "    </tr>\n",
       "  </thead>\n",
       "  <tbody>\n",
       "    <tr>\n",
       "      <th>0</th>\n",
       "      <td>3.3</td>\n",
       "      <td>1.9</td>\n",
       "    </tr>\n",
       "    <tr>\n",
       "      <th>1</th>\n",
       "      <td>3.4</td>\n",
       "      <td>2.0</td>\n",
       "    </tr>\n",
       "    <tr>\n",
       "      <th>2</th>\n",
       "      <td>4.0</td>\n",
       "      <td>2.4</td>\n",
       "    </tr>\n",
       "    <tr>\n",
       "      <th>3</th>\n",
       "      <td>4.0</td>\n",
       "      <td>2.5</td>\n",
       "    </tr>\n",
       "    <tr>\n",
       "      <th>4</th>\n",
       "      <td>3.4</td>\n",
       "      <td>2.0</td>\n",
       "    </tr>\n",
       "    <tr>\n",
       "      <th>5</th>\n",
       "      <td>4.1</td>\n",
       "      <td>2.5</td>\n",
       "    </tr>\n",
       "    <tr>\n",
       "      <th>6</th>\n",
       "      <td>4.1</td>\n",
       "      <td>2.6</td>\n",
       "    </tr>\n",
       "    <tr>\n",
       "      <th>7</th>\n",
       "      <td>4.1</td>\n",
       "      <td>2.6</td>\n",
       "    </tr>\n",
       "  </tbody>\n",
       "</table>\n",
       "</div>"
      ],
      "text/plain": [
       "   Ex_Score_W  Ex_Score_L\n",
       "0         3.3         1.9\n",
       "1         3.4         2.0\n",
       "2         4.0         2.4\n",
       "3         4.0         2.5\n",
       "4         3.4         2.0\n",
       "5         4.1         2.5\n",
       "6         4.1         2.6\n",
       "7         4.1         2.6"
      ]
     },
     "execution_count": 57,
     "metadata": {},
     "output_type": "execute_result"
    }
   ],
   "source": [
    "scores_df = final_df['Expected Score']\n",
    "scores_df.columns = ['Ex_Score_W', 'Ex_Score_L']\n",
    "scores_df"
   ]
  },
  {
   "cell_type": "code",
   "execution_count": 79,
   "id": "59f28e69",
   "metadata": {},
   "outputs": [
    {
     "data": {
      "text/plain": [
       "[1.54, 1.52, 1.54, 1.51, 1.52, 1.52, 1.5, 1.5]"
      ]
     },
     "execution_count": 79,
     "metadata": {},
     "output_type": "execute_result"
    }
   ],
   "source": [
    "winning_scores = scores_df['Ex_Score_W']\n",
    "losing_scores = scores_df['Ex_Score_L']\n",
    "ex_points = []\n",
    "\n",
    "for i in range(len(scores_df)):\n",
    "    ex_points.append(round(sims_array[int(losing_scores[i]*10 - 10), int(winning_scores[i]*10 - 10)], 2))\n",
    "    \n",
    "ex_points"
   ]
  },
  {
   "cell_type": "code",
   "execution_count": 80,
   "id": "4c557bbf",
   "metadata": {},
   "outputs": [
    {
     "data": {
      "text/html": [
       "<div>\n",
       "<style scoped>\n",
       "    .dataframe tbody tr th:only-of-type {\n",
       "        vertical-align: middle;\n",
       "    }\n",
       "\n",
       "    .dataframe tbody tr th {\n",
       "        vertical-align: top;\n",
       "    }\n",
       "\n",
       "    .dataframe thead th {\n",
       "        text-align: right;\n",
       "    }\n",
       "</style>\n",
       "<table border=\"1\" class=\"dataframe\">\n",
       "  <thead>\n",
       "    <tr style=\"text-align: right;\">\n",
       "      <th></th>\n",
       "      <th>Year</th>\n",
       "      <th>Winning Team</th>\n",
       "      <th>Conference</th>\n",
       "      <th>Expected Score</th>\n",
       "      <th>Losing Team</th>\n",
       "      <th>Conference</th>\n",
       "      <th>Expected Score</th>\n",
       "      <th>Expected Points</th>\n",
       "    </tr>\n",
       "  </thead>\n",
       "  <tbody>\n",
       "    <tr>\n",
       "      <th>0</th>\n",
       "      <td>2014</td>\n",
       "      <td>Chicago Blackhawks*</td>\n",
       "      <td>West</td>\n",
       "      <td>3.3</td>\n",
       "      <td>Buffalo Sabres</td>\n",
       "      <td>East</td>\n",
       "      <td>1.9</td>\n",
       "      <td>1.54</td>\n",
       "    </tr>\n",
       "    <tr>\n",
       "      <th>1</th>\n",
       "      <td>2017</td>\n",
       "      <td>Pittsburgh Penguins*</td>\n",
       "      <td>East</td>\n",
       "      <td>3.4</td>\n",
       "      <td>Colorado Avalanche</td>\n",
       "      <td>West</td>\n",
       "      <td>2.0</td>\n",
       "      <td>1.52</td>\n",
       "    </tr>\n",
       "    <tr>\n",
       "      <th>2</th>\n",
       "      <td>2019</td>\n",
       "      <td>Tampa Bay Lightning*</td>\n",
       "      <td>East</td>\n",
       "      <td>4.0</td>\n",
       "      <td>Anaheim Ducks</td>\n",
       "      <td>West</td>\n",
       "      <td>2.4</td>\n",
       "      <td>1.54</td>\n",
       "    </tr>\n",
       "    <tr>\n",
       "      <th>3</th>\n",
       "      <td>2019</td>\n",
       "      <td>Tampa Bay Lightning*</td>\n",
       "      <td>East</td>\n",
       "      <td>4.0</td>\n",
       "      <td>Los Angeles Kings</td>\n",
       "      <td>West</td>\n",
       "      <td>2.5</td>\n",
       "      <td>1.51</td>\n",
       "    </tr>\n",
       "    <tr>\n",
       "      <th>4</th>\n",
       "      <td>2020</td>\n",
       "      <td>Colorado Avalanche*</td>\n",
       "      <td>West</td>\n",
       "      <td>3.4</td>\n",
       "      <td>Detroit Red Wings</td>\n",
       "      <td>East</td>\n",
       "      <td>2.0</td>\n",
       "      <td>1.52</td>\n",
       "    </tr>\n",
       "    <tr>\n",
       "      <th>5</th>\n",
       "      <td>2022</td>\n",
       "      <td>Florida Panthers*</td>\n",
       "      <td>East</td>\n",
       "      <td>4.1</td>\n",
       "      <td>Arizona Coyotes</td>\n",
       "      <td>West</td>\n",
       "      <td>2.5</td>\n",
       "      <td>1.52</td>\n",
       "    </tr>\n",
       "    <tr>\n",
       "      <th>6</th>\n",
       "      <td>2022</td>\n",
       "      <td>Florida Panthers*</td>\n",
       "      <td>East</td>\n",
       "      <td>4.1</td>\n",
       "      <td>San Jose Sharks</td>\n",
       "      <td>West</td>\n",
       "      <td>2.6</td>\n",
       "      <td>1.50</td>\n",
       "    </tr>\n",
       "    <tr>\n",
       "      <th>7</th>\n",
       "      <td>2022</td>\n",
       "      <td>Florida Panthers*</td>\n",
       "      <td>East</td>\n",
       "      <td>4.1</td>\n",
       "      <td>Seattle Kraken</td>\n",
       "      <td>West</td>\n",
       "      <td>2.6</td>\n",
       "      <td>1.50</td>\n",
       "    </tr>\n",
       "  </tbody>\n",
       "</table>\n",
       "</div>"
      ],
      "text/plain": [
       "   Year          Winning Team Conference  Expected Score         Losing Team  \\\n",
       "0  2014   Chicago Blackhawks*       West             3.3      Buffalo Sabres   \n",
       "1  2017  Pittsburgh Penguins*       East             3.4  Colorado Avalanche   \n",
       "2  2019  Tampa Bay Lightning*       East             4.0       Anaheim Ducks   \n",
       "3  2019  Tampa Bay Lightning*       East             4.0   Los Angeles Kings   \n",
       "4  2020   Colorado Avalanche*       West             3.4   Detroit Red Wings   \n",
       "5  2022     Florida Panthers*       East             4.1     Arizona Coyotes   \n",
       "6  2022     Florida Panthers*       East             4.1     San Jose Sharks   \n",
       "7  2022     Florida Panthers*       East             4.1      Seattle Kraken   \n",
       "\n",
       "  Conference  Expected Score  Expected Points  \n",
       "0       East             1.9             1.54  \n",
       "1       West             2.0             1.52  \n",
       "2       West             2.4             1.54  \n",
       "3       West             2.5             1.51  \n",
       "4       East             2.0             1.52  \n",
       "5       West             2.5             1.52  \n",
       "6       West             2.6             1.50  \n",
       "7       West             2.6             1.50  "
      ]
     },
     "execution_count": 80,
     "metadata": {},
     "output_type": "execute_result"
    }
   ],
   "source": [
    "final_df['Expected Points'] = ex_points\n",
    "final_df"
   ]
  },
  {
   "cell_type": "markdown",
   "id": "29b980ac",
   "metadata": {},
   "source": [
    "# Total number of potential non-conference matchups"
   ]
  },
  {
   "cell_type": "code",
   "execution_count": 32,
   "id": "fe3efd23",
   "metadata": {},
   "outputs": [
    {
     "data": {
      "text/html": [
       "<div>\n",
       "<style scoped>\n",
       "    .dataframe tbody tr th:only-of-type {\n",
       "        vertical-align: middle;\n",
       "    }\n",
       "\n",
       "    .dataframe tbody tr th {\n",
       "        vertical-align: top;\n",
       "    }\n",
       "\n",
       "    .dataframe thead th {\n",
       "        text-align: right;\n",
       "    }\n",
       "</style>\n",
       "<table border=\"1\" class=\"dataframe\">\n",
       "  <thead>\n",
       "    <tr style=\"text-align: right;\">\n",
       "      <th></th>\n",
       "      <th></th>\n",
       "      <th>Teams</th>\n",
       "    </tr>\n",
       "    <tr>\n",
       "      <th>Year</th>\n",
       "      <th>Conference</th>\n",
       "      <th></th>\n",
       "    </tr>\n",
       "  </thead>\n",
       "  <tbody>\n",
       "    <tr>\n",
       "      <th rowspan=\"2\" valign=\"top\">2006</th>\n",
       "      <th>East</th>\n",
       "      <td>15</td>\n",
       "    </tr>\n",
       "    <tr>\n",
       "      <th>West</th>\n",
       "      <td>15</td>\n",
       "    </tr>\n",
       "    <tr>\n",
       "      <th rowspan=\"2\" valign=\"top\">2007</th>\n",
       "      <th>East</th>\n",
       "      <td>15</td>\n",
       "    </tr>\n",
       "    <tr>\n",
       "      <th>West</th>\n",
       "      <td>15</td>\n",
       "    </tr>\n",
       "    <tr>\n",
       "      <th rowspan=\"2\" valign=\"top\">2008</th>\n",
       "      <th>East</th>\n",
       "      <td>15</td>\n",
       "    </tr>\n",
       "    <tr>\n",
       "      <th>West</th>\n",
       "      <td>15</td>\n",
       "    </tr>\n",
       "    <tr>\n",
       "      <th rowspan=\"2\" valign=\"top\">2009</th>\n",
       "      <th>East</th>\n",
       "      <td>15</td>\n",
       "    </tr>\n",
       "    <tr>\n",
       "      <th>West</th>\n",
       "      <td>15</td>\n",
       "    </tr>\n",
       "    <tr>\n",
       "      <th rowspan=\"2\" valign=\"top\">2010</th>\n",
       "      <th>East</th>\n",
       "      <td>15</td>\n",
       "    </tr>\n",
       "    <tr>\n",
       "      <th>West</th>\n",
       "      <td>15</td>\n",
       "    </tr>\n",
       "    <tr>\n",
       "      <th rowspan=\"2\" valign=\"top\">2011</th>\n",
       "      <th>East</th>\n",
       "      <td>15</td>\n",
       "    </tr>\n",
       "    <tr>\n",
       "      <th>West</th>\n",
       "      <td>15</td>\n",
       "    </tr>\n",
       "    <tr>\n",
       "      <th rowspan=\"2\" valign=\"top\">2012</th>\n",
       "      <th>East</th>\n",
       "      <td>15</td>\n",
       "    </tr>\n",
       "    <tr>\n",
       "      <th>West</th>\n",
       "      <td>15</td>\n",
       "    </tr>\n",
       "    <tr>\n",
       "      <th rowspan=\"2\" valign=\"top\">2013</th>\n",
       "      <th>East</th>\n",
       "      <td>15</td>\n",
       "    </tr>\n",
       "    <tr>\n",
       "      <th>West</th>\n",
       "      <td>15</td>\n",
       "    </tr>\n",
       "    <tr>\n",
       "      <th rowspan=\"2\" valign=\"top\">2014</th>\n",
       "      <th>East</th>\n",
       "      <td>16</td>\n",
       "    </tr>\n",
       "    <tr>\n",
       "      <th>West</th>\n",
       "      <td>14</td>\n",
       "    </tr>\n",
       "    <tr>\n",
       "      <th rowspan=\"2\" valign=\"top\">2015</th>\n",
       "      <th>East</th>\n",
       "      <td>16</td>\n",
       "    </tr>\n",
       "    <tr>\n",
       "      <th>West</th>\n",
       "      <td>14</td>\n",
       "    </tr>\n",
       "    <tr>\n",
       "      <th rowspan=\"2\" valign=\"top\">2016</th>\n",
       "      <th>East</th>\n",
       "      <td>16</td>\n",
       "    </tr>\n",
       "    <tr>\n",
       "      <th>West</th>\n",
       "      <td>14</td>\n",
       "    </tr>\n",
       "    <tr>\n",
       "      <th rowspan=\"2\" valign=\"top\">2017</th>\n",
       "      <th>East</th>\n",
       "      <td>16</td>\n",
       "    </tr>\n",
       "    <tr>\n",
       "      <th>West</th>\n",
       "      <td>14</td>\n",
       "    </tr>\n",
       "    <tr>\n",
       "      <th rowspan=\"2\" valign=\"top\">2018</th>\n",
       "      <th>East</th>\n",
       "      <td>16</td>\n",
       "    </tr>\n",
       "    <tr>\n",
       "      <th>West</th>\n",
       "      <td>15</td>\n",
       "    </tr>\n",
       "    <tr>\n",
       "      <th rowspan=\"2\" valign=\"top\">2019</th>\n",
       "      <th>East</th>\n",
       "      <td>16</td>\n",
       "    </tr>\n",
       "    <tr>\n",
       "      <th>West</th>\n",
       "      <td>15</td>\n",
       "    </tr>\n",
       "    <tr>\n",
       "      <th rowspan=\"2\" valign=\"top\">2020</th>\n",
       "      <th>East</th>\n",
       "      <td>16</td>\n",
       "    </tr>\n",
       "    <tr>\n",
       "      <th>West</th>\n",
       "      <td>15</td>\n",
       "    </tr>\n",
       "    <tr>\n",
       "      <th rowspan=\"2\" valign=\"top\">2022</th>\n",
       "      <th>East</th>\n",
       "      <td>16</td>\n",
       "    </tr>\n",
       "    <tr>\n",
       "      <th>West</th>\n",
       "      <td>16</td>\n",
       "    </tr>\n",
       "  </tbody>\n",
       "</table>\n",
       "</div>"
      ],
      "text/plain": [
       "                 Teams\n",
       "Year Conference       \n",
       "2006 East           15\n",
       "     West           15\n",
       "2007 East           15\n",
       "     West           15\n",
       "2008 East           15\n",
       "     West           15\n",
       "2009 East           15\n",
       "     West           15\n",
       "2010 East           15\n",
       "     West           15\n",
       "2011 East           15\n",
       "     West           15\n",
       "2012 East           15\n",
       "     West           15\n",
       "2013 East           15\n",
       "     West           15\n",
       "2014 East           16\n",
       "     West           14\n",
       "2015 East           16\n",
       "     West           14\n",
       "2016 East           16\n",
       "     West           14\n",
       "2017 East           16\n",
       "     West           14\n",
       "2018 East           16\n",
       "     West           15\n",
       "2019 East           16\n",
       "     West           15\n",
       "2020 East           16\n",
       "     West           15\n",
       "2022 East           16\n",
       "     West           16"
      ]
     },
     "execution_count": 32,
     "metadata": {},
     "output_type": "execute_result"
    }
   ],
   "source": [
    "num_teams = goal_dif.groupby(['Year', 'Conference']).count()\n",
    "num_teams.drop(columns = ['Games Played', 'Goals Scored', 'GSPG', 'Goals Allowed', 'GAPG'], inplace = True)\n",
    "num_teams.rename(columns = {'Team': 'Teams'}, inplace = True)\n",
    "num_teams"
   ]
  },
  {
   "cell_type": "code",
   "execution_count": 33,
   "id": "3036ee7e",
   "metadata": {},
   "outputs": [
    {
     "data": {
      "text/html": [
       "<div>\n",
       "<style scoped>\n",
       "    .dataframe tbody tr th:only-of-type {\n",
       "        vertical-align: middle;\n",
       "    }\n",
       "\n",
       "    .dataframe tbody tr th {\n",
       "        vertical-align: top;\n",
       "    }\n",
       "\n",
       "    .dataframe thead th {\n",
       "        text-align: right;\n",
       "    }\n",
       "</style>\n",
       "<table border=\"1\" class=\"dataframe\">\n",
       "  <thead>\n",
       "    <tr style=\"text-align: right;\">\n",
       "      <th></th>\n",
       "      <th>Year</th>\n",
       "      <th>Conference</th>\n",
       "      <th>Teams</th>\n",
       "    </tr>\n",
       "  </thead>\n",
       "  <tbody>\n",
       "    <tr>\n",
       "      <th>0</th>\n",
       "      <td>2006</td>\n",
       "      <td>East</td>\n",
       "      <td>15</td>\n",
       "    </tr>\n",
       "    <tr>\n",
       "      <th>1</th>\n",
       "      <td>2006</td>\n",
       "      <td>West</td>\n",
       "      <td>15</td>\n",
       "    </tr>\n",
       "    <tr>\n",
       "      <th>2</th>\n",
       "      <td>2007</td>\n",
       "      <td>East</td>\n",
       "      <td>15</td>\n",
       "    </tr>\n",
       "    <tr>\n",
       "      <th>3</th>\n",
       "      <td>2007</td>\n",
       "      <td>West</td>\n",
       "      <td>15</td>\n",
       "    </tr>\n",
       "    <tr>\n",
       "      <th>4</th>\n",
       "      <td>2008</td>\n",
       "      <td>East</td>\n",
       "      <td>15</td>\n",
       "    </tr>\n",
       "    <tr>\n",
       "      <th>5</th>\n",
       "      <td>2008</td>\n",
       "      <td>West</td>\n",
       "      <td>15</td>\n",
       "    </tr>\n",
       "    <tr>\n",
       "      <th>6</th>\n",
       "      <td>2009</td>\n",
       "      <td>East</td>\n",
       "      <td>15</td>\n",
       "    </tr>\n",
       "    <tr>\n",
       "      <th>7</th>\n",
       "      <td>2009</td>\n",
       "      <td>West</td>\n",
       "      <td>15</td>\n",
       "    </tr>\n",
       "    <tr>\n",
       "      <th>8</th>\n",
       "      <td>2010</td>\n",
       "      <td>East</td>\n",
       "      <td>15</td>\n",
       "    </tr>\n",
       "    <tr>\n",
       "      <th>9</th>\n",
       "      <td>2010</td>\n",
       "      <td>West</td>\n",
       "      <td>15</td>\n",
       "    </tr>\n",
       "    <tr>\n",
       "      <th>10</th>\n",
       "      <td>2011</td>\n",
       "      <td>East</td>\n",
       "      <td>15</td>\n",
       "    </tr>\n",
       "    <tr>\n",
       "      <th>11</th>\n",
       "      <td>2011</td>\n",
       "      <td>West</td>\n",
       "      <td>15</td>\n",
       "    </tr>\n",
       "    <tr>\n",
       "      <th>12</th>\n",
       "      <td>2012</td>\n",
       "      <td>East</td>\n",
       "      <td>15</td>\n",
       "    </tr>\n",
       "    <tr>\n",
       "      <th>13</th>\n",
       "      <td>2012</td>\n",
       "      <td>West</td>\n",
       "      <td>15</td>\n",
       "    </tr>\n",
       "    <tr>\n",
       "      <th>14</th>\n",
       "      <td>2013</td>\n",
       "      <td>East</td>\n",
       "      <td>15</td>\n",
       "    </tr>\n",
       "    <tr>\n",
       "      <th>15</th>\n",
       "      <td>2013</td>\n",
       "      <td>West</td>\n",
       "      <td>15</td>\n",
       "    </tr>\n",
       "    <tr>\n",
       "      <th>16</th>\n",
       "      <td>2014</td>\n",
       "      <td>East</td>\n",
       "      <td>16</td>\n",
       "    </tr>\n",
       "    <tr>\n",
       "      <th>17</th>\n",
       "      <td>2014</td>\n",
       "      <td>West</td>\n",
       "      <td>14</td>\n",
       "    </tr>\n",
       "    <tr>\n",
       "      <th>18</th>\n",
       "      <td>2015</td>\n",
       "      <td>East</td>\n",
       "      <td>16</td>\n",
       "    </tr>\n",
       "    <tr>\n",
       "      <th>19</th>\n",
       "      <td>2015</td>\n",
       "      <td>West</td>\n",
       "      <td>14</td>\n",
       "    </tr>\n",
       "    <tr>\n",
       "      <th>20</th>\n",
       "      <td>2016</td>\n",
       "      <td>East</td>\n",
       "      <td>16</td>\n",
       "    </tr>\n",
       "    <tr>\n",
       "      <th>21</th>\n",
       "      <td>2016</td>\n",
       "      <td>West</td>\n",
       "      <td>14</td>\n",
       "    </tr>\n",
       "    <tr>\n",
       "      <th>22</th>\n",
       "      <td>2017</td>\n",
       "      <td>East</td>\n",
       "      <td>16</td>\n",
       "    </tr>\n",
       "    <tr>\n",
       "      <th>23</th>\n",
       "      <td>2017</td>\n",
       "      <td>West</td>\n",
       "      <td>14</td>\n",
       "    </tr>\n",
       "    <tr>\n",
       "      <th>24</th>\n",
       "      <td>2018</td>\n",
       "      <td>East</td>\n",
       "      <td>16</td>\n",
       "    </tr>\n",
       "    <tr>\n",
       "      <th>25</th>\n",
       "      <td>2018</td>\n",
       "      <td>West</td>\n",
       "      <td>15</td>\n",
       "    </tr>\n",
       "    <tr>\n",
       "      <th>26</th>\n",
       "      <td>2019</td>\n",
       "      <td>East</td>\n",
       "      <td>16</td>\n",
       "    </tr>\n",
       "    <tr>\n",
       "      <th>27</th>\n",
       "      <td>2019</td>\n",
       "      <td>West</td>\n",
       "      <td>15</td>\n",
       "    </tr>\n",
       "    <tr>\n",
       "      <th>28</th>\n",
       "      <td>2020</td>\n",
       "      <td>East</td>\n",
       "      <td>16</td>\n",
       "    </tr>\n",
       "    <tr>\n",
       "      <th>29</th>\n",
       "      <td>2020</td>\n",
       "      <td>West</td>\n",
       "      <td>15</td>\n",
       "    </tr>\n",
       "    <tr>\n",
       "      <th>30</th>\n",
       "      <td>2022</td>\n",
       "      <td>East</td>\n",
       "      <td>16</td>\n",
       "    </tr>\n",
       "    <tr>\n",
       "      <th>31</th>\n",
       "      <td>2022</td>\n",
       "      <td>West</td>\n",
       "      <td>16</td>\n",
       "    </tr>\n",
       "  </tbody>\n",
       "</table>\n",
       "</div>"
      ],
      "text/plain": [
       "    Year Conference  Teams\n",
       "0   2006       East     15\n",
       "1   2006       West     15\n",
       "2   2007       East     15\n",
       "3   2007       West     15\n",
       "4   2008       East     15\n",
       "5   2008       West     15\n",
       "6   2009       East     15\n",
       "7   2009       West     15\n",
       "8   2010       East     15\n",
       "9   2010       West     15\n",
       "10  2011       East     15\n",
       "11  2011       West     15\n",
       "12  2012       East     15\n",
       "13  2012       West     15\n",
       "14  2013       East     15\n",
       "15  2013       West     15\n",
       "16  2014       East     16\n",
       "17  2014       West     14\n",
       "18  2015       East     16\n",
       "19  2015       West     14\n",
       "20  2016       East     16\n",
       "21  2016       West     14\n",
       "22  2017       East     16\n",
       "23  2017       West     14\n",
       "24  2018       East     16\n",
       "25  2018       West     15\n",
       "26  2019       East     16\n",
       "27  2019       West     15\n",
       "28  2020       East     16\n",
       "29  2020       West     15\n",
       "30  2022       East     16\n",
       "31  2022       West     16"
      ]
     },
     "execution_count": 33,
     "metadata": {},
     "output_type": "execute_result"
    }
   ],
   "source": [
    "teams_analysis = num_teams.reset_index()\n",
    "teams_analysis"
   ]
  },
  {
   "cell_type": "code",
   "execution_count": 34,
   "id": "d8e55171",
   "metadata": {},
   "outputs": [],
   "source": [
    "east = teams_analysis[teams_analysis.Conference == 'East'].copy()\n",
    "west = teams_analysis[teams_analysis.Conference == 'West'].copy()"
   ]
  },
  {
   "cell_type": "code",
   "execution_count": 35,
   "id": "7b1d8418",
   "metadata": {},
   "outputs": [
    {
     "data": {
      "text/html": [
       "<div>\n",
       "<style scoped>\n",
       "    .dataframe tbody tr th:only-of-type {\n",
       "        vertical-align: middle;\n",
       "    }\n",
       "\n",
       "    .dataframe tbody tr th {\n",
       "        vertical-align: top;\n",
       "    }\n",
       "\n",
       "    .dataframe thead th {\n",
       "        text-align: right;\n",
       "    }\n",
       "</style>\n",
       "<table border=\"1\" class=\"dataframe\">\n",
       "  <thead>\n",
       "    <tr style=\"text-align: right;\">\n",
       "      <th></th>\n",
       "      <th>Year</th>\n",
       "      <th>Conference</th>\n",
       "      <th>Teams</th>\n",
       "    </tr>\n",
       "  </thead>\n",
       "  <tbody>\n",
       "    <tr>\n",
       "      <th>0</th>\n",
       "      <td>2006</td>\n",
       "      <td>East</td>\n",
       "      <td>15</td>\n",
       "    </tr>\n",
       "    <tr>\n",
       "      <th>1</th>\n",
       "      <td>2007</td>\n",
       "      <td>East</td>\n",
       "      <td>15</td>\n",
       "    </tr>\n",
       "    <tr>\n",
       "      <th>2</th>\n",
       "      <td>2008</td>\n",
       "      <td>East</td>\n",
       "      <td>15</td>\n",
       "    </tr>\n",
       "    <tr>\n",
       "      <th>3</th>\n",
       "      <td>2009</td>\n",
       "      <td>East</td>\n",
       "      <td>15</td>\n",
       "    </tr>\n",
       "    <tr>\n",
       "      <th>4</th>\n",
       "      <td>2010</td>\n",
       "      <td>East</td>\n",
       "      <td>15</td>\n",
       "    </tr>\n",
       "    <tr>\n",
       "      <th>5</th>\n",
       "      <td>2011</td>\n",
       "      <td>East</td>\n",
       "      <td>15</td>\n",
       "    </tr>\n",
       "    <tr>\n",
       "      <th>6</th>\n",
       "      <td>2012</td>\n",
       "      <td>East</td>\n",
       "      <td>15</td>\n",
       "    </tr>\n",
       "    <tr>\n",
       "      <th>7</th>\n",
       "      <td>2013</td>\n",
       "      <td>East</td>\n",
       "      <td>15</td>\n",
       "    </tr>\n",
       "    <tr>\n",
       "      <th>8</th>\n",
       "      <td>2014</td>\n",
       "      <td>East</td>\n",
       "      <td>16</td>\n",
       "    </tr>\n",
       "    <tr>\n",
       "      <th>9</th>\n",
       "      <td>2015</td>\n",
       "      <td>East</td>\n",
       "      <td>16</td>\n",
       "    </tr>\n",
       "    <tr>\n",
       "      <th>10</th>\n",
       "      <td>2016</td>\n",
       "      <td>East</td>\n",
       "      <td>16</td>\n",
       "    </tr>\n",
       "    <tr>\n",
       "      <th>11</th>\n",
       "      <td>2017</td>\n",
       "      <td>East</td>\n",
       "      <td>16</td>\n",
       "    </tr>\n",
       "    <tr>\n",
       "      <th>12</th>\n",
       "      <td>2018</td>\n",
       "      <td>East</td>\n",
       "      <td>16</td>\n",
       "    </tr>\n",
       "    <tr>\n",
       "      <th>13</th>\n",
       "      <td>2019</td>\n",
       "      <td>East</td>\n",
       "      <td>16</td>\n",
       "    </tr>\n",
       "    <tr>\n",
       "      <th>14</th>\n",
       "      <td>2020</td>\n",
       "      <td>East</td>\n",
       "      <td>16</td>\n",
       "    </tr>\n",
       "    <tr>\n",
       "      <th>15</th>\n",
       "      <td>2022</td>\n",
       "      <td>East</td>\n",
       "      <td>16</td>\n",
       "    </tr>\n",
       "  </tbody>\n",
       "</table>\n",
       "</div>"
      ],
      "text/plain": [
       "    Year Conference  Teams\n",
       "0   2006       East     15\n",
       "1   2007       East     15\n",
       "2   2008       East     15\n",
       "3   2009       East     15\n",
       "4   2010       East     15\n",
       "5   2011       East     15\n",
       "6   2012       East     15\n",
       "7   2013       East     15\n",
       "8   2014       East     16\n",
       "9   2015       East     16\n",
       "10  2016       East     16\n",
       "11  2017       East     16\n",
       "12  2018       East     16\n",
       "13  2019       East     16\n",
       "14  2020       East     16\n",
       "15  2022       East     16"
      ]
     },
     "execution_count": 35,
     "metadata": {},
     "output_type": "execute_result"
    }
   ],
   "source": [
    "east.reset_index(inplace = True)\n",
    "east.drop(columns = 'index', inplace = True)\n",
    "east"
   ]
  },
  {
   "cell_type": "code",
   "execution_count": 36,
   "id": "68c4e248",
   "metadata": {},
   "outputs": [
    {
     "data": {
      "text/html": [
       "<div>\n",
       "<style scoped>\n",
       "    .dataframe tbody tr th:only-of-type {\n",
       "        vertical-align: middle;\n",
       "    }\n",
       "\n",
       "    .dataframe tbody tr th {\n",
       "        vertical-align: top;\n",
       "    }\n",
       "\n",
       "    .dataframe thead th {\n",
       "        text-align: right;\n",
       "    }\n",
       "</style>\n",
       "<table border=\"1\" class=\"dataframe\">\n",
       "  <thead>\n",
       "    <tr style=\"text-align: right;\">\n",
       "      <th></th>\n",
       "      <th>Year</th>\n",
       "      <th>Conference</th>\n",
       "      <th>Teams</th>\n",
       "    </tr>\n",
       "  </thead>\n",
       "  <tbody>\n",
       "    <tr>\n",
       "      <th>0</th>\n",
       "      <td>2006</td>\n",
       "      <td>West</td>\n",
       "      <td>15</td>\n",
       "    </tr>\n",
       "    <tr>\n",
       "      <th>1</th>\n",
       "      <td>2007</td>\n",
       "      <td>West</td>\n",
       "      <td>15</td>\n",
       "    </tr>\n",
       "    <tr>\n",
       "      <th>2</th>\n",
       "      <td>2008</td>\n",
       "      <td>West</td>\n",
       "      <td>15</td>\n",
       "    </tr>\n",
       "    <tr>\n",
       "      <th>3</th>\n",
       "      <td>2009</td>\n",
       "      <td>West</td>\n",
       "      <td>15</td>\n",
       "    </tr>\n",
       "    <tr>\n",
       "      <th>4</th>\n",
       "      <td>2010</td>\n",
       "      <td>West</td>\n",
       "      <td>15</td>\n",
       "    </tr>\n",
       "    <tr>\n",
       "      <th>5</th>\n",
       "      <td>2011</td>\n",
       "      <td>West</td>\n",
       "      <td>15</td>\n",
       "    </tr>\n",
       "    <tr>\n",
       "      <th>6</th>\n",
       "      <td>2012</td>\n",
       "      <td>West</td>\n",
       "      <td>15</td>\n",
       "    </tr>\n",
       "    <tr>\n",
       "      <th>7</th>\n",
       "      <td>2013</td>\n",
       "      <td>West</td>\n",
       "      <td>15</td>\n",
       "    </tr>\n",
       "    <tr>\n",
       "      <th>8</th>\n",
       "      <td>2014</td>\n",
       "      <td>West</td>\n",
       "      <td>14</td>\n",
       "    </tr>\n",
       "    <tr>\n",
       "      <th>9</th>\n",
       "      <td>2015</td>\n",
       "      <td>West</td>\n",
       "      <td>14</td>\n",
       "    </tr>\n",
       "    <tr>\n",
       "      <th>10</th>\n",
       "      <td>2016</td>\n",
       "      <td>West</td>\n",
       "      <td>14</td>\n",
       "    </tr>\n",
       "    <tr>\n",
       "      <th>11</th>\n",
       "      <td>2017</td>\n",
       "      <td>West</td>\n",
       "      <td>14</td>\n",
       "    </tr>\n",
       "    <tr>\n",
       "      <th>12</th>\n",
       "      <td>2018</td>\n",
       "      <td>West</td>\n",
       "      <td>15</td>\n",
       "    </tr>\n",
       "    <tr>\n",
       "      <th>13</th>\n",
       "      <td>2019</td>\n",
       "      <td>West</td>\n",
       "      <td>15</td>\n",
       "    </tr>\n",
       "    <tr>\n",
       "      <th>14</th>\n",
       "      <td>2020</td>\n",
       "      <td>West</td>\n",
       "      <td>15</td>\n",
       "    </tr>\n",
       "    <tr>\n",
       "      <th>15</th>\n",
       "      <td>2022</td>\n",
       "      <td>West</td>\n",
       "      <td>16</td>\n",
       "    </tr>\n",
       "  </tbody>\n",
       "</table>\n",
       "</div>"
      ],
      "text/plain": [
       "    Year Conference  Teams\n",
       "0   2006       West     15\n",
       "1   2007       West     15\n",
       "2   2008       West     15\n",
       "3   2009       West     15\n",
       "4   2010       West     15\n",
       "5   2011       West     15\n",
       "6   2012       West     15\n",
       "7   2013       West     15\n",
       "8   2014       West     14\n",
       "9   2015       West     14\n",
       "10  2016       West     14\n",
       "11  2017       West     14\n",
       "12  2018       West     15\n",
       "13  2019       West     15\n",
       "14  2020       West     15\n",
       "15  2022       West     16"
      ]
     },
     "execution_count": 36,
     "metadata": {},
     "output_type": "execute_result"
    }
   ],
   "source": [
    "west.reset_index(inplace = True)\n",
    "west.drop(columns = 'index', inplace = True)\n",
    "west"
   ]
  },
  {
   "cell_type": "code",
   "execution_count": 37,
   "id": "14e85314",
   "metadata": {},
   "outputs": [
    {
     "data": {
      "text/html": [
       "<div>\n",
       "<style scoped>\n",
       "    .dataframe tbody tr th:only-of-type {\n",
       "        vertical-align: middle;\n",
       "    }\n",
       "\n",
       "    .dataframe tbody tr th {\n",
       "        vertical-align: top;\n",
       "    }\n",
       "\n",
       "    .dataframe thead th {\n",
       "        text-align: right;\n",
       "    }\n",
       "</style>\n",
       "<table border=\"1\" class=\"dataframe\">\n",
       "  <thead>\n",
       "    <tr style=\"text-align: right;\">\n",
       "      <th></th>\n",
       "      <th>Year</th>\n",
       "      <th>Conference_x</th>\n",
       "      <th>Teams_x</th>\n",
       "      <th>Conference_y</th>\n",
       "      <th>Teams_y</th>\n",
       "      <th>Combinations</th>\n",
       "    </tr>\n",
       "  </thead>\n",
       "  <tbody>\n",
       "    <tr>\n",
       "      <th>0</th>\n",
       "      <td>2006</td>\n",
       "      <td>East</td>\n",
       "      <td>15</td>\n",
       "      <td>West</td>\n",
       "      <td>15</td>\n",
       "      <td>225</td>\n",
       "    </tr>\n",
       "    <tr>\n",
       "      <th>1</th>\n",
       "      <td>2007</td>\n",
       "      <td>East</td>\n",
       "      <td>15</td>\n",
       "      <td>West</td>\n",
       "      <td>15</td>\n",
       "      <td>225</td>\n",
       "    </tr>\n",
       "    <tr>\n",
       "      <th>2</th>\n",
       "      <td>2008</td>\n",
       "      <td>East</td>\n",
       "      <td>15</td>\n",
       "      <td>West</td>\n",
       "      <td>15</td>\n",
       "      <td>225</td>\n",
       "    </tr>\n",
       "    <tr>\n",
       "      <th>3</th>\n",
       "      <td>2009</td>\n",
       "      <td>East</td>\n",
       "      <td>15</td>\n",
       "      <td>West</td>\n",
       "      <td>15</td>\n",
       "      <td>225</td>\n",
       "    </tr>\n",
       "    <tr>\n",
       "      <th>4</th>\n",
       "      <td>2010</td>\n",
       "      <td>East</td>\n",
       "      <td>15</td>\n",
       "      <td>West</td>\n",
       "      <td>15</td>\n",
       "      <td>225</td>\n",
       "    </tr>\n",
       "    <tr>\n",
       "      <th>5</th>\n",
       "      <td>2011</td>\n",
       "      <td>East</td>\n",
       "      <td>15</td>\n",
       "      <td>West</td>\n",
       "      <td>15</td>\n",
       "      <td>225</td>\n",
       "    </tr>\n",
       "    <tr>\n",
       "      <th>6</th>\n",
       "      <td>2012</td>\n",
       "      <td>East</td>\n",
       "      <td>15</td>\n",
       "      <td>West</td>\n",
       "      <td>15</td>\n",
       "      <td>225</td>\n",
       "    </tr>\n",
       "    <tr>\n",
       "      <th>7</th>\n",
       "      <td>2013</td>\n",
       "      <td>East</td>\n",
       "      <td>15</td>\n",
       "      <td>West</td>\n",
       "      <td>15</td>\n",
       "      <td>225</td>\n",
       "    </tr>\n",
       "    <tr>\n",
       "      <th>8</th>\n",
       "      <td>2014</td>\n",
       "      <td>East</td>\n",
       "      <td>16</td>\n",
       "      <td>West</td>\n",
       "      <td>14</td>\n",
       "      <td>224</td>\n",
       "    </tr>\n",
       "    <tr>\n",
       "      <th>9</th>\n",
       "      <td>2015</td>\n",
       "      <td>East</td>\n",
       "      <td>16</td>\n",
       "      <td>West</td>\n",
       "      <td>14</td>\n",
       "      <td>224</td>\n",
       "    </tr>\n",
       "    <tr>\n",
       "      <th>10</th>\n",
       "      <td>2016</td>\n",
       "      <td>East</td>\n",
       "      <td>16</td>\n",
       "      <td>West</td>\n",
       "      <td>14</td>\n",
       "      <td>224</td>\n",
       "    </tr>\n",
       "    <tr>\n",
       "      <th>11</th>\n",
       "      <td>2017</td>\n",
       "      <td>East</td>\n",
       "      <td>16</td>\n",
       "      <td>West</td>\n",
       "      <td>14</td>\n",
       "      <td>224</td>\n",
       "    </tr>\n",
       "    <tr>\n",
       "      <th>12</th>\n",
       "      <td>2018</td>\n",
       "      <td>East</td>\n",
       "      <td>16</td>\n",
       "      <td>West</td>\n",
       "      <td>15</td>\n",
       "      <td>240</td>\n",
       "    </tr>\n",
       "    <tr>\n",
       "      <th>13</th>\n",
       "      <td>2019</td>\n",
       "      <td>East</td>\n",
       "      <td>16</td>\n",
       "      <td>West</td>\n",
       "      <td>15</td>\n",
       "      <td>240</td>\n",
       "    </tr>\n",
       "    <tr>\n",
       "      <th>14</th>\n",
       "      <td>2020</td>\n",
       "      <td>East</td>\n",
       "      <td>16</td>\n",
       "      <td>West</td>\n",
       "      <td>15</td>\n",
       "      <td>240</td>\n",
       "    </tr>\n",
       "    <tr>\n",
       "      <th>15</th>\n",
       "      <td>2022</td>\n",
       "      <td>East</td>\n",
       "      <td>16</td>\n",
       "      <td>West</td>\n",
       "      <td>16</td>\n",
       "      <td>256</td>\n",
       "    </tr>\n",
       "  </tbody>\n",
       "</table>\n",
       "</div>"
      ],
      "text/plain": [
       "    Year Conference_x  Teams_x Conference_y  Teams_y  Combinations\n",
       "0   2006         East       15         West       15           225\n",
       "1   2007         East       15         West       15           225\n",
       "2   2008         East       15         West       15           225\n",
       "3   2009         East       15         West       15           225\n",
       "4   2010         East       15         West       15           225\n",
       "5   2011         East       15         West       15           225\n",
       "6   2012         East       15         West       15           225\n",
       "7   2013         East       15         West       15           225\n",
       "8   2014         East       16         West       14           224\n",
       "9   2015         East       16         West       14           224\n",
       "10  2016         East       16         West       14           224\n",
       "11  2017         East       16         West       14           224\n",
       "12  2018         East       16         West       15           240\n",
       "13  2019         East       16         West       15           240\n",
       "14  2020         East       16         West       15           240\n",
       "15  2022         East       16         West       16           256"
      ]
     },
     "execution_count": 37,
     "metadata": {},
     "output_type": "execute_result"
    }
   ],
   "source": [
    "final_con = pd.merge(east, west, how = 'inner', on = 'Year')\n",
    "final_con['Combinations'] = final_con['Teams_x'] * final_con['Teams_y']\n",
    "final_con"
   ]
  },
  {
   "cell_type": "code",
   "execution_count": 38,
   "id": "0adb8793",
   "metadata": {},
   "outputs": [
    {
     "data": {
      "text/plain": [
       "3672"
      ]
     },
     "execution_count": 38,
     "metadata": {},
     "output_type": "execute_result"
    }
   ],
   "source": [
    "total_comb = final_con.Combinations.sum()\n",
    "total_comb"
   ]
  },
  {
   "cell_type": "code",
   "execution_count": 102,
   "id": "a242f70d",
   "metadata": {},
   "outputs": [
    {
     "data": {
      "text/plain": [
       "0.9978213507625272"
      ]
     },
     "execution_count": 102,
     "metadata": {},
     "output_type": "execute_result"
    }
   ],
   "source": [
    "1 - (len(final_df) / total_comb)"
   ]
  },
  {
   "cell_type": "markdown",
   "id": "6deaf5cc",
   "metadata": {},
   "source": [
    "Therefore, my final conclusion is that about 99.8% of NHL non-conference games should be intentionally taken into OT to maximize each team's expected number of points. This is a reasonable outcome because of how stupid the NHL's overtime loss system is."
   ]
  }
 ],
 "metadata": {
  "kernelspec": {
   "display_name": "Python 3 (ipykernel)",
   "language": "python",
   "name": "python3"
  },
  "language_info": {
   "codemirror_mode": {
    "name": "ipython",
    "version": 3
   },
   "file_extension": ".py",
   "mimetype": "text/x-python",
   "name": "python",
   "nbconvert_exporter": "python",
   "pygments_lexer": "ipython3",
   "version": "3.10.7"
  }
 },
 "nbformat": 4,
 "nbformat_minor": 5
}
